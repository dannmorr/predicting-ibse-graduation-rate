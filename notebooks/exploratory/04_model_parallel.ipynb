{
 "cells": [
  {
   "cell_type": "markdown",
   "metadata": {},
   "source": [
    "# Modeling "
   ]
  },
  {
   "cell_type": "code",
   "execution_count": null,
   "metadata": {},
   "outputs": [],
   "source": []
  },
  {
   "cell_type": "code",
   "execution_count": null,
   "metadata": {},
   "outputs": [],
   "source": []
  },
  {
   "cell_type": "code",
   "execution_count": 1,
   "metadata": {},
   "outputs": [],
   "source": [
    "%load_ext autoreload\n",
    "%autoreload 2\n",
    "import os\n",
    "import sys\n",
    "module_path = os.path.abspath(os.path.join(os.pardir, os.pardir))\n",
    "if module_path not in sys.path:\n",
    "    sys.path.append(module_path)"
   ]
  },
  {
   "cell_type": "code",
   "execution_count": 2,
   "metadata": {},
   "outputs": [
    {
     "name": "stderr",
     "output_type": "stream",
     "text": [
      "/opt/anaconda3/lib/python3.7/site-packages/statsmodels/tools/_testing.py:19: FutureWarning: pandas.util.testing is deprecated. Use the functions in the public API at pandas.testing instead.\n",
      "  import pandas.util.testing as tm\n"
     ]
    }
   ],
   "source": [
    "# import standard libraries\n",
    "import numpy as np\n",
    "import pandas as pd\n",
    "import matplotlib.pyplot as plt\n",
    "%matplotlib inline\n",
    "\n",
    "import seaborn as sns \n",
    "\n",
    "\n",
    "# import additional libraries\n",
    "import statsmodels.api as sm\n",
    "import statsmodels.formula.api as smf\n",
    "from statsmodels.formula.api import ols\n",
    "\n",
    "# functions from .py file\n",
    "import src.eda_functions as fun\n",
    "\n",
    "\n",
    "# Machine Learning Models\n",
    "from sklearn.preprocessing import StandardScaler, OneHotEncoder\n",
    "from sklearn.linear_model import LinearRegression, Lasso, Ridge\n",
    "from sklearn.ensemble import RandomForestRegressor, GradientBoostingRegressor, ExtraTreesRegressor\n",
    "from sklearn.svm import SVR\n",
    "from sklearn.neighbors import KNeighborsRegressor\n",
    "from sklearn.model_selection import  cross_val_score\n",
    "from sklearn.metrics import r2_score, SCORERS\n",
    "from sklearn.model_selection import RandomizedSearchCV, GridSearchCV\n",
    "\n",
    "# turn off warnings\n",
    "import warnings\n",
    "warnings.simplefilter('ignore', category = DeprecationWarning)\n",
    "warnings.simplefilter('ignore', category = FutureWarning)"
   ]
  },
  {
   "cell_type": "markdown",
   "metadata": {},
   "source": [
    "read in merged_data file"
   ]
  },
  {
   "cell_type": "code",
   "execution_count": 20,
   "metadata": {},
   "outputs": [],
   "source": [
    "data = pd.read_csv('../../data/train_set.csv')\n",
    "val_set = pd.read_csv('../../data/val_set.csv')\n",
    "test_set = pd.read_csv('../../data/test_set.csv')"
   ]
  },
  {
   "cell_type": "code",
   "execution_count": 21,
   "metadata": {},
   "outputs": [],
   "source": [
    "data = data.drop(['number_students_who_took_ap_classes_grade_12_total', 'number_students_who_took_ap_classes_grade_11_total', 'number_students_who_took_ap_classes_grade_10_total'], axis=1)"
   ]
  },
  {
   "cell_type": "code",
   "execution_count": 23,
   "metadata": {},
   "outputs": [],
   "source": [
    "val_set = val_set.drop(['number_students_who_took_ap_classes_grade_12_total', 'number_students_who_took_ap_classes_grade_11_total', 'number_students_who_took_ap_classes_grade_10_total'], axis=1)"
   ]
  },
  {
   "cell_type": "code",
   "execution_count": 24,
   "metadata": {},
   "outputs": [],
   "source": [
    "test_set = test_set.drop(['number_students_who_took_ap_classes_grade_12_total', 'number_students_who_took_ap_classes_grade_11_total', 'number_students_who_took_ap_classes_grade_10_total'], axis=1)"
   ]
  },
  {
   "cell_type": "code",
   "execution_count": 25,
   "metadata": {},
   "outputs": [],
   "source": [
    "data['cohort'] = data['cohort'].astype('object')"
   ]
  },
  {
   "cell_type": "markdown",
   "metadata": {},
   "source": [
    "# 1. Replace nans with zeros"
   ]
  },
  {
   "cell_type": "code",
   "execution_count": 26,
   "metadata": {},
   "outputs": [
    {
     "data": {
      "text/plain": [
       "teacher_retention_rate                                                        732\n",
       "pupil_teacher_ratio_high_school                                               682\n",
       "avg_class_size_high_school                                                     34\n",
       "high_school_dropout_rate_total                                                  2\n",
       "county                                                                          0\n",
       "percent_student_enrollment_white                                                0\n",
       "grades_served                                                                   0\n",
       "school_type                                                                     0\n",
       "district_size                                                                   0\n",
       "district_type                                                                   0\n",
       "percent_9th_grade_on_track                                                      0\n",
       "city                                                                            0\n",
       "percent_student_enrollment_hispanic_or_latino                                   0\n",
       "district                                                                        0\n",
       "school_name                                                                     0\n",
       "rcdts                                                                           0\n",
       "percent_student_enrollment_black_or_african_american                            0\n",
       "percent_student_enrollment_native_hawaiian_or_other_pacific_islander            0\n",
       "percent_student_enrollment_asian                                                0\n",
       "percent_graduates_enrolled_in_a_postsecondary_institution_within_12_months      0\n",
       "percent_student_enrollment_american_indian_or_alaska_native                     0\n",
       "percent_student_enrollment_two_or_more_races                                    0\n",
       "number_student_enrollment                                                       0\n",
       "total_number_of_school_days                                                     0\n",
       "student_attendance_rate                                                         0\n",
       "student_chronic_truancy_rate                                                    0\n",
       "high_school_4_year_graduation_rate_total                                        0\n",
       "high_school_5_year_graduation_rate_total                                        0\n",
       "percent_graduates_enrolled_in_a_postsecondary_institution_within_16_months      0\n",
       "cohort                                                                          0\n",
       "dtype: int64"
      ]
     },
     "execution_count": 26,
     "metadata": {},
     "output_type": "execute_result"
    }
   ],
   "source": [
    "zeros = data.loc[:, ('high_school_4_year_graduation_rate_total',\n",
    "                        'high_school_5_year_graduation_rate_total',\n",
    "                        'percent_graduates_enrolled_in_a_postsecondary_institution_within_16_months',\n",
    "                        'percent_graduates_enrolled_in_a_postsecondary_institution_within_12_months',\n",
    "                        'percent_9th_grade_on_track')]\n",
    "\n",
    "for zero in zeros:\n",
    "    data[zero].fillna(0, inplace=True)\n",
    "    \n",
    "data.isnull().sum().sort_values(ascending=False)"
   ]
  },
  {
   "cell_type": "markdown",
   "metadata": {},
   "source": [
    "# 2. Replace nans with mean()\n"
   ]
  },
  {
   "cell_type": "markdown",
   "metadata": {},
   "source": [
    "Use SimpleImputer to replace NaNs with mean value"
   ]
  },
  {
   "cell_type": "code",
   "execution_count": 27,
   "metadata": {},
   "outputs": [],
   "source": [
    "# identify features\n",
    "train_features = data.loc[:, ('teacher_retention_rate', 'pupil_teacher_ratio_high_school', \n",
    "                              'avg_class_size_high_school', 'high_school_dropout_rate_total', \n",
    "                             'total_number_of_school_days', 'student_attendance_rate', 'student_chronic_truancy_rate')]\n",
    "\n",
    "val_features = val_set.loc[:, ('teacher_retention_rate', 'pupil_teacher_ratio_high_school', \n",
    "                                'avg_class_size_high_school', 'high_school_dropout_rate_total', \n",
    "                               'total_number_of_school_days', 'student_attendance_rate', 'student_chronic_truancy_rate')]\n",
    "\n",
    "test_features = test_set.loc[:, ('teacher_retention_rate', 'pupil_teacher_ratio_high_school', \n",
    "                                 'avg_class_size_high_school', 'high_school_dropout_rate_total', \n",
    "                                 'total_number_of_school_days','student_attendance_rate', 'student_chronic_truancy_rate' )]"
   ]
  },
  {
   "cell_type": "code",
   "execution_count": 28,
   "metadata": {},
   "outputs": [],
   "source": [
    "from sklearn.impute import SimpleImputer\n",
    "\n",
    "# Create an imputer object with a median filling strategy\n",
    "imputer = SimpleImputer(strategy='median')\n",
    "\n",
    "# Train on the training features\n",
    "imputer.fit(train_features)\n",
    "\n",
    "# Transform both training data and testing data\n",
    "X_imp= imputer.transform(train_features)\n",
    "X_v_imp = imputer.transform(val_features)\n",
    "X_test_imp = imputer.transform(test_features)\n"
   ]
  },
  {
   "cell_type": "markdown",
   "metadata": {},
   "source": [
    "#### Train set"
   ]
  },
  {
   "cell_type": "code",
   "execution_count": 29,
   "metadata": {},
   "outputs": [],
   "source": [
    "# convert to DataFrame\n",
    "X_imp_processed = pd.DataFrame(X_imp, columns=train_features.columns)\n",
    "# replace NaNs with mean values\n",
    "\n",
    "data.loc[:, ('teacher_retention_rate', 'pupil_teacher_ratio_high_school', \n",
    "            'avg_class_size_high_school', 'high_school_dropout_rate_total'\n",
    "            )]= X_imp_processed.loc[:, ('teacher_retention_rate', 'pupil_teacher_ratio_high_school', \n",
    "                                        'avg_class_size_high_school', 'high_school_dropout_rate_total')]"
   ]
  },
  {
   "cell_type": "markdown",
   "metadata": {},
   "source": [
    "#### Val set"
   ]
  },
  {
   "cell_type": "code",
   "execution_count": 30,
   "metadata": {},
   "outputs": [
    {
     "name": "stdout",
     "output_type": "stream",
     "text": [
      "<class 'pandas.core.frame.DataFrame'>\n",
      "RangeIndex: 721 entries, 0 to 720\n",
      "Data columns (total 30 columns):\n",
      " #   Column                                                                      Non-Null Count  Dtype  \n",
      "---  ------                                                                      --------------  -----  \n",
      " 0   cohort                                                                      721 non-null    int64  \n",
      " 1   rcdts                                                                       721 non-null    object \n",
      " 2   school_name                                                                 721 non-null    object \n",
      " 3   district                                                                    721 non-null    object \n",
      " 4   city                                                                        721 non-null    object \n",
      " 5   county                                                                      721 non-null    object \n",
      " 6   district_type                                                               721 non-null    object \n",
      " 7   district_size                                                               721 non-null    object \n",
      " 8   school_type                                                                 721 non-null    object \n",
      " 9   grades_served                                                               721 non-null    object \n",
      " 10  percent_student_enrollment_white                                            721 non-null    float64\n",
      " 11  percent_student_enrollment_black_or_african_american                        721 non-null    float64\n",
      " 12  percent_student_enrollment_hispanic_or_latino                               721 non-null    float64\n",
      " 13  percent_student_enrollment_asian                                            721 non-null    float64\n",
      " 14  percent_student_enrollment_native_hawaiian_or_other_pacific_islander        721 non-null    float64\n",
      " 15  percent_student_enrollment_american_indian_or_alaska_native                 721 non-null    float64\n",
      " 16  percent_student_enrollment_two_or_more_races                                721 non-null    float64\n",
      " 17  number_student_enrollment                                                   721 non-null    float64\n",
      " 18  total_number_of_school_days                                                 721 non-null    float64\n",
      " 19  student_attendance_rate                                                     721 non-null    float64\n",
      " 20  student_chronic_truancy_rate                                                721 non-null    float64\n",
      " 21  high_school_dropout_rate_total                                              721 non-null    float64\n",
      " 22  high_school_4_year_graduation_rate_total                                    721 non-null    float64\n",
      " 23  high_school_5_year_graduation_rate_total                                    721 non-null    float64\n",
      " 24  avg_class_size_high_school                                                  721 non-null    float64\n",
      " 25  pupil_teacher_ratio_high_school                                             721 non-null    float64\n",
      " 26  teacher_retention_rate                                                      721 non-null    float64\n",
      " 27  percent_graduates_enrolled_in_a_postsecondary_institution_within_16_months  721 non-null    float64\n",
      " 28  percent_graduates_enrolled_in_a_postsecondary_institution_within_12_months  721 non-null    float64\n",
      " 29  percent_9th_grade_on_track                                                  721 non-null    float64\n",
      "dtypes: float64(20), int64(1), object(9)\n",
      "memory usage: 169.1+ KB\n"
     ]
    }
   ],
   "source": [
    "# convert to DataFrame\n",
    "X_v_imp_processed = pd.DataFrame(X_v_imp, columns=val_features.columns)\n",
    "# replace NaNs with mean values\n",
    "\n",
    "val_set.loc[:, ('teacher_retention_rate', 'pupil_teacher_ratio_high_school', \n",
    "            'avg_class_size_high_school', 'high_school_dropout_rate_total', 'total_number_of_school_days', \n",
    "                'student_attendance_rate', 'student_chronic_truancy_rate'\n",
    "            )]= X_v_imp_processed.loc[:, ('teacher_retention_rate', 'pupil_teacher_ratio_high_school', \n",
    "            'avg_class_size_high_school', 'high_school_dropout_rate_total', 'total_number_of_school_days', \n",
    "                                          'student_attendance_rate', 'student_chronic_truancy_rate')]\n",
    "\n",
    "val_set.info()"
   ]
  },
  {
   "cell_type": "markdown",
   "metadata": {},
   "source": [
    "#### Test set"
   ]
  },
  {
   "cell_type": "code",
   "execution_count": 31,
   "metadata": {},
   "outputs": [],
   "source": [
    "# convert to DataFrame\n",
    "X_test_imp_processed = pd.DataFrame(X_test_imp, columns=test_features.columns)\n",
    "# replace NaNs with mean values\n",
    "\n",
    "test_set.loc[:, ('teacher_retention_rate', 'pupil_teacher_ratio_high_school', \n",
    "                 'avg_class_size_high_school', 'high_school_dropout_rate_total', 'total_number_of_school_days','student_attendance_rate', 'student_chronic_truancy_rate'\n",
    "            )]= X_test_imp_processed.loc[:, ('teacher_retention_rate', 'pupil_teacher_ratio_high_school', \n",
    "                'avg_class_size_high_school', 'high_school_dropout_rate_total', 'total_number_of_school_days', \n",
    "                'student_attendance_rate', 'student_chronic_truancy_rate')]"
   ]
  },
  {
   "cell_type": "code",
   "execution_count": 32,
   "metadata": {},
   "outputs": [
    {
     "name": "stdout",
     "output_type": "stream",
     "text": [
      "<class 'pandas.core.frame.DataFrame'>\n",
      "RangeIndex: 3403 entries, 0 to 3402\n",
      "Data columns (total 20 columns):\n",
      " #   Column                                                                      Non-Null Count  Dtype  \n",
      "---  ------                                                                      --------------  -----  \n",
      " 0   percent_student_enrollment_white                                            3403 non-null   float64\n",
      " 1   percent_student_enrollment_black_or_african_american                        3403 non-null   float64\n",
      " 2   percent_student_enrollment_hispanic_or_latino                               3403 non-null   float64\n",
      " 3   percent_student_enrollment_asian                                            3403 non-null   float64\n",
      " 4   percent_student_enrollment_native_hawaiian_or_other_pacific_islander        3403 non-null   float64\n",
      " 5   percent_student_enrollment_american_indian_or_alaska_native                 3403 non-null   float64\n",
      " 6   percent_student_enrollment_two_or_more_races                                3403 non-null   float64\n",
      " 7   number_student_enrollment                                                   3403 non-null   int64  \n",
      " 8   total_number_of_school_days                                                 3403 non-null   int64  \n",
      " 9   student_attendance_rate                                                     3403 non-null   float64\n",
      " 10  student_chronic_truancy_rate                                                3403 non-null   float64\n",
      " 11  high_school_dropout_rate_total                                              3403 non-null   float64\n",
      " 12  high_school_4_year_graduation_rate_total                                    3403 non-null   float64\n",
      " 13  high_school_5_year_graduation_rate_total                                    3403 non-null   float64\n",
      " 14  avg_class_size_high_school                                                  3403 non-null   float64\n",
      " 15  pupil_teacher_ratio_high_school                                             3403 non-null   float64\n",
      " 16  teacher_retention_rate                                                      3403 non-null   float64\n",
      " 17  percent_graduates_enrolled_in_a_postsecondary_institution_within_16_months  3403 non-null   float64\n",
      " 18  percent_graduates_enrolled_in_a_postsecondary_institution_within_12_months  3403 non-null   float64\n",
      " 19  percent_9th_grade_on_track                                                  3403 non-null   float64\n",
      "dtypes: float64(18), int64(2)\n",
      "memory usage: 531.8 KB\n"
     ]
    }
   ],
   "source": [
    "data_num = data.select_dtypes(['float64', 'int64'])\n",
    "data_num.info()"
   ]
  },
  {
   "cell_type": "markdown",
   "metadata": {},
   "source": [
    "# Train Test Split\n",
    "- Train set = data_df\n",
    "- Validation set = hs_18\n",
    "- Test set = hs_19"
   ]
  },
  {
   "cell_type": "code",
   "execution_count": 33,
   "metadata": {},
   "outputs": [],
   "source": [
    "X_train = data.drop('high_school_4_year_graduation_rate_total', axis=1)\n",
    "y_train = data.high_school_4_year_graduation_rate_total\n",
    "\n",
    "\n",
    "X_val = val_set.drop('high_school_4_year_graduation_rate_total', axis=1)\n",
    "y_val = val_set.high_school_4_year_graduation_rate_total\n",
    "\n",
    "X_test = test_set.drop('high_school_4_year_graduation_rate_total', axis=1)\n",
    "y_test = test_set.high_school_4_year_graduation_rate_total"
   ]
  },
  {
   "cell_type": "code",
   "execution_count": 34,
   "metadata": {},
   "outputs": [],
   "source": [
    "X_val['cohort'] = X_val['cohort'].astype('category')\n",
    "X_test['cohort'] = X_test['cohort'].astype('category')"
   ]
  },
  {
   "cell_type": "markdown",
   "metadata": {},
   "source": [
    "# Scaling Numeric features\n",
    "- Standard Scaler?\n",
    "- MinMaxScaler?"
   ]
  },
  {
   "cell_type": "code",
   "execution_count": 67,
   "metadata": {},
   "outputs": [],
   "source": [
    "X_train_num = X_train.select_dtypes(['float64', 'int64'])\n",
    "X_val_num = X_val.select_dtypes(['float64', 'int64'])\n",
    "X_test_num = X_test.select_dtypes(['float64', 'int64'])"
   ]
  },
  {
   "cell_type": "code",
   "execution_count": 60,
   "metadata": {},
   "outputs": [
    {
     "data": {
      "text/html": [
       "<div>\n",
       "<style scoped>\n",
       "    .dataframe tbody tr th:only-of-type {\n",
       "        vertical-align: middle;\n",
       "    }\n",
       "\n",
       "    .dataframe tbody tr th {\n",
       "        vertical-align: top;\n",
       "    }\n",
       "\n",
       "    .dataframe thead th {\n",
       "        text-align: right;\n",
       "    }\n",
       "</style>\n",
       "<table border=\"1\" class=\"dataframe\">\n",
       "  <thead>\n",
       "    <tr style=\"text-align: right;\">\n",
       "      <th></th>\n",
       "      <th>percent_student_enrollment_white</th>\n",
       "      <th>percent_student_enrollment_black_or_african_american</th>\n",
       "      <th>percent_student_enrollment_hispanic_or_latino</th>\n",
       "      <th>percent_student_enrollment_asian</th>\n",
       "      <th>percent_student_enrollment_native_hawaiian_or_other_pacific_islander</th>\n",
       "      <th>percent_student_enrollment_american_indian_or_alaska_native</th>\n",
       "      <th>percent_student_enrollment_two_or_more_races</th>\n",
       "      <th>number_student_enrollment</th>\n",
       "      <th>total_number_of_school_days</th>\n",
       "      <th>student_attendance_rate</th>\n",
       "      <th>student_chronic_truancy_rate</th>\n",
       "      <th>high_school_dropout_rate_total</th>\n",
       "      <th>high_school_5_year_graduation_rate_total</th>\n",
       "      <th>avg_class_size_high_school</th>\n",
       "      <th>pupil_teacher_ratio_high_school</th>\n",
       "      <th>teacher_retention_rate</th>\n",
       "      <th>percent_graduates_enrolled_in_a_postsecondary_institution_within_16_months</th>\n",
       "      <th>percent_graduates_enrolled_in_a_postsecondary_institution_within_12_months</th>\n",
       "      <th>percent_9th_grade_on_track</th>\n",
       "    </tr>\n",
       "  </thead>\n",
       "  <tbody>\n",
       "    <tr>\n",
       "      <th>0</th>\n",
       "      <td>98.2</td>\n",
       "      <td>0.0</td>\n",
       "      <td>0.0</td>\n",
       "      <td>0.0</td>\n",
       "      <td>0.0</td>\n",
       "      <td>0.5</td>\n",
       "      <td>1.4</td>\n",
       "      <td>222</td>\n",
       "      <td>174</td>\n",
       "      <td>96.0</td>\n",
       "      <td>2.3</td>\n",
       "      <td>1.4</td>\n",
       "      <td>94.1</td>\n",
       "      <td>11.1</td>\n",
       "      <td>17.9</td>\n",
       "      <td>87.1</td>\n",
       "      <td>0.0</td>\n",
       "      <td>0.0</td>\n",
       "      <td>0.0</td>\n",
       "    </tr>\n",
       "    <tr>\n",
       "      <th>1</th>\n",
       "      <td>99.0</td>\n",
       "      <td>0.0</td>\n",
       "      <td>0.3</td>\n",
       "      <td>0.0</td>\n",
       "      <td>0.0</td>\n",
       "      <td>0.0</td>\n",
       "      <td>0.7</td>\n",
       "      <td>288</td>\n",
       "      <td>176</td>\n",
       "      <td>95.8</td>\n",
       "      <td>1.8</td>\n",
       "      <td>0.5</td>\n",
       "      <td>93.8</td>\n",
       "      <td>29.5</td>\n",
       "      <td>17.9</td>\n",
       "      <td>87.1</td>\n",
       "      <td>0.0</td>\n",
       "      <td>0.0</td>\n",
       "      <td>0.0</td>\n",
       "    </tr>\n",
       "    <tr>\n",
       "      <th>2</th>\n",
       "      <td>97.8</td>\n",
       "      <td>0.0</td>\n",
       "      <td>0.0</td>\n",
       "      <td>0.0</td>\n",
       "      <td>0.4</td>\n",
       "      <td>0.0</td>\n",
       "      <td>1.8</td>\n",
       "      <td>273</td>\n",
       "      <td>175</td>\n",
       "      <td>93.3</td>\n",
       "      <td>5.7</td>\n",
       "      <td>0.0</td>\n",
       "      <td>89.7</td>\n",
       "      <td>12.7</td>\n",
       "      <td>17.9</td>\n",
       "      <td>87.1</td>\n",
       "      <td>0.0</td>\n",
       "      <td>0.0</td>\n",
       "      <td>0.0</td>\n",
       "    </tr>\n",
       "    <tr>\n",
       "      <th>3</th>\n",
       "      <td>98.6</td>\n",
       "      <td>0.5</td>\n",
       "      <td>0.0</td>\n",
       "      <td>0.5</td>\n",
       "      <td>0.0</td>\n",
       "      <td>0.5</td>\n",
       "      <td>0.0</td>\n",
       "      <td>217</td>\n",
       "      <td>175</td>\n",
       "      <td>95.4</td>\n",
       "      <td>1.0</td>\n",
       "      <td>0.5</td>\n",
       "      <td>88.6</td>\n",
       "      <td>10.9</td>\n",
       "      <td>17.9</td>\n",
       "      <td>87.1</td>\n",
       "      <td>0.0</td>\n",
       "      <td>0.0</td>\n",
       "      <td>0.0</td>\n",
       "    </tr>\n",
       "    <tr>\n",
       "      <th>4</th>\n",
       "      <td>87.0</td>\n",
       "      <td>8.0</td>\n",
       "      <td>1.5</td>\n",
       "      <td>0.6</td>\n",
       "      <td>0.0</td>\n",
       "      <td>0.1</td>\n",
       "      <td>2.8</td>\n",
       "      <td>1428</td>\n",
       "      <td>176</td>\n",
       "      <td>92.0</td>\n",
       "      <td>12.8</td>\n",
       "      <td>4.6</td>\n",
       "      <td>88.5</td>\n",
       "      <td>20.1</td>\n",
       "      <td>17.9</td>\n",
       "      <td>87.1</td>\n",
       "      <td>0.0</td>\n",
       "      <td>0.0</td>\n",
       "      <td>0.0</td>\n",
       "    </tr>\n",
       "    <tr>\n",
       "      <th>...</th>\n",
       "      <td>...</td>\n",
       "      <td>...</td>\n",
       "      <td>...</td>\n",
       "      <td>...</td>\n",
       "      <td>...</td>\n",
       "      <td>...</td>\n",
       "      <td>...</td>\n",
       "      <td>...</td>\n",
       "      <td>...</td>\n",
       "      <td>...</td>\n",
       "      <td>...</td>\n",
       "      <td>...</td>\n",
       "      <td>...</td>\n",
       "      <td>...</td>\n",
       "      <td>...</td>\n",
       "      <td>...</td>\n",
       "      <td>...</td>\n",
       "      <td>...</td>\n",
       "      <td>...</td>\n",
       "    </tr>\n",
       "    <tr>\n",
       "      <th>3398</th>\n",
       "      <td>79.0</td>\n",
       "      <td>6.0</td>\n",
       "      <td>9.3</td>\n",
       "      <td>2.8</td>\n",
       "      <td>0.0</td>\n",
       "      <td>0.1</td>\n",
       "      <td>2.7</td>\n",
       "      <td>2916</td>\n",
       "      <td>175</td>\n",
       "      <td>95.3</td>\n",
       "      <td>0.2</td>\n",
       "      <td>0.1</td>\n",
       "      <td>96.7</td>\n",
       "      <td>23.6</td>\n",
       "      <td>20.9</td>\n",
       "      <td>79.6</td>\n",
       "      <td>88.9</td>\n",
       "      <td>86.9</td>\n",
       "      <td>96.0</td>\n",
       "    </tr>\n",
       "    <tr>\n",
       "      <th>3399</th>\n",
       "      <td>84.7</td>\n",
       "      <td>1.8</td>\n",
       "      <td>10.4</td>\n",
       "      <td>0.6</td>\n",
       "      <td>0.1</td>\n",
       "      <td>0.2</td>\n",
       "      <td>2.2</td>\n",
       "      <td>1898</td>\n",
       "      <td>175</td>\n",
       "      <td>94.8</td>\n",
       "      <td>0.4</td>\n",
       "      <td>0.2</td>\n",
       "      <td>97.2</td>\n",
       "      <td>23.7</td>\n",
       "      <td>20.9</td>\n",
       "      <td>82.6</td>\n",
       "      <td>88.7</td>\n",
       "      <td>86.5</td>\n",
       "      <td>93.7</td>\n",
       "    </tr>\n",
       "    <tr>\n",
       "      <th>3400</th>\n",
       "      <td>91.3</td>\n",
       "      <td>0.0</td>\n",
       "      <td>5.5</td>\n",
       "      <td>0.4</td>\n",
       "      <td>0.0</td>\n",
       "      <td>0.0</td>\n",
       "      <td>2.8</td>\n",
       "      <td>470</td>\n",
       "      <td>174</td>\n",
       "      <td>95.7</td>\n",
       "      <td>3.7</td>\n",
       "      <td>1.7</td>\n",
       "      <td>95.8</td>\n",
       "      <td>15.3</td>\n",
       "      <td>15.9</td>\n",
       "      <td>86.2</td>\n",
       "      <td>60.8</td>\n",
       "      <td>56.7</td>\n",
       "      <td>90.8</td>\n",
       "    </tr>\n",
       "    <tr>\n",
       "      <th>3401</th>\n",
       "      <td>19.7</td>\n",
       "      <td>26.9</td>\n",
       "      <td>40.9</td>\n",
       "      <td>8.1</td>\n",
       "      <td>0.3</td>\n",
       "      <td>0.2</td>\n",
       "      <td>3.9</td>\n",
       "      <td>3469</td>\n",
       "      <td>175</td>\n",
       "      <td>88.5</td>\n",
       "      <td>28.3</td>\n",
       "      <td>2.2</td>\n",
       "      <td>84.3</td>\n",
       "      <td>17.6</td>\n",
       "      <td>20.7</td>\n",
       "      <td>88.6</td>\n",
       "      <td>67.4</td>\n",
       "      <td>63.1</td>\n",
       "      <td>87.3</td>\n",
       "    </tr>\n",
       "    <tr>\n",
       "      <th>3402</th>\n",
       "      <td>35.5</td>\n",
       "      <td>13.3</td>\n",
       "      <td>44.1</td>\n",
       "      <td>4.7</td>\n",
       "      <td>0.3</td>\n",
       "      <td>0.2</td>\n",
       "      <td>2.0</td>\n",
       "      <td>1886</td>\n",
       "      <td>175</td>\n",
       "      <td>91.3</td>\n",
       "      <td>17.0</td>\n",
       "      <td>1.0</td>\n",
       "      <td>92.1</td>\n",
       "      <td>18.2</td>\n",
       "      <td>20.7</td>\n",
       "      <td>88.3</td>\n",
       "      <td>67.9</td>\n",
       "      <td>64.4</td>\n",
       "      <td>93.7</td>\n",
       "    </tr>\n",
       "  </tbody>\n",
       "</table>\n",
       "<p>3403 rows × 19 columns</p>\n",
       "</div>"
      ],
      "text/plain": [
       "      percent_student_enrollment_white  \\\n",
       "0                                 98.2   \n",
       "1                                 99.0   \n",
       "2                                 97.8   \n",
       "3                                 98.6   \n",
       "4                                 87.0   \n",
       "...                                ...   \n",
       "3398                              79.0   \n",
       "3399                              84.7   \n",
       "3400                              91.3   \n",
       "3401                              19.7   \n",
       "3402                              35.5   \n",
       "\n",
       "      percent_student_enrollment_black_or_african_american  \\\n",
       "0                                                   0.0      \n",
       "1                                                   0.0      \n",
       "2                                                   0.0      \n",
       "3                                                   0.5      \n",
       "4                                                   8.0      \n",
       "...                                                 ...      \n",
       "3398                                                6.0      \n",
       "3399                                                1.8      \n",
       "3400                                                0.0      \n",
       "3401                                               26.9      \n",
       "3402                                               13.3      \n",
       "\n",
       "      percent_student_enrollment_hispanic_or_latino  \\\n",
       "0                                               0.0   \n",
       "1                                               0.3   \n",
       "2                                               0.0   \n",
       "3                                               0.0   \n",
       "4                                               1.5   \n",
       "...                                             ...   \n",
       "3398                                            9.3   \n",
       "3399                                           10.4   \n",
       "3400                                            5.5   \n",
       "3401                                           40.9   \n",
       "3402                                           44.1   \n",
       "\n",
       "      percent_student_enrollment_asian  \\\n",
       "0                                  0.0   \n",
       "1                                  0.0   \n",
       "2                                  0.0   \n",
       "3                                  0.5   \n",
       "4                                  0.6   \n",
       "...                                ...   \n",
       "3398                               2.8   \n",
       "3399                               0.6   \n",
       "3400                               0.4   \n",
       "3401                               8.1   \n",
       "3402                               4.7   \n",
       "\n",
       "      percent_student_enrollment_native_hawaiian_or_other_pacific_islander  \\\n",
       "0                                                   0.0                      \n",
       "1                                                   0.0                      \n",
       "2                                                   0.4                      \n",
       "3                                                   0.0                      \n",
       "4                                                   0.0                      \n",
       "...                                                 ...                      \n",
       "3398                                                0.0                      \n",
       "3399                                                0.1                      \n",
       "3400                                                0.0                      \n",
       "3401                                                0.3                      \n",
       "3402                                                0.3                      \n",
       "\n",
       "      percent_student_enrollment_american_indian_or_alaska_native  \\\n",
       "0                                                   0.5             \n",
       "1                                                   0.0             \n",
       "2                                                   0.0             \n",
       "3                                                   0.5             \n",
       "4                                                   0.1             \n",
       "...                                                 ...             \n",
       "3398                                                0.1             \n",
       "3399                                                0.2             \n",
       "3400                                                0.0             \n",
       "3401                                                0.2             \n",
       "3402                                                0.2             \n",
       "\n",
       "      percent_student_enrollment_two_or_more_races  number_student_enrollment  \\\n",
       "0                                              1.4                        222   \n",
       "1                                              0.7                        288   \n",
       "2                                              1.8                        273   \n",
       "3                                              0.0                        217   \n",
       "4                                              2.8                       1428   \n",
       "...                                            ...                        ...   \n",
       "3398                                           2.7                       2916   \n",
       "3399                                           2.2                       1898   \n",
       "3400                                           2.8                        470   \n",
       "3401                                           3.9                       3469   \n",
       "3402                                           2.0                       1886   \n",
       "\n",
       "      total_number_of_school_days  student_attendance_rate  \\\n",
       "0                             174                     96.0   \n",
       "1                             176                     95.8   \n",
       "2                             175                     93.3   \n",
       "3                             175                     95.4   \n",
       "4                             176                     92.0   \n",
       "...                           ...                      ...   \n",
       "3398                          175                     95.3   \n",
       "3399                          175                     94.8   \n",
       "3400                          174                     95.7   \n",
       "3401                          175                     88.5   \n",
       "3402                          175                     91.3   \n",
       "\n",
       "      student_chronic_truancy_rate  high_school_dropout_rate_total  \\\n",
       "0                              2.3                             1.4   \n",
       "1                              1.8                             0.5   \n",
       "2                              5.7                             0.0   \n",
       "3                              1.0                             0.5   \n",
       "4                             12.8                             4.6   \n",
       "...                            ...                             ...   \n",
       "3398                           0.2                             0.1   \n",
       "3399                           0.4                             0.2   \n",
       "3400                           3.7                             1.7   \n",
       "3401                          28.3                             2.2   \n",
       "3402                          17.0                             1.0   \n",
       "\n",
       "      high_school_5_year_graduation_rate_total  avg_class_size_high_school  \\\n",
       "0                                         94.1                        11.1   \n",
       "1                                         93.8                        29.5   \n",
       "2                                         89.7                        12.7   \n",
       "3                                         88.6                        10.9   \n",
       "4                                         88.5                        20.1   \n",
       "...                                        ...                         ...   \n",
       "3398                                      96.7                        23.6   \n",
       "3399                                      97.2                        23.7   \n",
       "3400                                      95.8                        15.3   \n",
       "3401                                      84.3                        17.6   \n",
       "3402                                      92.1                        18.2   \n",
       "\n",
       "      pupil_teacher_ratio_high_school  teacher_retention_rate  \\\n",
       "0                                17.9                    87.1   \n",
       "1                                17.9                    87.1   \n",
       "2                                17.9                    87.1   \n",
       "3                                17.9                    87.1   \n",
       "4                                17.9                    87.1   \n",
       "...                               ...                     ...   \n",
       "3398                             20.9                    79.6   \n",
       "3399                             20.9                    82.6   \n",
       "3400                             15.9                    86.2   \n",
       "3401                             20.7                    88.6   \n",
       "3402                             20.7                    88.3   \n",
       "\n",
       "      percent_graduates_enrolled_in_a_postsecondary_institution_within_16_months  \\\n",
       "0                                                   0.0                            \n",
       "1                                                   0.0                            \n",
       "2                                                   0.0                            \n",
       "3                                                   0.0                            \n",
       "4                                                   0.0                            \n",
       "...                                                 ...                            \n",
       "3398                                               88.9                            \n",
       "3399                                               88.7                            \n",
       "3400                                               60.8                            \n",
       "3401                                               67.4                            \n",
       "3402                                               67.9                            \n",
       "\n",
       "      percent_graduates_enrolled_in_a_postsecondary_institution_within_12_months  \\\n",
       "0                                                   0.0                            \n",
       "1                                                   0.0                            \n",
       "2                                                   0.0                            \n",
       "3                                                   0.0                            \n",
       "4                                                   0.0                            \n",
       "...                                                 ...                            \n",
       "3398                                               86.9                            \n",
       "3399                                               86.5                            \n",
       "3400                                               56.7                            \n",
       "3401                                               63.1                            \n",
       "3402                                               64.4                            \n",
       "\n",
       "      percent_9th_grade_on_track  \n",
       "0                            0.0  \n",
       "1                            0.0  \n",
       "2                            0.0  \n",
       "3                            0.0  \n",
       "4                            0.0  \n",
       "...                          ...  \n",
       "3398                        96.0  \n",
       "3399                        93.7  \n",
       "3400                        90.8  \n",
       "3401                        87.3  \n",
       "3402                        93.7  \n",
       "\n",
       "[3403 rows x 19 columns]"
      ]
     },
     "execution_count": 60,
     "metadata": {},
     "output_type": "execute_result"
    }
   ],
   "source": [
    "X_train_num"
   ]
  },
  {
   "cell_type": "code",
   "execution_count": null,
   "metadata": {},
   "outputs": [],
   "source": [
    "X_train_num = X_train.['high_school_5_year_graduation_rate_total', \n",
    "'student_attendance_rate', \n",
    "'number_students_who_took_ap_classes_grade_12_total', \n",
    "'high_school_dropout_rate_total', \n",
    "'number_student_enrollment', \n",
    "'percent_student_enrollment_white', \n",
    "'pupil_teacher_ratio_high_school', \n",
    "'percent_student_enrollment_american_indian_or_alaska_native', \n",
    "'total_number_of_school_days' , \n",
    "'percent_student_enrollment_asian', \n",
    "'number_students_who_took_ap_classes_grade_11_total', \n",
    "'number_students_who_took_ap_classes_grade_10_total', \n",
    "'percent_student_enrollment_two_or_more_races', \n",
    "'percent_student_enrollment_black_or_african_american', \n",
    "'percent_student_enrollment_hispanic_or_latino', \n",
    "'percent_student_enrollment_native_hawaiian_or_other_pacific_islander']"
   ]
  },
  {
   "cell_type": "code",
   "execution_count": 59,
   "metadata": {},
   "outputs": [
    {
     "ename": "KeyError",
     "evalue": "\"['number_students_who_took_ap_classes_grade_12_total', 'number_students_who_took_ap_classes_grade_11_total', 'number_students_who_took_ap_classes_grade_10_total'] not in index\"",
     "output_type": "error",
     "traceback": [
      "\u001b[0;31m---------------------------------------------------------------------------\u001b[0m",
      "\u001b[0;31mKeyError\u001b[0m                                  Traceback (most recent call last)",
      "\u001b[0;32m<ipython-input-59-349da8bfc18a>\u001b[0m in \u001b[0;36m<module>\u001b[0;34m\u001b[0m\n\u001b[1;32m     14\u001b[0m \u001b[0;34m'percent_student_enrollment_black_or_african_american'\u001b[0m\u001b[0;34m,\u001b[0m\u001b[0;34m\u001b[0m\u001b[0;34m\u001b[0m\u001b[0m\n\u001b[1;32m     15\u001b[0m \u001b[0;34m'percent_student_enrollment_hispanic_or_latino'\u001b[0m\u001b[0;34m,\u001b[0m\u001b[0;34m\u001b[0m\u001b[0;34m\u001b[0m\u001b[0m\n\u001b[0;32m---> 16\u001b[0;31m 'percent_student_enrollment_native_hawaiian_or_other_pacific_islander']]\n\u001b[0m",
      "\u001b[0;32m/opt/anaconda3/lib/python3.7/site-packages/pandas/core/frame.py\u001b[0m in \u001b[0;36m__getitem__\u001b[0;34m(self, key)\u001b[0m\n\u001b[1;32m   2903\u001b[0m             \u001b[0;32mif\u001b[0m \u001b[0mis_iterator\u001b[0m\u001b[0;34m(\u001b[0m\u001b[0mkey\u001b[0m\u001b[0;34m)\u001b[0m\u001b[0;34m:\u001b[0m\u001b[0;34m\u001b[0m\u001b[0;34m\u001b[0m\u001b[0m\n\u001b[1;32m   2904\u001b[0m                 \u001b[0mkey\u001b[0m \u001b[0;34m=\u001b[0m \u001b[0mlist\u001b[0m\u001b[0;34m(\u001b[0m\u001b[0mkey\u001b[0m\u001b[0;34m)\u001b[0m\u001b[0;34m\u001b[0m\u001b[0;34m\u001b[0m\u001b[0m\n\u001b[0;32m-> 2905\u001b[0;31m             \u001b[0mindexer\u001b[0m \u001b[0;34m=\u001b[0m \u001b[0mself\u001b[0m\u001b[0;34m.\u001b[0m\u001b[0mloc\u001b[0m\u001b[0;34m.\u001b[0m\u001b[0m_get_listlike_indexer\u001b[0m\u001b[0;34m(\u001b[0m\u001b[0mkey\u001b[0m\u001b[0;34m,\u001b[0m \u001b[0maxis\u001b[0m\u001b[0;34m=\u001b[0m\u001b[0;36m1\u001b[0m\u001b[0;34m,\u001b[0m \u001b[0mraise_missing\u001b[0m\u001b[0;34m=\u001b[0m\u001b[0;32mTrue\u001b[0m\u001b[0;34m)\u001b[0m\u001b[0;34m[\u001b[0m\u001b[0;36m1\u001b[0m\u001b[0;34m]\u001b[0m\u001b[0;34m\u001b[0m\u001b[0;34m\u001b[0m\u001b[0m\n\u001b[0m\u001b[1;32m   2906\u001b[0m \u001b[0;34m\u001b[0m\u001b[0m\n\u001b[1;32m   2907\u001b[0m         \u001b[0;31m# take() does not accept boolean indexers\u001b[0m\u001b[0;34m\u001b[0m\u001b[0;34m\u001b[0m\u001b[0;34m\u001b[0m\u001b[0m\n",
      "\u001b[0;32m/opt/anaconda3/lib/python3.7/site-packages/pandas/core/indexing.py\u001b[0m in \u001b[0;36m_get_listlike_indexer\u001b[0;34m(self, key, axis, raise_missing)\u001b[0m\n\u001b[1;32m   1252\u001b[0m             \u001b[0mkeyarr\u001b[0m\u001b[0;34m,\u001b[0m \u001b[0mindexer\u001b[0m\u001b[0;34m,\u001b[0m \u001b[0mnew_indexer\u001b[0m \u001b[0;34m=\u001b[0m \u001b[0max\u001b[0m\u001b[0;34m.\u001b[0m\u001b[0m_reindex_non_unique\u001b[0m\u001b[0;34m(\u001b[0m\u001b[0mkeyarr\u001b[0m\u001b[0;34m)\u001b[0m\u001b[0;34m\u001b[0m\u001b[0;34m\u001b[0m\u001b[0m\n\u001b[1;32m   1253\u001b[0m \u001b[0;34m\u001b[0m\u001b[0m\n\u001b[0;32m-> 1254\u001b[0;31m         \u001b[0mself\u001b[0m\u001b[0;34m.\u001b[0m\u001b[0m_validate_read_indexer\u001b[0m\u001b[0;34m(\u001b[0m\u001b[0mkeyarr\u001b[0m\u001b[0;34m,\u001b[0m \u001b[0mindexer\u001b[0m\u001b[0;34m,\u001b[0m \u001b[0maxis\u001b[0m\u001b[0;34m,\u001b[0m \u001b[0mraise_missing\u001b[0m\u001b[0;34m=\u001b[0m\u001b[0mraise_missing\u001b[0m\u001b[0;34m)\u001b[0m\u001b[0;34m\u001b[0m\u001b[0;34m\u001b[0m\u001b[0m\n\u001b[0m\u001b[1;32m   1255\u001b[0m         \u001b[0;32mreturn\u001b[0m \u001b[0mkeyarr\u001b[0m\u001b[0;34m,\u001b[0m \u001b[0mindexer\u001b[0m\u001b[0;34m\u001b[0m\u001b[0;34m\u001b[0m\u001b[0m\n\u001b[1;32m   1256\u001b[0m \u001b[0;34m\u001b[0m\u001b[0m\n",
      "\u001b[0;32m/opt/anaconda3/lib/python3.7/site-packages/pandas/core/indexing.py\u001b[0m in \u001b[0;36m_validate_read_indexer\u001b[0;34m(self, key, indexer, axis, raise_missing)\u001b[0m\n\u001b[1;32m   1302\u001b[0m             \u001b[0;32mif\u001b[0m \u001b[0mraise_missing\u001b[0m\u001b[0;34m:\u001b[0m\u001b[0;34m\u001b[0m\u001b[0;34m\u001b[0m\u001b[0m\n\u001b[1;32m   1303\u001b[0m                 \u001b[0mnot_found\u001b[0m \u001b[0;34m=\u001b[0m \u001b[0mlist\u001b[0m\u001b[0;34m(\u001b[0m\u001b[0mset\u001b[0m\u001b[0;34m(\u001b[0m\u001b[0mkey\u001b[0m\u001b[0;34m)\u001b[0m \u001b[0;34m-\u001b[0m \u001b[0mset\u001b[0m\u001b[0;34m(\u001b[0m\u001b[0max\u001b[0m\u001b[0;34m)\u001b[0m\u001b[0;34m)\u001b[0m\u001b[0;34m\u001b[0m\u001b[0;34m\u001b[0m\u001b[0m\n\u001b[0;32m-> 1304\u001b[0;31m                 \u001b[0;32mraise\u001b[0m \u001b[0mKeyError\u001b[0m\u001b[0;34m(\u001b[0m\u001b[0;34mf\"{not_found} not in index\"\u001b[0m\u001b[0;34m)\u001b[0m\u001b[0;34m\u001b[0m\u001b[0;34m\u001b[0m\u001b[0m\n\u001b[0m\u001b[1;32m   1305\u001b[0m \u001b[0;34m\u001b[0m\u001b[0m\n\u001b[1;32m   1306\u001b[0m             \u001b[0;31m# we skip the warning on Categorical\u001b[0m\u001b[0;34m\u001b[0m\u001b[0;34m\u001b[0m\u001b[0;34m\u001b[0m\u001b[0m\n",
      "\u001b[0;31mKeyError\u001b[0m: \"['number_students_who_took_ap_classes_grade_12_total', 'number_students_who_took_ap_classes_grade_11_total', 'number_students_who_took_ap_classes_grade_10_total'] not in index\""
     ]
    }
   ],
   "source": [
    "X_test_num = X_test[['high_school_5_year_graduation_rate_total', \n",
    "'student_attendance_rate', \n",
    "'number_students_who_took_ap_classes_grade_12_total', \n",
    "'high_school_dropout_rate_total', \n",
    "'number_student_enrollment', \n",
    "'percent_student_enrollment_white', \n",
    "'pupil_teacher_ratio_high_school', \n",
    "'percent_student_enrollment_american_indian_or_alaska_native', \n",
    "'total_number_of_school_days' , \n",
    "'percent_student_enrollment_asian', \n",
    "'number_students_who_took_ap_classes_grade_11_total', \n",
    "'number_students_who_took_ap_classes_grade_10_total', \n",
    "'percent_student_enrollment_two_or_more_races', \n",
    "'percent_student_enrollment_black_or_african_american', \n",
    "'percent_student_enrollment_hispanic_or_latino', \n",
    "'percent_student_enrollment_native_hawaiian_or_other_pacific_islander']]"
   ]
  },
  {
   "cell_type": "code",
   "execution_count": 36,
   "metadata": {},
   "outputs": [],
   "source": [
    "X_train_index = X_train.index\n",
    "X_val_index = X_val.index\n",
    "X_test_index = X_test.index"
   ]
  },
  {
   "cell_type": "code",
   "execution_count": 37,
   "metadata": {},
   "outputs": [],
   "source": [
    "ss = StandardScaler()\n",
    "X_train_sc = pd.DataFrame(ss.fit_transform(X_train_num), columns=X_train_num.columns, index=X_train_index)\n",
    "X_val_sc = pd.DataFrame(ss.transform(X_val_num), columns=X_val_num.columns, index=X_val_index)\n",
    "X_test_sc = pd.DataFrame(ss.transform(X_test_num), columns=X_test_num.columns, index=X_test_index)\n"
   ]
  },
  {
   "cell_type": "markdown",
   "metadata": {},
   "source": [
    "# 2. Encoding Categorical features"
   ]
  },
  {
   "cell_type": "code",
   "execution_count": 38,
   "metadata": {},
   "outputs": [],
   "source": [
    "X_train_cat = X_train[['district_type', 'district_size', 'school_type']]\n",
    "X_val_cat = X_val[['district_type', 'district_size', 'school_type']]"
   ]
  },
  {
   "cell_type": "code",
   "execution_count": 39,
   "metadata": {},
   "outputs": [
    {
     "data": {
      "text/html": [
       "<div>\n",
       "<style scoped>\n",
       "    .dataframe tbody tr th:only-of-type {\n",
       "        vertical-align: middle;\n",
       "    }\n",
       "\n",
       "    .dataframe tbody tr th {\n",
       "        vertical-align: top;\n",
       "    }\n",
       "\n",
       "    .dataframe thead th {\n",
       "        text-align: right;\n",
       "    }\n",
       "</style>\n",
       "<table border=\"1\" class=\"dataframe\">\n",
       "  <thead>\n",
       "    <tr style=\"text-align: right;\">\n",
       "      <th></th>\n",
       "      <th>district_type</th>\n",
       "      <th>district_size</th>\n",
       "      <th>school_type</th>\n",
       "    </tr>\n",
       "  </thead>\n",
       "  <tbody>\n",
       "    <tr>\n",
       "      <th>0</th>\n",
       "      <td>UNIT</td>\n",
       "      <td>MEDIUM</td>\n",
       "      <td>HIGH SCHOOL</td>\n",
       "    </tr>\n",
       "    <tr>\n",
       "      <th>1</th>\n",
       "      <td>UNIT</td>\n",
       "      <td>MEDIUM</td>\n",
       "      <td>HIGH SCHOOL</td>\n",
       "    </tr>\n",
       "    <tr>\n",
       "      <th>2</th>\n",
       "      <td>UNIT</td>\n",
       "      <td>MEDIUM</td>\n",
       "      <td>HIGH SCHOOL</td>\n",
       "    </tr>\n",
       "    <tr>\n",
       "      <th>3</th>\n",
       "      <td>UNIT</td>\n",
       "      <td>MEDIUM</td>\n",
       "      <td>HIGH SCHOOL</td>\n",
       "    </tr>\n",
       "    <tr>\n",
       "      <th>4</th>\n",
       "      <td>UNIT</td>\n",
       "      <td>LARGE</td>\n",
       "      <td>HIGH SCHOOL</td>\n",
       "    </tr>\n",
       "    <tr>\n",
       "      <th>...</th>\n",
       "      <td>...</td>\n",
       "      <td>...</td>\n",
       "      <td>...</td>\n",
       "    </tr>\n",
       "    <tr>\n",
       "      <th>716</th>\n",
       "      <td>UNIT</td>\n",
       "      <td>MEDIUM</td>\n",
       "      <td>HIGH SCHOOL</td>\n",
       "    </tr>\n",
       "    <tr>\n",
       "      <th>717</th>\n",
       "      <td>UNIT</td>\n",
       "      <td>MEDIUM</td>\n",
       "      <td>HIGH SCHOOL</td>\n",
       "    </tr>\n",
       "    <tr>\n",
       "      <th>718</th>\n",
       "      <td>UNIT</td>\n",
       "      <td>MEDIUM</td>\n",
       "      <td>HIGH SCHOOL</td>\n",
       "    </tr>\n",
       "    <tr>\n",
       "      <th>719</th>\n",
       "      <td>UNIT</td>\n",
       "      <td>LARGE</td>\n",
       "      <td>HIGH SCHOOL</td>\n",
       "    </tr>\n",
       "    <tr>\n",
       "      <th>720</th>\n",
       "      <td>UNIT</td>\n",
       "      <td>LARGE</td>\n",
       "      <td>HIGH SCHOOL</td>\n",
       "    </tr>\n",
       "  </tbody>\n",
       "</table>\n",
       "<p>721 rows × 3 columns</p>\n",
       "</div>"
      ],
      "text/plain": [
       "    district_type district_size  school_type\n",
       "0            UNIT        MEDIUM  HIGH SCHOOL\n",
       "1            UNIT        MEDIUM  HIGH SCHOOL\n",
       "2            UNIT        MEDIUM  HIGH SCHOOL\n",
       "3            UNIT        MEDIUM  HIGH SCHOOL\n",
       "4            UNIT         LARGE  HIGH SCHOOL\n",
       "..            ...           ...          ...\n",
       "716          UNIT        MEDIUM  HIGH SCHOOL\n",
       "717          UNIT        MEDIUM  HIGH SCHOOL\n",
       "718          UNIT        MEDIUM  HIGH SCHOOL\n",
       "719          UNIT         LARGE  HIGH SCHOOL\n",
       "720          UNIT         LARGE  HIGH SCHOOL\n",
       "\n",
       "[721 rows x 3 columns]"
      ]
     },
     "execution_count": 39,
     "metadata": {},
     "output_type": "execute_result"
    }
   ],
   "source": [
    "#let's change these objects to categories\n",
    "X_train_cat.loc[:, ('district_type', 'district_size', 'school_type')].astype('category')\n",
    "X_val_cat.loc[:, ('district_type', 'district_size', 'school_type')].astype('category')\n",
    "#X_test_cat.loc[:, ('district_type', 'district_size', 'school_type')].astype('category')"
   ]
  },
  {
   "cell_type": "code",
   "execution_count": 40,
   "metadata": {},
   "outputs": [
    {
     "name": "stderr",
     "output_type": "stream",
     "text": [
      "/opt/anaconda3/lib/python3.7/site-packages/pandas/core/generic.py:5159: SettingWithCopyWarning: \n",
      "A value is trying to be set on a copy of a slice from a DataFrame.\n",
      "Try using .loc[row_indexer,col_indexer] = value instead\n",
      "\n",
      "See the caveats in the documentation: https://pandas.pydata.org/pandas-docs/stable/user_guide/indexing.html#returning-a-view-versus-a-copy\n",
      "  self[name] = value\n"
     ]
    }
   ],
   "source": [
    "X_train_cat.district_type = X_train_cat.district_type.str.rstrip()\n",
    "X_train_cat.district_size = X_train_cat.district_size.str.rstrip()\n",
    "X_train_cat.school_type = X_train_cat.school_type.str.rstrip()\n",
    "#X_train_cat.grades_served = X_train_cat.grades_served.str.rstrip()\n"
   ]
  },
  {
   "cell_type": "code",
   "execution_count": 42,
   "metadata": {},
   "outputs": [
    {
     "data": {
      "text/plain": [
       "0      HIGH SCHOOL\n",
       "1      HIGH SCHOOL\n",
       "2      HIGH SCHOOL\n",
       "3      HIGH SCHOOL\n",
       "4      HIGH SCHOOL\n",
       "          ...     \n",
       "716    HIGH SCHOOL\n",
       "717    HIGH SCHOOL\n",
       "718    HIGH SCHOOL\n",
       "719    HIGH SCHOOL\n",
       "720    HIGH SCHOOL\n",
       "Name: school_type, Length: 721, dtype: object"
      ]
     },
     "execution_count": 42,
     "metadata": {},
     "output_type": "execute_result"
    }
   ],
   "source": [
    "X_val_cat.district_type.str.rstrip()\n",
    "X_val_cat.district_size.str.rstrip()\n",
    "X_val_cat.school_type.str.rstrip()"
   ]
  },
  {
   "cell_type": "code",
   "execution_count": 43,
   "metadata": {
    "jupyter": {
     "source_hidden": true
    }
   },
   "outputs": [
    {
     "data": {
      "text/plain": [
       "(3403, 5)"
      ]
     },
     "execution_count": 43,
     "metadata": {},
     "output_type": "execute_result"
    }
   ],
   "source": [
    "#encode the categoricals\n",
    "ohe = OneHotEncoder(drop='first')\n",
    "\n",
    "ohe.fit(X_train_cat)\n",
    "X_train_ohe = ohe.transform(X_train_cat).toarray()\n",
    "X_val_ohe = ohe.transform(X_val_cat).toarray()\n",
    "\n",
    "# Creating this DataFrame is not necessary its only to show the result of the ohe\n",
    "X_train_processed = pd.DataFrame(X_train_ohe, columns=ohe.get_feature_names(X_train_cat.columns))\n",
    "X_val_processed = pd.DataFrame(X_val_ohe, columns=ohe.get_feature_names(X_val_cat.columns))\n",
    "\n",
    "X_train_processed.shape\n"
   ]
  },
  {
   "cell_type": "code",
   "execution_count": 44,
   "metadata": {},
   "outputs": [],
   "source": [
    "X_train_all = pd.concat([X_train_sc, X_train_processed], axis=1)\n",
    "X_val_all = pd.concat([X_val_sc, X_val_processed], axis=1)\n",
    "#X_test_all = pd.concat([X_test_sc, X_test_processed], axis=1)\n"
   ]
  },
  {
   "cell_type": "code",
   "execution_count": null,
   "metadata": {},
   "outputs": [],
   "source": []
  },
  {
   "cell_type": "code",
   "execution_count": null,
   "metadata": {},
   "outputs": [],
   "source": [
    "['high_school_5_year_graduation_rate_total', \n",
    "'student_attendance_rate', \n",
    "'number_students_who_took_ap_classes_grade_12_total', \n",
    "'high_school_dropout_rate_total', \n",
    "'number_student_enrollment', \n",
    "'percent_student_enrollment_white', \n",
    "'pupil_teacher_ratio_high_school', \n",
    "'percent_student_enrollment_american_indian_or_alaska_native', \n",
    "'total_number_of_school_days' , \n",
    "'percent_student_enrollment_asian', \n",
    "'number_students_who_took_ap_classes_grade_11_total', \n",
    "'number_students_who_took_ap_classes_grade_10_total', \n",
    "'percent_student_enrollment_two_or_more_races', \n",
    "'percent_student_enrollment_black_or_african_american', \n",
    "'percent_student_enrollment_hispanic_or_latino', \n",
    "'percent_student_enrollment_native_hawaiian_or_other_pacific_islander']"
   ]
  },
  {
   "cell_type": "markdown",
   "metadata": {},
   "source": [
    "# 6. Test models\n",
    "- Linear Regression\n",
    "- Random Forest\n",
    "- Gradient Boost\n",
    "- Lasso\n",
    "- Ridge\n",
    "- SVM\n",
    "- KNN"
   ]
  },
  {
   "cell_type": "code",
   "execution_count": 46,
   "metadata": {},
   "outputs": [],
   "source": [
    "# Takes in a model, trains the model, and evaluates the model on the test set\n",
    "def fit_and_eval(model):\n",
    "    \n",
    "    # Train the model\n",
    "    model.fit(X_train_all, y_train)\n",
    "    \n",
    "    # Make predictions and evalute\n",
    "    model_pred = model.predict(X_val_all)\n",
    "    model_r2 = r2_score(y_val, model_pred)\n",
    "    # Return the performance metric\n",
    "\n",
    "    return model_r2"
   ]
  },
  {
   "cell_type": "code",
   "execution_count": 47,
   "metadata": {},
   "outputs": [
    {
     "name": "stdout",
     "output_type": "stream",
     "text": [
      "Linear Regression Performance on the test set: R2 = 0.4740\n"
     ]
    }
   ],
   "source": [
    "linreg = LinearRegression()\n",
    "linreg_r2 = fit_and_eval(linreg)\n",
    "\n",
    "print('Linear Regression Performance on the test set: R2 = %0.4f' % linreg_r2)"
   ]
  },
  {
   "cell_type": "code",
   "execution_count": 48,
   "metadata": {},
   "outputs": [
    {
     "name": "stdout",
     "output_type": "stream",
     "text": [
      "Random Forest Performance on the test set: R2 = 0.4609\n"
     ]
    }
   ],
   "source": [
    "random_forest = RandomForestRegressor(random_state=19)\n",
    "random_forest_r2 = fit_and_eval(random_forest)\n",
    "\n",
    "\n",
    "print('Random Forest Performance on the test set: R2 = %0.4f' % random_forest_r2)"
   ]
  },
  {
   "cell_type": "code",
   "execution_count": 49,
   "metadata": {},
   "outputs": [
    {
     "name": "stdout",
     "output_type": "stream",
     "text": [
      "Extra Trees Performance on the test set: R2 = 0.5571\n"
     ]
    }
   ],
   "source": [
    "extra_trees = ExtraTreesRegressor(random_state=19)\n",
    "\n",
    "extra_trees_r2 = fit_and_eval(extra_trees)\n",
    "\n",
    "print('Extra Trees Performance on the test set: R2 = %0.4f' % extra_trees_r2)"
   ]
  },
  {
   "cell_type": "code",
   "execution_count": 50,
   "metadata": {},
   "outputs": [
    {
     "name": "stdout",
     "output_type": "stream",
     "text": [
      "Gradient Boosted Performance on the test set: R2 = 0.5644\n"
     ]
    }
   ],
   "source": [
    "grad_boost = GradientBoostingRegressor(random_state=19)\n",
    "\n",
    "grad_boost_r2 = fit_and_eval(grad_boost)\n",
    "\n",
    "print('Gradient Boosted Performance on the test set: R2 = %0.4f' % grad_boost_r2)"
   ]
  },
  {
   "cell_type": "code",
   "execution_count": 51,
   "metadata": {},
   "outputs": [
    {
     "name": "stdout",
     "output_type": "stream",
     "text": [
      "Lasso model Performance on the test set: R2 = 0.4903\n"
     ]
    }
   ],
   "source": [
    "# Create the model\n",
    "lasso = Lasso(random_state=19)\n",
    "\n",
    "lasso_r2 = fit_and_eval(lasso)\n",
    "\n",
    "print('Lasso model Performance on the test set: R2 = %0.4f' % lasso_r2)"
   ]
  },
  {
   "cell_type": "code",
   "execution_count": 52,
   "metadata": {},
   "outputs": [
    {
     "name": "stdout",
     "output_type": "stream",
     "text": [
      "Ridge Model Performance on the test set: R2 = 0.5307\n"
     ]
    }
   ],
   "source": [
    "ridge = Ridge(random_state=19)\n",
    "ridge_r2 = fit_and_eval(ridge)\n",
    "\n",
    "print('Ridge Model Performance on the test set: R2 = %0.4f' % ridge_r2)"
   ]
  },
  {
   "cell_type": "code",
   "execution_count": 53,
   "metadata": {},
   "outputs": [
    {
     "name": "stdout",
     "output_type": "stream",
     "text": [
      "Support Vector Machine Regression Performance on the test set: R2 = 0.3993\n"
     ]
    }
   ],
   "source": [
    "svr = SVR()\n",
    "svr_r2 = fit_and_eval(svr)\n",
    "\n",
    "print('Support Vector Machine Regression Performance on the test set: R2 = %0.4f' % svr_r2)"
   ]
  },
  {
   "cell_type": "code",
   "execution_count": 54,
   "metadata": {},
   "outputs": [
    {
     "name": "stdout",
     "output_type": "stream",
     "text": [
      "K-Nearest Neighbors Regression Performance on the test set: R2 = 0.4988\n"
     ]
    }
   ],
   "source": [
    "knn = KNeighborsRegressor()\n",
    "knn_r2 = fit_and_eval(knn)\n",
    "\n",
    "print('K-Nearest Neighbors Regression Performance on the test set: R2 = %0.4f' % knn_r2)"
   ]
  },
  {
   "cell_type": "markdown",
   "metadata": {},
   "source": [
    "# 7. Select model"
   ]
  },
  {
   "cell_type": "code",
   "execution_count": 55,
   "metadata": {},
   "outputs": [
    {
     "data": {
      "image/png": "[encoded data removed]",
      "text/plain": [
       "<Figure size 432x288 with 1 Axes>"
      ]
     },
     "metadata": {
      "needs_background": "light"
     },
     "output_type": "display_data"
    }
   ],
   "source": [
    "\n",
    "# Dataframe to hold the results\n",
    "           \n",
    "model_comparison = pd.DataFrame({'model': ['Linear Regression','Random Forest',\n",
    "                                           'Extra Trees','Gradient Boosted',\n",
    "                                           'Lasso', 'Ridge', 'SVR','K-Nearest Neighbors'],\n",
    "                                 'r2': [linreg_r2, random_forest_r2, extra_trees_r2, \n",
    "                                         grad_boost_r2, lasso_r2, ridge_r2, svr_r2, knn_r2]})\n",
    "\n",
    "# Horizontal bar chart of test r2\n",
    "model_comparison.sort_values('r2', ascending = False).plot(x = 'model', y = 'r2', kind = 'barh',\n",
    "                                                           color = '#99BDCB', edgecolor = 'black')\n",
    "\n",
    "# Plot formatting\n",
    "\n",
    "#plt.figure(figsize=(20, 16)\n",
    "\n",
    "\n",
    "plt.ylabel(''); plt.yticks(size = 14); plt.xlabel('R squared'); plt.xticks(size = 14)\n",
    "plt.title('Model Comparison on Test R squared', size = 20);"
   ]
  },
  {
   "cell_type": "code",
   "execution_count": null,
   "metadata": {},
   "outputs": [],
   "source": [
    "\n"
   ]
  },
  {
   "cell_type": "markdown",
   "metadata": {},
   "source": [
    "# 8. grid search w cross val"
   ]
  },
  {
   "cell_type": "code",
   "execution_count": 56,
   "metadata": {},
   "outputs": [],
   "source": [
    "# Loss function to be optimized\n",
    "loss = ['ls', 'lad', 'huber']\n",
    "\n",
    "# Number of trees used in the boosting process\n",
    "n_estimators = [100, 500, 900, 1100, 1500]\n",
    "\n",
    "# Maximum depth of each tree\n",
    "max_depth = [2, 3, 5, 10, 15]\n",
    "\n",
    "# Minimum number of samples per leaf\n",
    "min_samples_leaf = [1, 2, 4, 6, 8]\n",
    "\n",
    "# Minimum number of samples to split a node\n",
    "min_samples_split = [2, 4, 6, 10]\n",
    "\n",
    "# Maximum number of features to consider for making splits\n",
    "max_features = ['auto', 'sqrt', 'log2', None]\n",
    "\n",
    "# Define the grid of hyperparameters to search\n",
    "hyperparameter_grid = {'loss': loss,\n",
    "                       'n_estimators': n_estimators,\n",
    "                       'max_depth': max_depth,\n",
    "                       'min_samples_leaf': min_samples_leaf,\n",
    "                       'min_samples_split': min_samples_split,\n",
    "                       'max_features': max_features}"
   ]
  },
  {
   "cell_type": "code",
   "execution_count": null,
   "metadata": {},
   "outputs": [],
   "source": [
    "# Create the model to use for hyperparameter tuning\n",
    "model = GradientBoostingRegressor(random_state = 19)\n",
    "\n",
    "# Set up the random search with 4-fold cross validation\n",
    "random_cv = RandomizedSearchCV(estimator=model,\n",
    "                               param_distributions=hyperparameter_grid,\n",
    "                               cv=4, n_iter=25, \n",
    "                               scoring = 'neg_mean_absolute_error',\n",
    "                               n_jobs = -1, verbose = 1, \n",
    "                               return_train_score = True,\n",
    "                               random_state=19)"
   ]
  },
  {
   "cell_type": "code",
   "execution_count": null,
   "metadata": {},
   "outputs": [],
   "source": [
    "# Find the best combination of settings\n",
    "random_cv.best_estimator_\n"
   ]
  },
  {
   "cell_type": "markdown",
   "metadata": {},
   "source": [
    "# 9. train"
   ]
  },
  {
   "cell_type": "code",
   "execution_count": null,
   "metadata": {},
   "outputs": [],
   "source": []
  },
  {
   "cell_type": "code",
   "execution_count": null,
   "metadata": {},
   "outputs": [],
   "source": []
  },
  {
   "cell_type": "code",
   "execution_count": null,
   "metadata": {},
   "outputs": [],
   "source": []
  },
  {
   "cell_type": "code",
   "execution_count": null,
   "metadata": {},
   "outputs": [],
   "source": []
  },
  {
   "cell_type": "markdown",
   "metadata": {},
   "source": [
    "# 10. evalutate on test set"
   ]
  },
  {
   "cell_type": "code",
   "execution_count": null,
   "metadata": {},
   "outputs": [],
   "source": [
    "# Make predictions on the test set using default and final model\n",
    "default_pred = default_model.predict(X_test)\n",
    "final_pred = final_model.predict(X_test)"
   ]
  },
  {
   "cell_type": "code",
   "execution_count": null,
   "metadata": {},
   "outputs": [],
   "source": []
  },
  {
   "cell_type": "markdown",
   "metadata": {},
   "source": [
    "# 11. Model interpretation\n",
    "- feature impolrtances\n",
    " - create df & visualize\n",
    "- plot single decision tree\n",
    "- LIME"
   ]
  },
  {
   "cell_type": "code",
   "execution_count": null,
   "metadata": {},
   "outputs": [],
   "source": []
  },
  {
   "cell_type": "code",
   "execution_count": null,
   "metadata": {},
   "outputs": [],
   "source": []
  },
  {
   "cell_type": "code",
   "execution_count": null,
   "metadata": {},
   "outputs": [],
   "source": []
  },
  {
   "cell_type": "code",
   "execution_count": null,
   "metadata": {},
   "outputs": [],
   "source": []
  },
  {
   "cell_type": "code",
   "execution_count": null,
   "metadata": {},
   "outputs": [],
   "source": [
    "lin_reg_model = LinearRegression()\n",
    "baseline_cross_val_score = cross_val_score(lin_reg_model, X_train, y_train)\n",
    "baseline_cross_val_score"
   ]
  }
 ],
 "metadata": {
  "kernelspec": {
   "display_name": "Python 3",
   "language": "python",
   "name": "python3"
  },
  "language_info": {
   "codemirror_mode": {
    "name": "ipython",
    "version": 3
   },
   "file_extension": ".py",
   "mimetype": "text/x-python",
   "name": "python",
   "nbconvert_exporter": "python",
   "pygments_lexer": "ipython3",
   "version": "3.7.4"
  }
 },
 "nbformat": 4,
 "nbformat_minor": 4
}
