{
 "cells": [
  {
   "cell_type": "markdown",
   "metadata": {},
   "source": [
    "# Modeling "
   ]
  },
  {
   "cell_type": "code",
   "execution_count": null,
   "metadata": {},
   "outputs": [],
   "source": []
  },
  {
   "cell_type": "code",
   "execution_count": null,
   "metadata": {},
   "outputs": [],
   "source": []
  },
  {
   "cell_type": "code",
   "execution_count": 1,
   "metadata": {},
   "outputs": [],
   "source": [
    "%load_ext autoreload\n",
    "%autoreload 2\n",
    "import os\n",
    "import sys\n",
    "module_path = os.path.abspath(os.path.join(os.pardir, os.pardir))\n",
    "if module_path not in sys.path:\n",
    "    sys.path.append(module_path)"
   ]
  },
  {
   "cell_type": "code",
   "execution_count": 2,
   "metadata": {},
   "outputs": [
    {
     "name": "stderr",
     "output_type": "stream",
     "text": [
      "/opt/anaconda3/lib/python3.7/site-packages/statsmodels/tools/_testing.py:19: FutureWarning: pandas.util.testing is deprecated. Use the functions in the public API at pandas.testing instead.\n",
      "  import pandas.util.testing as tm\n"
     ]
    }
   ],
   "source": [
    "# import standard libraries\n",
    "import numpy as np\n",
    "import pandas as pd\n",
    "import matplotlib.pyplot as plt\n",
    "%matplotlib inline\n",
    "\n",
    "import seaborn as sns \n",
    "\n",
    "\n",
    "# import additional libraries\n",
    "import statsmodels.api as sm\n",
    "import statsmodels.formula.api as smf\n",
    "from statsmodels.formula.api import ols\n",
    "\n",
    "# functions from .py file\n",
    "import src.eda_functions as fun\n",
    "\n",
    "\n",
    "# Machine Learning Models\n",
    "from sklearn.impute import SimpleImputer\n",
    "from sklearn.preprocessing import StandardScaler, OneHotEncoder\n",
    "from sklearn.linear_model import LinearRegression, Lasso, Ridge\n",
    "from sklearn.ensemble import RandomForestRegressor, GradientBoostingRegressor, ExtraTreesRegressor\n",
    "from sklearn.svm import SVR\n",
    "from sklearn.neighbors import KNeighborsRegressor\n",
    "from sklearn.model_selection import  cross_val_score\n",
    "from sklearn.metrics import r2_score, SCORERS\n",
    "from sklearn.model_selection import RandomizedSearchCV, GridSearchCV\n",
    "\n",
    "import warnings\n"
   ]
  },
  {
   "cell_type": "code",
   "execution_count": 3,
   "metadata": {},
   "outputs": [
    {
     "data": {
      "text/plain": [
       "<Figure size 1440x1152 with 0 Axes>"
      ]
     },
     "metadata": {},
     "output_type": "display_data"
    }
   ],
   "source": [
    "# plot parameters\n",
    "plt.figure(figsize=(20,16));\n",
    "plt.rcParams['axes.labelsize'] = 20\n",
    "plt.rcParams['axes.titlesize'] = 25\n",
    "plt.rcParams['xtick.labelsize'] = 18\n",
    "plt.rcParams['ytick.labelsize'] = 18\n",
    "plt.rcParams['axes.edgecolor'] = 'black'\n",
    "plt.rcParams['axes.facecolor'] = 'white'\n",
    "plt.rcParams['font.size'] = 16"
   ]
  },
  {
   "cell_type": "markdown",
   "metadata": {},
   "source": [
    "read in merged_data file"
   ]
  },
  {
   "cell_type": "code",
   "execution_count": 4,
   "metadata": {},
   "outputs": [],
   "source": [
    "train_set = pd.read_csv('../../data/train_set.csv', )\n",
    "val_set = pd.read_csv('../../data/val_set.csv')\n",
    "test_set = pd.read_csv('../../data/test_set.csv')"
   ]
  },
  {
   "cell_type": "code",
   "execution_count": 5,
   "metadata": {},
   "outputs": [],
   "source": [
    "train_set['cohort'] = train_set['cohort'].astype('object')\n",
    "val_set['cohort'] = val_set['cohort'].astype('object')\n",
    "test_set['cohort'] = test_set['cohort'].astype('object')"
   ]
  },
  {
   "cell_type": "code",
   "execution_count": null,
   "metadata": {},
   "outputs": [],
   "source": []
  },
  {
   "cell_type": "markdown",
   "metadata": {},
   "source": [
    "Separate X and y for each set"
   ]
  },
  {
   "cell_type": "code",
   "execution_count": 19,
   "metadata": {},
   "outputs": [],
   "source": [
    "X_train = train_set.drop('high_school_4_year_graduation_rate_total', axis=1)\n",
    "y_train = train_set.high_school_4_year_graduation_rate_total\n",
    "\n",
    "\n",
    "X_val = val_set.drop('high_school_4_year_graduation_rate_total', axis=1)\n",
    "y_val = val_set.high_school_4_year_graduation_rate_total\n",
    "\n",
    "X_test = test_set.drop('high_school_4_year_graduation_rate_total', axis=1)\n",
    "y_test = test_set.high_school_4_year_graduation_rate_total"
   ]
  },
  {
   "cell_type": "markdown",
   "metadata": {},
   "source": [
    "## Replace NaNs with mean()\n"
   ]
  },
  {
   "cell_type": "markdown",
   "metadata": {},
   "source": [
    "Use SimpleImputer to replace NaNs with mean value"
   ]
  },
  {
   "cell_type": "code",
   "execution_count": null,
   "metadata": {},
   "outputs": [],
   "source": []
  },
  {
   "cell_type": "code",
   "execution_count": 41,
   "metadata": {
    "jupyter": {
     "source_hidden": true
    }
   },
   "outputs": [],
   "source": [
    "# identify features\n",
    "train_num = X_train.select_dtypes(['float64', 'int64'])\n",
    "val_num = X_val.select_dtypes(['float64', 'int64'])\n",
    "test_num = X_test.select_dtypes(['float64', 'int64'])"
   ]
  },
  {
   "cell_type": "code",
   "execution_count": 42,
   "metadata": {
    "jupyter": {
     "source_hidden": true
    }
   },
   "outputs": [],
   "source": [
    "from sklearn.impute import SimpleImputer\n",
    "\n",
    "# Create an imputer object with a median filling strategy\n",
    "imputer = SimpleImputer(strategy='median')\n",
    "\n",
    "# Train on the training features\n",
    "imputer.fit(train_num)\n",
    "\n",
    "# Transform both training data and testing data\n",
    "train_imp= imputer.transform(train_num)\n",
    "val_imp = imputer.transform(val_num)\n",
    "test_imp = imputer.transform(test_num)\n",
    "\n",
    "# Creating this DataFrame is not necessary its only to show the result of the ohe\n",
    "X_train_imp = pd.DataFrame(train_imp, columns=train_num.columns, index=X_train.index)\n",
    "X_val_imp = pd.DataFrame(val_imp, columns=val_num.columns, index=X_val.index)\n",
    "X_test_imp = pd.DataFrame(test_imp, columns=test_num.columns, index=X_test.index)\n"
   ]
  },
  {
   "cell_type": "markdown",
   "metadata": {
    "jupyter": {
     "source_hidden": true
    }
   },
   "source": [
    "#### Train set"
   ]
  },
  {
   "cell_type": "code",
   "execution_count": 43,
   "metadata": {
    "collapsed": true,
    "jupyter": {
     "outputs_hidden": true,
     "source_hidden": true
    }
   },
   "outputs": [
    {
     "name": "stdout",
     "output_type": "stream",
     "text": [
      "<class 'pandas.core.frame.DataFrame'>\n",
      "RangeIndex: 3403 entries, 0 to 3402\n",
      "Data columns (total 18 columns):\n",
      " #   Column                                                                      Non-Null Count  Dtype  \n",
      "---  ------                                                                      --------------  -----  \n",
      " 0   percent_student_enrollment_white                                            3403 non-null   float64\n",
      " 1   percent_student_enrollment_black_or_african_american                        3403 non-null   float64\n",
      " 2   percent_student_enrollment_hispanic_or_latino                               3403 non-null   float64\n",
      " 3   percent_student_enrollment_asian                                            3403 non-null   float64\n",
      " 4   percent_student_enrollment_native_hawaiian_or_other_pacific_islander        3403 non-null   float64\n",
      " 5   percent_student_enrollment_american_indian_or_alaska_native                 3403 non-null   float64\n",
      " 6   percent_student_enrollment_two_or_more_races                                3403 non-null   float64\n",
      " 7   number_student_enrollment                                                   3403 non-null   float64\n",
      " 8   total_number_of_school_days                                                 3403 non-null   float64\n",
      " 9   student_attendance_rate                                                     3403 non-null   float64\n",
      " 10  student_chronic_truancy_rate                                                3403 non-null   float64\n",
      " 11  high_school_dropout_rate_total                                              3403 non-null   float64\n",
      " 12  high_school_5_year_graduation_rate_total                                    3403 non-null   float64\n",
      " 13  avg_class_size_high_school                                                  3403 non-null   float64\n",
      " 14  teacher_retention_rate                                                      3403 non-null   float64\n",
      " 15  percent_graduates_enrolled_in_a_postsecondary_institution_within_16_months  3403 non-null   float64\n",
      " 16  percent_graduates_enrolled_in_a_postsecondary_institution_within_12_months  3403 non-null   float64\n",
      " 17  percent_9th_grade_on_track                                                  3403 non-null   float64\n",
      "dtypes: float64(18)\n",
      "memory usage: 478.7 KB\n"
     ]
    }
   ],
   "source": [
    "X_train_imp.info()"
   ]
  },
  {
   "cell_type": "markdown",
   "metadata": {
    "jupyter": {
     "source_hidden": true
    }
   },
   "source": [
    "#### Val set"
   ]
  },
  {
   "cell_type": "code",
   "execution_count": 44,
   "metadata": {
    "collapsed": true,
    "jupyter": {
     "outputs_hidden": true,
     "source_hidden": true
    }
   },
   "outputs": [
    {
     "name": "stdout",
     "output_type": "stream",
     "text": [
      "<class 'pandas.core.frame.DataFrame'>\n",
      "RangeIndex: 721 entries, 0 to 720\n",
      "Data columns (total 18 columns):\n",
      " #   Column                                                                      Non-Null Count  Dtype  \n",
      "---  ------                                                                      --------------  -----  \n",
      " 0   percent_student_enrollment_white                                            721 non-null    float64\n",
      " 1   percent_student_enrollment_black_or_african_american                        721 non-null    float64\n",
      " 2   percent_student_enrollment_hispanic_or_latino                               721 non-null    float64\n",
      " 3   percent_student_enrollment_asian                                            721 non-null    float64\n",
      " 4   percent_student_enrollment_native_hawaiian_or_other_pacific_islander        721 non-null    float64\n",
      " 5   percent_student_enrollment_american_indian_or_alaska_native                 721 non-null    float64\n",
      " 6   percent_student_enrollment_two_or_more_races                                721 non-null    float64\n",
      " 7   number_student_enrollment                                                   721 non-null    float64\n",
      " 8   total_number_of_school_days                                                 721 non-null    float64\n",
      " 9   student_attendance_rate                                                     721 non-null    float64\n",
      " 10  student_chronic_truancy_rate                                                721 non-null    float64\n",
      " 11  high_school_dropout_rate_total                                              721 non-null    float64\n",
      " 12  high_school_5_year_graduation_rate_total                                    721 non-null    float64\n",
      " 13  avg_class_size_high_school                                                  721 non-null    float64\n",
      " 14  teacher_retention_rate                                                      721 non-null    float64\n",
      " 15  percent_graduates_enrolled_in_a_postsecondary_institution_within_16_months  721 non-null    float64\n",
      " 16  percent_graduates_enrolled_in_a_postsecondary_institution_within_12_months  721 non-null    float64\n",
      " 17  percent_9th_grade_on_track                                                  721 non-null    float64\n",
      "dtypes: float64(18)\n",
      "memory usage: 101.5 KB\n"
     ]
    }
   ],
   "source": [
    "X_val_imp.info()"
   ]
  },
  {
   "cell_type": "markdown",
   "metadata": {
    "jupyter": {
     "source_hidden": true
    }
   },
   "source": [
    "#### Test set"
   ]
  },
  {
   "cell_type": "code",
   "execution_count": 45,
   "metadata": {
    "collapsed": true,
    "jupyter": {
     "outputs_hidden": true,
     "source_hidden": true
    }
   },
   "outputs": [
    {
     "name": "stdout",
     "output_type": "stream",
     "text": [
      "<class 'pandas.core.frame.DataFrame'>\n",
      "RangeIndex: 720 entries, 0 to 719\n",
      "Data columns (total 18 columns):\n",
      " #   Column                                                                      Non-Null Count  Dtype  \n",
      "---  ------                                                                      --------------  -----  \n",
      " 0   percent_student_enrollment_white                                            720 non-null    float64\n",
      " 1   percent_student_enrollment_black_or_african_american                        720 non-null    float64\n",
      " 2   percent_student_enrollment_hispanic_or_latino                               720 non-null    float64\n",
      " 3   percent_student_enrollment_asian                                            720 non-null    float64\n",
      " 4   percent_student_enrollment_native_hawaiian_or_other_pacific_islander        720 non-null    float64\n",
      " 5   percent_student_enrollment_american_indian_or_alaska_native                 720 non-null    float64\n",
      " 6   percent_student_enrollment_two_or_more_races                                720 non-null    float64\n",
      " 7   number_student_enrollment                                                   720 non-null    float64\n",
      " 8   total_number_of_school_days                                                 720 non-null    float64\n",
      " 9   student_attendance_rate                                                     720 non-null    float64\n",
      " 10  student_chronic_truancy_rate                                                720 non-null    float64\n",
      " 11  high_school_dropout_rate_total                                              720 non-null    float64\n",
      " 12  high_school_5_year_graduation_rate_total                                    720 non-null    float64\n",
      " 13  avg_class_size_high_school                                                  720 non-null    float64\n",
      " 14  teacher_retention_rate                                                      720 non-null    float64\n",
      " 15  percent_graduates_enrolled_in_a_postsecondary_institution_within_16_months  720 non-null    float64\n",
      " 16  percent_graduates_enrolled_in_a_postsecondary_institution_within_12_months  720 non-null    float64\n",
      " 17  percent_9th_grade_on_track                                                  720 non-null    float64\n",
      "dtypes: float64(18)\n",
      "memory usage: 101.4 KB\n"
     ]
    }
   ],
   "source": [
    "X_test_imp.info()"
   ]
  },
  {
   "cell_type": "markdown",
   "metadata": {
    "jupyter": {
     "source_hidden": true
    }
   },
   "source": [
    "# Scaling Numeric features\n",
    "- Standard Scaler"
   ]
  },
  {
   "cell_type": "code",
   "execution_count": 46,
   "metadata": {
    "jupyter": {
     "source_hidden": true
    }
   },
   "outputs": [],
   "source": [
    "X_train_num = X_train_imp.select_dtypes(['float64', 'int64'])\n",
    "X_val_num = X_val_imp.select_dtypes(['float64', 'int64'])\n",
    "X_test_num = X_test_imp.select_dtypes(['float64', 'int64'])"
   ]
  },
  {
   "cell_type": "code",
   "execution_count": 47,
   "metadata": {
    "jupyter": {
     "source_hidden": true
    }
   },
   "outputs": [],
   "source": [
    "ss = StandardScaler()\n",
    "\n",
    "# Train on the training features\n",
    "ss.fit(X_train_num)\n",
    "\n",
    "# Transform both training data and testing data\n",
    "X_train_sc= ss.transform(X_train_num)\n",
    "X_val_sc = ss.transform(X_val_num)\n",
    "X_test_sc = ss.transform(X_test_num)\n",
    "\n",
    "\n",
    "X_train_sc = pd.DataFrame(X_train_sc, columns=X_train_num.columns, index=X_train.index)\n",
    "X_val_sc = pd.DataFrame(X_val_sc, columns=X_val_num.columns, index=X_val.index)\n",
    "X_test_sc = pd.DataFrame(X_test_sc, columns=X_test_num.columns, index=X_test.index)\n"
   ]
  },
  {
   "cell_type": "markdown",
   "metadata": {},
   "source": [
    "# Encoding Categorical features"
   ]
  },
  {
   "cell_type": "code",
   "execution_count": 18,
   "metadata": {},
   "outputs": [
    {
     "ename": "TypeError",
     "evalue": "descriptor 'rstrip' of 'str' object needs an argument",
     "output_type": "error",
     "traceback": [
      "\u001b[0;31m---------------------------------------------------------------------------\u001b[0m",
      "\u001b[0;31mTypeError\u001b[0m                                 Traceback (most recent call last)",
      "\u001b[0;32m<ipython-input-18-6b99aee287d7>\u001b[0m in \u001b[0;36m<module>\u001b[0;34m\u001b[0m\n\u001b[1;32m      1\u001b[0m \u001b[0mX_train_cat\u001b[0m \u001b[0;34m=\u001b[0m \u001b[0mX_train\u001b[0m\u001b[0;34m.\u001b[0m\u001b[0mselect_dtypes\u001b[0m\u001b[0;34m(\u001b[0m\u001b[0;34m[\u001b[0m\u001b[0;34m'object'\u001b[0m\u001b[0;34m]\u001b[0m\u001b[0;34m)\u001b[0m\u001b[0;34m\u001b[0m\u001b[0;34m\u001b[0m\u001b[0m\n\u001b[0;32m----> 2\u001b[0;31m \u001b[0mX_train_cat_trimmed\u001b[0m \u001b[0;34m=\u001b[0m \u001b[0mX_train_cat\u001b[0m\u001b[0;34m.\u001b[0m\u001b[0mapply\u001b[0m\u001b[0;34m(\u001b[0m\u001b[0mstr\u001b[0m\u001b[0;34m.\u001b[0m\u001b[0mrstrip\u001b[0m\u001b[0;34m(\u001b[0m\u001b[0;34m)\u001b[0m\u001b[0;34m)\u001b[0m\u001b[0;34m\u001b[0m\u001b[0;34m\u001b[0m\u001b[0m\n\u001b[0m",
      "\u001b[0;31mTypeError\u001b[0m: descriptor 'rstrip' of 'str' object needs an argument"
     ]
    }
   ],
   "source": [
    "X_train_cat = X_train.select_dtypes(['object'])\n",
    "data_frame_trimmed = data_frame.apply(lambda x: x.str.strip() if x.dtype == \"object\" else x)\n"
   ]
  },
  {
   "cell_type": "code",
   "execution_count": 29,
   "metadata": {},
   "outputs": [
    {
     "data": {
      "text/html": [
       "<div>\n",
       "<style scoped>\n",
       "    .dataframe tbody tr th:only-of-type {\n",
       "        vertical-align: middle;\n",
       "    }\n",
       "\n",
       "    .dataframe tbody tr th {\n",
       "        vertical-align: top;\n",
       "    }\n",
       "\n",
       "    .dataframe thead th {\n",
       "        text-align: right;\n",
       "    }\n",
       "</style>\n",
       "<table border=\"1\" class=\"dataframe\">\n",
       "  <thead>\n",
       "    <tr style=\"text-align: right;\">\n",
       "      <th></th>\n",
       "      <th>cohort</th>\n",
       "      <th>rcdts</th>\n",
       "      <th>school_name</th>\n",
       "      <th>district</th>\n",
       "      <th>city</th>\n",
       "      <th>county</th>\n",
       "      <th>district_type</th>\n",
       "      <th>district_size</th>\n",
       "      <th>school_type</th>\n",
       "      <th>grades_served</th>\n",
       "    </tr>\n",
       "  </thead>\n",
       "  <tbody>\n",
       "    <tr>\n",
       "      <th>0</th>\n",
       "      <td>2013</td>\n",
       "      <td>10010010260001</td>\n",
       "      <td>Seymour High School</td>\n",
       "      <td>Payson CUSD 1</td>\n",
       "      <td>Payson</td>\n",
       "      <td>Adams</td>\n",
       "      <td>UNIT</td>\n",
       "      <td>SMALL</td>\n",
       "      <td>HIGH SCHOOL</td>\n",
       "      <td>7 8 9 10 11 12</td>\n",
       "    </tr>\n",
       "    <tr>\n",
       "      <th>1</th>\n",
       "      <td>2013</td>\n",
       "      <td>10010020260001</td>\n",
       "      <td>Liberty High School</td>\n",
       "      <td>Liberty CUSD 2</td>\n",
       "      <td>Liberty</td>\n",
       "      <td>Adams</td>\n",
       "      <td>UNIT</td>\n",
       "      <td>MEDIUM</td>\n",
       "      <td>HIGH SCHOOL</td>\n",
       "      <td>7 8 9 10 11 12</td>\n",
       "    </tr>\n",
       "    <tr>\n",
       "      <th>2</th>\n",
       "      <td>2013</td>\n",
       "      <td>10010030260001</td>\n",
       "      <td>Central High School</td>\n",
       "      <td>Central CUSD 3</td>\n",
       "      <td>Camp Point</td>\n",
       "      <td>Adams</td>\n",
       "      <td>UNIT</td>\n",
       "      <td>MEDIUM</td>\n",
       "      <td>HIGH SCHOOL</td>\n",
       "      <td>9 10 11 12</td>\n",
       "    </tr>\n",
       "    <tr>\n",
       "      <th>3</th>\n",
       "      <td>2013</td>\n",
       "      <td>10010040260001</td>\n",
       "      <td>Unity High School</td>\n",
       "      <td>CUSD 4</td>\n",
       "      <td>Mendon</td>\n",
       "      <td>Adams</td>\n",
       "      <td>UNIT</td>\n",
       "      <td>MEDIUM</td>\n",
       "      <td>HIGH SCHOOL</td>\n",
       "      <td>9 10 11 12</td>\n",
       "    </tr>\n",
       "    <tr>\n",
       "      <th>4</th>\n",
       "      <td>2013</td>\n",
       "      <td>10011720220003</td>\n",
       "      <td>Quincy Sr High School</td>\n",
       "      <td>Quincy SD 172</td>\n",
       "      <td>Quincy</td>\n",
       "      <td>Adams</td>\n",
       "      <td>UNIT</td>\n",
       "      <td>LARGE</td>\n",
       "      <td>HIGH SCHOOL</td>\n",
       "      <td>10 11 12</td>\n",
       "    </tr>\n",
       "    <tr>\n",
       "      <th>...</th>\n",
       "      <td>...</td>\n",
       "      <td>...</td>\n",
       "      <td>...</td>\n",
       "      <td>...</td>\n",
       "      <td>...</td>\n",
       "      <td>...</td>\n",
       "      <td>...</td>\n",
       "      <td>...</td>\n",
       "      <td>...</td>\n",
       "      <td>...</td>\n",
       "    </tr>\n",
       "    <tr>\n",
       "      <th>3398</th>\n",
       "      <td>2017</td>\n",
       "      <td>560992100160002</td>\n",
       "      <td>Lincoln-Way East High School</td>\n",
       "      <td>Lincoln Way CHSD 210</td>\n",
       "      <td>Frankfort</td>\n",
       "      <td>Will</td>\n",
       "      <td>HIGH SCHOOL</td>\n",
       "      <td>LARGE</td>\n",
       "      <td>HIGH SCHOOL</td>\n",
       "      <td>9 10 11 12</td>\n",
       "    </tr>\n",
       "    <tr>\n",
       "      <th>3399</th>\n",
       "      <td>2017</td>\n",
       "      <td>560992100160004</td>\n",
       "      <td>Lincoln Way West</td>\n",
       "      <td>Lincoln Way CHSD 210</td>\n",
       "      <td>New Lenox</td>\n",
       "      <td>Will</td>\n",
       "      <td>HIGH SCHOOL</td>\n",
       "      <td>LARGE</td>\n",
       "      <td>HIGH SCHOOL</td>\n",
       "      <td>9 10 11 12</td>\n",
       "    </tr>\n",
       "    <tr>\n",
       "      <th>3400</th>\n",
       "      <td>2017</td>\n",
       "      <td>56099255U260001</td>\n",
       "      <td>Reed-Custer High School</td>\n",
       "      <td>Reed Custer CUSD 255U</td>\n",
       "      <td>Braidwood</td>\n",
       "      <td>Will</td>\n",
       "      <td>UNIT</td>\n",
       "      <td>MEDIUM</td>\n",
       "      <td>HIGH SCHOOL</td>\n",
       "      <td>9 10 11 12</td>\n",
       "    </tr>\n",
       "    <tr>\n",
       "      <th>3401</th>\n",
       "      <td>2017</td>\n",
       "      <td>56099365U260007</td>\n",
       "      <td>Bolingbrook High School</td>\n",
       "      <td>Valley View CUSD 365U</td>\n",
       "      <td>Bolingbrook</td>\n",
       "      <td>Will</td>\n",
       "      <td>UNIT</td>\n",
       "      <td>LARGE</td>\n",
       "      <td>HIGH SCHOOL</td>\n",
       "      <td>9 10 11 12</td>\n",
       "    </tr>\n",
       "    <tr>\n",
       "      <th>3402</th>\n",
       "      <td>2017</td>\n",
       "      <td>56099365U260008</td>\n",
       "      <td>Romeoville High School</td>\n",
       "      <td>Valley View CUSD 365U</td>\n",
       "      <td>Romeoville</td>\n",
       "      <td>Will</td>\n",
       "      <td>UNIT</td>\n",
       "      <td>LARGE</td>\n",
       "      <td>HIGH SCHOOL</td>\n",
       "      <td>9 10 11 12</td>\n",
       "    </tr>\n",
       "  </tbody>\n",
       "</table>\n",
       "<p>3403 rows × 10 columns</p>\n",
       "</div>"
      ],
      "text/plain": [
       "     cohort            rcdts                        school_name  \\\n",
       "0      2013   10010010260001  Seymour High School                 \n",
       "1      2013   10010020260001  Liberty High School                 \n",
       "2      2013   10010030260001  Central High School                 \n",
       "3      2013   10010040260001  Unity High School                   \n",
       "4      2013   10011720220003  Quincy Sr High School               \n",
       "...     ...              ...                                ...   \n",
       "3398   2017  560992100160002  Lincoln-Way East High School        \n",
       "3399   2017  560992100160004  Lincoln Way West                    \n",
       "3400   2017  56099255U260001  Reed-Custer High School             \n",
       "3401   2017  56099365U260007  Bolingbrook High School             \n",
       "3402   2017  56099365U260008  Romeoville High School              \n",
       "\n",
       "                               district               city       county  \\\n",
       "0     Payson CUSD 1                      Payson             Adams         \n",
       "1     Liberty CUSD 2                     Liberty            Adams         \n",
       "2     Central CUSD 3                     Camp Point         Adams         \n",
       "3     CUSD 4                             Mendon             Adams         \n",
       "4     Quincy SD 172                      Quincy             Adams         \n",
       "...                                 ...                ...          ...   \n",
       "3398  Lincoln Way CHSD 210               Frankfort          Will          \n",
       "3399  Lincoln Way CHSD 210               New Lenox          Will          \n",
       "3400  Reed Custer CUSD 255U              Braidwood          Will          \n",
       "3401  Valley View CUSD 365U              Bolingbrook        Will          \n",
       "3402  Valley View CUSD 365U              Romeoville         Will          \n",
       "\n",
       "     district_type district_size  school_type                    grades_served  \n",
       "0      UNIT               SMALL   HIGH SCHOOL  7 8 9 10 11 12                   \n",
       "1      UNIT               MEDIUM  HIGH SCHOOL  7 8 9 10 11 12                   \n",
       "2      UNIT               MEDIUM  HIGH SCHOOL  9 10 11 12                       \n",
       "3      UNIT               MEDIUM  HIGH SCHOOL  9 10 11 12                       \n",
       "4      UNIT               LARGE   HIGH SCHOOL  10 11 12                         \n",
       "...            ...           ...          ...                              ...  \n",
       "3398   HIGH SCHOOL        LARGE   HIGH SCHOOL  9 10 11 12                       \n",
       "3399   HIGH SCHOOL        LARGE   HIGH SCHOOL  9 10 11 12                       \n",
       "3400   UNIT               MEDIUM  HIGH SCHOOL  9 10 11 12                       \n",
       "3401   UNIT               LARGE   HIGH SCHOOL  9 10 11 12                       \n",
       "3402   UNIT               LARGE   HIGH SCHOOL  9 10 11 12                       \n",
       "\n",
       "[3403 rows x 10 columns]"
      ]
     },
     "execution_count": 29,
     "metadata": {},
     "output_type": "execute_result"
    }
   ],
   "source": [
    "X_train_cat = X_train.select_dtypes(['object'])\n",
    "X_train_cat"
   ]
  },
  {
   "cell_type": "code",
   "execution_count": 21,
   "metadata": {},
   "outputs": [],
   "source": [
    "X_val_cat = X_val.select_dtypes(['object'])\n"
   ]
  },
  {
   "cell_type": "code",
   "execution_count": 22,
   "metadata": {},
   "outputs": [],
   "source": [
    "X_test_cat = X_test.select_dtypes(['object'])\n"
   ]
  },
  {
   "cell_type": "code",
   "execution_count": null,
   "metadata": {
    "jupyter": {
     "source_hidden": true
    }
   },
   "outputs": [],
   "source": [
    "#lambda x: x.str.strip() if x.dtype == \"object\" else x)"
   ]
  },
  {
   "cell_type": "code",
   "execution_count": 23,
   "metadata": {},
   "outputs": [
    {
     "data": {
      "text/html": [
       "<div>\n",
       "<style scoped>\n",
       "    .dataframe tbody tr th:only-of-type {\n",
       "        vertical-align: middle;\n",
       "    }\n",
       "\n",
       "    .dataframe tbody tr th {\n",
       "        vertical-align: top;\n",
       "    }\n",
       "\n",
       "    .dataframe thead th {\n",
       "        text-align: right;\n",
       "    }\n",
       "</style>\n",
       "<table border=\"1\" class=\"dataframe\">\n",
       "  <thead>\n",
       "    <tr style=\"text-align: right;\">\n",
       "      <th></th>\n",
       "      <th>district_type</th>\n",
       "      <th>district_size</th>\n",
       "      <th>school_type</th>\n",
       "    </tr>\n",
       "  </thead>\n",
       "  <tbody>\n",
       "    <tr>\n",
       "      <th>0</th>\n",
       "      <td>UNIT</td>\n",
       "      <td>MEDIUM</td>\n",
       "      <td>HIGH SCHOOL</td>\n",
       "    </tr>\n",
       "    <tr>\n",
       "      <th>1</th>\n",
       "      <td>UNIT</td>\n",
       "      <td>MEDIUM</td>\n",
       "      <td>HIGH SCHOOL</td>\n",
       "    </tr>\n",
       "    <tr>\n",
       "      <th>2</th>\n",
       "      <td>UNIT</td>\n",
       "      <td>MEDIUM</td>\n",
       "      <td>HIGH SCHOOL</td>\n",
       "    </tr>\n",
       "    <tr>\n",
       "      <th>3</th>\n",
       "      <td>UNIT</td>\n",
       "      <td>MEDIUM</td>\n",
       "      <td>HIGH SCHOOL</td>\n",
       "    </tr>\n",
       "    <tr>\n",
       "      <th>4</th>\n",
       "      <td>UNIT</td>\n",
       "      <td>LARGE</td>\n",
       "      <td>HIGH SCHOOL</td>\n",
       "    </tr>\n",
       "    <tr>\n",
       "      <th>...</th>\n",
       "      <td>...</td>\n",
       "      <td>...</td>\n",
       "      <td>...</td>\n",
       "    </tr>\n",
       "    <tr>\n",
       "      <th>715</th>\n",
       "      <td>UNIT</td>\n",
       "      <td>LARGE</td>\n",
       "      <td>HIGH SCHOOL</td>\n",
       "    </tr>\n",
       "    <tr>\n",
       "      <th>716</th>\n",
       "      <td>UNIT</td>\n",
       "      <td>LARGE</td>\n",
       "      <td>HIGH SCHOOL</td>\n",
       "    </tr>\n",
       "    <tr>\n",
       "      <th>717</th>\n",
       "      <td>UNIT</td>\n",
       "      <td>LARGE</td>\n",
       "      <td>HIGH SCHOOL</td>\n",
       "    </tr>\n",
       "    <tr>\n",
       "      <th>718</th>\n",
       "      <td>HIGH SCHOOL</td>\n",
       "      <td>LARGE</td>\n",
       "      <td>HIGH SCHOOL</td>\n",
       "    </tr>\n",
       "    <tr>\n",
       "      <th>719</th>\n",
       "      <td>HIGH SCHOOL</td>\n",
       "      <td>LARGE</td>\n",
       "      <td>HIGH SCHOOL</td>\n",
       "    </tr>\n",
       "  </tbody>\n",
       "</table>\n",
       "<p>720 rows × 3 columns</p>\n",
       "</div>"
      ],
      "text/plain": [
       "    district_type district_size  school_type\n",
       "0            UNIT        MEDIUM  HIGH SCHOOL\n",
       "1            UNIT        MEDIUM  HIGH SCHOOL\n",
       "2            UNIT        MEDIUM  HIGH SCHOOL\n",
       "3            UNIT        MEDIUM  HIGH SCHOOL\n",
       "4            UNIT         LARGE  HIGH SCHOOL\n",
       "..            ...           ...          ...\n",
       "715          UNIT         LARGE  HIGH SCHOOL\n",
       "716          UNIT         LARGE  HIGH SCHOOL\n",
       "717          UNIT         LARGE  HIGH SCHOOL\n",
       "718   HIGH SCHOOL         LARGE  HIGH SCHOOL\n",
       "719   HIGH SCHOOL         LARGE  HIGH SCHOOL\n",
       "\n",
       "[720 rows x 3 columns]"
      ]
     },
     "execution_count": 23,
     "metadata": {},
     "output_type": "execute_result"
    }
   ],
   "source": [
    "#let's change these objects to categories\n",
    "X_train_cat.loc[:, ('district_type', 'district_size', 'school_type')].astype('category')\n",
    "X_val_cat.loc[:, ('district_type', 'district_size', 'school_type')].astype('category')\n",
    "X_test_cat.loc[:, ('district_type', 'district_size', 'school_type')].astype('category')"
   ]
  },
  {
   "cell_type": "code",
   "execution_count": 36,
   "metadata": {},
   "outputs": [
    {
     "ename": "TypeError",
     "evalue": "descriptor 'strip' of 'str' object needs an argument",
     "output_type": "error",
     "traceback": [
      "\u001b[0;31m---------------------------------------------------------------------------\u001b[0m",
      "\u001b[0;31mTypeError\u001b[0m                                 Traceback (most recent call last)",
      "\u001b[0;32m<ipython-input-36-dfb0e91c5657>\u001b[0m in \u001b[0;36m<module>\u001b[0;34m\u001b[0m\n\u001b[1;32m      1\u001b[0m X_train_cat.loc[:, ('district_type', 'district_size','district_size')] = X_train_cat.loc[:, \n\u001b[0;32m----> 2\u001b[0;31m                                                                                          ('district_type', 'district_size','district_size')].apply(str.strip())\n\u001b[0m",
      "\u001b[0;31mTypeError\u001b[0m: descriptor 'strip' of 'str' object needs an argument"
     ]
    }
   ],
   "source": [
    "X_train_cat.loc[:, ('district_type', 'district_size','district_size')] = X_train_cat.loc[:, \n",
    "                                                                                         ('district_type', 'district_size','district_size')].apply(str.strip())"
   ]
  },
  {
   "cell_type": "code",
   "execution_count": 31,
   "metadata": {},
   "outputs": [
    {
     "name": "stderr",
     "output_type": "stream",
     "text": [
      "/opt/anaconda3/lib/python3.7/site-packages/pandas/core/generic.py:5159: SettingWithCopyWarning: \n",
      "A value is trying to be set on a copy of a slice from a DataFrame.\n",
      "Try using .loc[row_indexer,col_indexer] = value instead\n",
      "\n",
      "See the caveats in the documentation: https://pandas.pydata.org/pandas-docs/stable/user_guide/indexing.html#returning-a-view-versus-a-copy\n",
      "  self[name] = value\n"
     ]
    },
    {
     "data": {
      "text/plain": [
       "0       HIGH SCHOOL\n",
       "1       HIGH SCHOOL\n",
       "2       HIGH SCHOOL\n",
       "3       HIGH SCHOOL\n",
       "4       HIGH SCHOOL\n",
       "           ...     \n",
       "3398    HIGH SCHOOL\n",
       "3399    HIGH SCHOOL\n",
       "3400    HIGH SCHOOL\n",
       "3401    HIGH SCHOOL\n",
       "3402    HIGH SCHOOL\n",
       "Name: school_type, Length: 3403, dtype: object"
      ]
     },
     "execution_count": 31,
     "metadata": {},
     "output_type": "execute_result"
    }
   ],
   "source": [
    "X_train_cat.district_type = X_train_cat.district_type.str.rstrip()\n",
    "X_train_cat.district_size.str.rstrip()\n",
    "X_train_cat.school_type.str.rstrip()"
   ]
  },
  {
   "cell_type": "code",
   "execution_count": 25,
   "metadata": {},
   "outputs": [
    {
     "data": {
      "text/plain": [
       "array(['MEDIUM', 'LARGE', 'SMALL'], dtype=object)"
      ]
     },
     "execution_count": 25,
     "metadata": {},
     "output_type": "execute_result"
    }
   ],
   "source": [
    "X_val_cat['district_size'].unique()"
   ]
  },
  {
   "cell_type": "code",
   "execution_count": 26,
   "metadata": {},
   "outputs": [
    {
     "data": {
      "text/plain": [
       "array(['SMALL ', 'MEDIUM', 'LARGE '], dtype=object)"
      ]
     },
     "execution_count": 26,
     "metadata": {},
     "output_type": "execute_result"
    }
   ],
   "source": [
    "X_train_cat['district_size'].unique()"
   ]
  },
  {
   "cell_type": "code",
   "execution_count": 21,
   "metadata": {},
   "outputs": [
    {
     "data": {
      "text/plain": [
       "array(['MEDIUM', 'LARGE', 'SMALL'], dtype=object)"
      ]
     },
     "execution_count": 21,
     "metadata": {},
     "output_type": "execute_result"
    }
   ],
   "source": [
    "X_test_cat['district_size'].unique()"
   ]
  },
  {
   "cell_type": "code",
   "execution_count": 22,
   "metadata": {},
   "outputs": [
    {
     "data": {
      "text/plain": [
       "0      HIGH SCHOOL\n",
       "1      HIGH SCHOOL\n",
       "2      HIGH SCHOOL\n",
       "3      HIGH SCHOOL\n",
       "4      HIGH SCHOOL\n",
       "          ...     \n",
       "716    HIGH SCHOOL\n",
       "717    HIGH SCHOOL\n",
       "718    HIGH SCHOOL\n",
       "719    HIGH SCHOOL\n",
       "720    HIGH SCHOOL\n",
       "Name: school_type, Length: 721, dtype: object"
      ]
     },
     "execution_count": 22,
     "metadata": {},
     "output_type": "execute_result"
    }
   ],
   "source": [
    "X_val_cat.district_type.str.rstrip()\n",
    "X_val_cat.district_size.str.rstrip()\n",
    "X_val_cat.school_type.str.rstrip()"
   ]
  },
  {
   "cell_type": "code",
   "execution_count": 23,
   "metadata": {},
   "outputs": [
    {
     "data": {
      "text/plain": [
       "0      HIGH SCHOOL\n",
       "1      HIGH SCHOOL\n",
       "2      HIGH SCHOOL\n",
       "3      HIGH SCHOOL\n",
       "4      HIGH SCHOOL\n",
       "          ...     \n",
       "715    HIGH SCHOOL\n",
       "716    HIGH SCHOOL\n",
       "717    HIGH SCHOOL\n",
       "718    HIGH SCHOOL\n",
       "719    HIGH SCHOOL\n",
       "Name: school_type, Length: 720, dtype: object"
      ]
     },
     "execution_count": 23,
     "metadata": {},
     "output_type": "execute_result"
    }
   ],
   "source": [
    "X_test_cat.district_type.str.rstrip()\n",
    "X_test_cat.district_size.str.rstrip()\n",
    "X_test_cat.school_type.str.rstrip()"
   ]
  },
  {
   "cell_type": "code",
   "execution_count": 54,
   "metadata": {},
   "outputs": [],
   "source": [
    "#encode the categoricals\n",
    "ohe = OneHotEncoder(drop='first')\n",
    "\n",
    "ohe.fit(X_train_cat)\n",
    "\n",
    "X_train_ohe = ohe.transform(X_train_cat).toarray()\n",
    "#X_val_ohe = ohe.transform(X_val_cat).toarray()\n",
    "#X_test_ohe = ohe.transform(X_test_cat).toarray()\n",
    "\n",
    "# Creating this DataFrame is not necessary its only to show the result of the ohe\n",
    "X_train_processed = pd.DataFrame(X_train_ohe, columns=ohe.get_feature_names(X_train_cat.columns))\n",
    "#X_val_processed = pd.DataFrame(X_val_ohe, columns=ohe.get_feature_names(X_val_cat.columns))\n",
    "#X_test_processed = pd.DataFrame(X_test_ohe, columns=ohe.get_feature_names(X_test_cat.columns))"
   ]
  },
  {
   "cell_type": "code",
   "execution_count": null,
   "metadata": {},
   "outputs": [],
   "source": [
    "X_train_all = pd.concat([X_train_sc, X_train_processed], axis=1)\n",
    "X_val_all = pd.concat([X_val_sc, X_val_processed], axis=1)\n",
    "X_test_all = pd.concat([X_test_sc, X_test_processed], axis=1)\n"
   ]
  },
  {
   "cell_type": "markdown",
   "metadata": {},
   "source": [
    "# 6. Test models\n",
    "- Linear Regression\n",
    "- Random Forest\n",
    "- Gradient Boost\n",
    "- Lasso\n",
    "- Ridge\n",
    "- SVM\n",
    "- KNN"
   ]
  },
  {
   "cell_type": "code",
   "execution_count": null,
   "metadata": {},
   "outputs": [],
   "source": [
    "# Takes in a model, trains the model, and evaluates the model on the test set\n",
    "def fit_and_eval(model):\n",
    "    \n",
    "    # Train the model\n",
    "    model.fit(X_train_all, y_train)\n",
    "    \n",
    "    # Make predictions and evalute\n",
    "    model_pred = model.predict(X_val_all)\n",
    "    model_r2 = r2_score(y_val, model_pred)\n",
    "    # Return the performance metric\n",
    "    return model_r2\n",
    "\n",
    "def cross_val(model):\n",
    "    \n",
    "    # Train the model\n",
    "    model.fit(X_train_all, y_train)\n",
    "    \n",
    "    # Make predictions and evalute\n",
    "    model_pred = model.predict(X_val_all)\n",
    "    #model_r2 = r2_score(y_val, model_pred)\n",
    "    model_cv = cross_val_score(model, X_train_all, y_train)\n",
    "    # Return the performance metric\n",
    "    return model_cv"
   ]
  },
  {
   "cell_type": "code",
   "execution_count": null,
   "metadata": {},
   "outputs": [],
   "source": [
    "linreg = LinearRegression()\n",
    "linreg_r2 = fit_and_eval(linreg)\n",
    "linreg_cv = cross_val(linreg)\n",
    "\n",
    "print('Linear Regression Performance on the validation set: R2 = %0.4f' % linreg_r2)\n",
    "print(f'Cross validation scores:{linreg_cv}' )"
   ]
  },
  {
   "cell_type": "code",
   "execution_count": null,
   "metadata": {},
   "outputs": [],
   "source": [
    "random_forest = RandomForestRegressor(random_state=19)\n",
    "random_forest_r2 = fit_and_eval(random_forest)\n",
    "random_forest_cv = cross_val(random_forest)\n",
    "\n",
    "print('Random Forest Performance on the test set: R2 = %0.4f' % random_forest_r2)\n",
    "print(f'Cross validation scores:{random_forest_cv}' )"
   ]
  },
  {
   "cell_type": "code",
   "execution_count": null,
   "metadata": {},
   "outputs": [],
   "source": [
    "extra_trees = ExtraTreesRegressor(random_state=19)\n",
    "extra_trees_r2 = fit_and_eval(extra_trees)\n",
    "extra_trees_cv = cross_val(extra_trees)\n",
    "\n",
    "print('Extra Trees Performance on the test set: R2 = %0.4f' % extra_trees_r2)\n",
    "print(f'Cross validation scores:{extra_trees_cv}' )"
   ]
  },
  {
   "cell_type": "code",
   "execution_count": null,
   "metadata": {},
   "outputs": [],
   "source": [
    "grad_boost = GradientBoostingRegressor(random_state=19)\n",
    "grad_boost_r2 = fit_and_eval(grad_boost)\n",
    "grad_boost_cv = cross_val(grad_boost)\n",
    "\n",
    "\n",
    "print('Gradient Boosted Performance on the test set: R2 = %0.4f' % grad_boost_r2)\n",
    "print(f'Cross validation scores:{grad_boost_cv}' )"
   ]
  },
  {
   "cell_type": "code",
   "execution_count": null,
   "metadata": {},
   "outputs": [],
   "source": [
    "# Create the model\n",
    "lasso = Lasso(random_state=19)\n",
    "lasso_r2 = fit_and_eval(lasso)\n",
    "lasso_cv = cross_val(lasso)\n",
    "\n",
    "\n",
    "print('Lasso model Performance on the test set: R2 = %0.4f' % lasso_r2)\n",
    "print(f'Cross validation scores:{lasso_cv}' )"
   ]
  },
  {
   "cell_type": "code",
   "execution_count": null,
   "metadata": {},
   "outputs": [],
   "source": [
    "ridge = Ridge(random_state=19)\n",
    "ridge_r2 = fit_and_eval(ridge)\n",
    "ridge_cv = cross_val(ridge)\n",
    "\n",
    "\n",
    "print('Ridge Model Performance on the test set: R2 = %0.4f' % ridge_r2)\n",
    "print(f'Cross validation scores:{ridge_cv}' )"
   ]
  },
  {
   "cell_type": "code",
   "execution_count": null,
   "metadata": {},
   "outputs": [],
   "source": [
    "svr = SVR()\n",
    "svr_r2 = fit_and_eval(svr)\n",
    "svr_cv = cross_val(svr)\n",
    "\n",
    "print('Support Vector Machine Regression Performance on the test set: R2 = %0.4f' % svr_r2)\n",
    "print(f'Cross validation scores:{svr_cv}' )"
   ]
  },
  {
   "cell_type": "code",
   "execution_count": null,
   "metadata": {},
   "outputs": [],
   "source": [
    "knn = KNeighborsRegressor()\n",
    "knn_r2 = fit_and_eval(knn)\n",
    "knn_cv = cross_val(knn)\n",
    "\n",
    "print('K-Nearest Neighbors Regression Performance on the test set: R2 = %0.4f' % knn_r2)\n",
    "print(f'Cross validation scores:{knn_cv}' )"
   ]
  },
  {
   "cell_type": "markdown",
   "metadata": {},
   "source": [
    "# 7. Select model"
   ]
  },
  {
   "cell_type": "code",
   "execution_count": null,
   "metadata": {},
   "outputs": [],
   "source": [
    "# Dataframe to hold the results\n",
    "           \n",
    "model_comparison = pd.DataFrame({'model': ['Linear Regression','Random Forest',\n",
    "                                           'Extra Trees','Gradient Boosted',\n",
    "                                           'Lasso', 'Ridge', 'SVR','K-Nearest Neighbors'],\n",
    "                                 'r2': [linreg_r2, random_forest_r2, extra_trees_r2, \n",
    "                                         grad_boost_r2, lasso_r2, ridge_r2, svr_r2, knn_r2]})\n",
    "\n",
    "# Horizontal bar chart of test r2\n",
    "model_comparison.sort_values('r2', ascending = False).plot(x = 'model', y = 'r2', kind = 'barh',\n",
    "                                                           color = '#99BDCB', edgecolor = 'black')\n",
    "\n",
    "# Plot formatting\n",
    "plt.ylabel(''); plt.yticks(size = 14); plt.xlabel('R squared'); plt.xticks(size = 14)\n",
    "plt.title('Model Comparison on Validation Set - R squared', size = 20);"
   ]
  },
  {
   "cell_type": "markdown",
   "metadata": {},
   "source": [
    "Results....\n"
   ]
  },
  {
   "cell_type": "markdown",
   "metadata": {},
   "source": [
    "# 8. grid search w cross val"
   ]
  },
  {
   "cell_type": "code",
   "execution_count": null,
   "metadata": {},
   "outputs": [],
   "source": [
    "# Loss function to be optimized\n",
    "loss = ['ls', 'lad', 'huber']\n",
    "\n",
    "# Number of trees used in the boosting process\n",
    "n_estimators = [100, 500, 900, 1100, 1500]\n",
    "\n",
    "# Maximum depth of each tree\n",
    "max_depth = [2, 3, 5, 10, 15]\n",
    "\n",
    "# Minimum number of samples per leaf\n",
    "min_samples_leaf = [1, 2, 4, 6, 8]\n",
    "\n",
    "# Minimum number of samples to split a node\n",
    "min_samples_split = [2, 4, 6, 10]\n",
    "\n",
    "# Maximum number of features to consider for making splits\n",
    "max_features = ['auto', 'sqrt', 'log2', None]\n",
    "\n",
    "# Define the grid of hyperparameters to search\n",
    "hyperparameter_grid = {'n_estimators': n_estimators,\n",
    "                       'max_depth': max_depth,\n",
    "                       'min_samples_leaf': min_samples_leaf,\n",
    "                       'min_samples_split': min_samples_split,\n",
    "                       'max_features': max_features}"
   ]
  },
  {
   "cell_type": "code",
   "execution_count": null,
   "metadata": {},
   "outputs": [],
   "source": [
    "# Create the model to use for hyperparameter tuning\n",
    "model = GradientBoostingRegressor(random_state = 19)\n",
    "\n",
    "# Set up the random search with 4-fold cross validation\n",
    "random_cv = RandomizedSearchCV(estimator=model,\n",
    "                               param_distributions=hyperparameter_grid,\n",
    "                               cv=4, n_iter=25, \n",
    "                               scoring = 'r2',\n",
    "                               n_jobs = -1, verbose = 1, \n",
    "                               return_train_score = True,\n",
    "                               random_state=19)"
   ]
  },
  {
   "cell_type": "code",
   "execution_count": null,
   "metadata": {},
   "outputs": [],
   "source": [
    "# Fit on the training data\n",
    "random_cv.fit(X_train_all, y_train)"
   ]
  },
  {
   "cell_type": "code",
   "execution_count": null,
   "metadata": {},
   "outputs": [],
   "source": [
    "# Find the best combination of settings\n",
    "random_cv.best_estimator_\n"
   ]
  },
  {
   "cell_type": "markdown",
   "metadata": {},
   "source": [
    "# 9. train"
   ]
  },
  {
   "cell_type": "code",
   "execution_count": null,
   "metadata": {},
   "outputs": [],
   "source": [
    "final_trees = ExtraTreesRegressor(bootstrap=False, criterion='mse', max_depth=15,\n",
    "                    max_features=None, max_leaf_nodes=None,\n",
    "                    min_impurity_decrease=0.0, min_impurity_split=None,\n",
    "                    min_samples_leaf=8, min_samples_split=4,\n",
    "                    min_weight_fraction_leaf=0.0, n_estimators=1500,\n",
    "                    n_jobs=None, oob_score=False, random_state=19, verbose=0,\n",
    "                    warm_start=False)\n",
    "\n",
    "\n",
    "final_trees_r2 = fit_and_eval(final_trees)\n",
    "\n",
    "print('Extra Trees Performance on the test set: R2 = %0.4f' % extra_trees_r2)"
   ]
  },
  {
   "cell_type": "code",
   "execution_count": null,
   "metadata": {},
   "outputs": [],
   "source": []
  },
  {
   "cell_type": "code",
   "execution_count": null,
   "metadata": {},
   "outputs": [],
   "source": []
  },
  {
   "cell_type": "code",
   "execution_count": null,
   "metadata": {},
   "outputs": [],
   "source": [
    "default_model = OLS\n",
    "final_model = final_trees"
   ]
  },
  {
   "cell_type": "markdown",
   "metadata": {},
   "source": [
    "# 10. evalutate on test set"
   ]
  },
  {
   "cell_type": "code",
   "execution_count": null,
   "metadata": {},
   "outputs": [],
   "source": [
    "# Make predictions on the test set using default and final model\n",
    "#default_pred = default_model.predict(X_test_all)\n",
    "final_pred = final_model.predict(X_test_all)"
   ]
  },
  {
   "cell_type": "code",
   "execution_count": null,
   "metadata": {},
   "outputs": [],
   "source": []
  },
  {
   "cell_type": "markdown",
   "metadata": {},
   "source": [
    "# 11. Model interpretation\n",
    "- feature impolrtances\n",
    " - create df & visualize\n",
    "- plot single decision tree\n",
    "- LIME"
   ]
  },
  {
   "cell_type": "code",
   "execution_count": null,
   "metadata": {},
   "outputs": [],
   "source": []
  },
  {
   "cell_type": "code",
   "execution_count": null,
   "metadata": {},
   "outputs": [],
   "source": []
  },
  {
   "cell_type": "code",
   "execution_count": null,
   "metadata": {},
   "outputs": [],
   "source": []
  },
  {
   "cell_type": "code",
   "execution_count": null,
   "metadata": {},
   "outputs": [],
   "source": []
  },
  {
   "cell_type": "code",
   "execution_count": null,
   "metadata": {},
   "outputs": [],
   "source": [
    "lin_reg_model = LinearRegression()\n",
    "baseline_cross_val_score = cross_val_score(lin_reg_model, X_train, y_train)\n",
    "baseline_cross_val_score"
   ]
  }
 ],
 "metadata": {
  "kernelspec": {
   "display_name": "grad-env",
   "language": "python",
   "name": "grad-env"
  },
  "language_info": {
   "codemirror_mode": {
    "name": "ipython",
    "version": 3
   },
   "file_extension": ".py",
   "mimetype": "text/x-python",
   "name": "python",
   "nbconvert_exporter": "python",
   "pygments_lexer": "ipython3",
   "version": "3.7.4"
  }
 },
 "nbformat": 4,
 "nbformat_minor": 4
}
