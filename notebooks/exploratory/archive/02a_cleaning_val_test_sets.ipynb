{
 "cells": [
  {
   "cell_type": "markdown",
   "metadata": {},
   "source": [
    "# Prediciting high school graduation rate of a cohort based on holistic data of the student population and school.\n",
    "\n",
    "What do variables about:\n",
    "- the broader structure of a school\n",
    "- the experience of previous cohorts\n",
    "- the freshmen, sophomore and junior year experience of rising seniors\n",
    "tell us about the graduating % of rising seniors?"
   ]
  },
  {
   "cell_type": "markdown",
   "metadata": {},
   "source": [
    "Data was gathered from https://www.isbe.net/pages/illinois-state-report-card-data.aspx\n",
    "I have collected end of year data for the following academic years:\n",
    "- 2018/19\n",
    "- 2017/18\n",
    "- 2016/17\n",
    "- 2015/16\n",
    "- 2014/15\n",
    "- 2013/14\n",
    "- 2012/13\n",
    "\n",
    "I will look at the following cohorts for training the data:\n",
    "\n",
    "- Class of 2017\n",
    "- Class of 2016\n",
    "\n",
    "and follow them thru their 4 years of high school (grades 9-12)\n",
    "\n",
    "I will run validation on \n",
    "- Class of 2018\n",
    "\n",
    "My test set with be \n",
    "- Class of 2019\n",
    "\n",
    "The goal is to predict the 4-year high school graduation rate for this cohort."
   ]
  },
  {
   "cell_type": "markdown",
   "metadata": {},
   "source": [
    "# Sections\n",
    "[Cleaning and exploring datasets](#Cleaning-and-exploring-datasets)\n",
    "- [Class of 2019](#Class-of-2019)\n",
    "- [Class of 2018](#Class-of-2018)\n",
    "- [Class of 2017](#Class-of-2017)\n",
    "- [Class of 2016](#Class-of-2016)\n",
    "- [Class of 2015](#Class-of-2015)\n",
    "- [Class of 2014](#Class-of-2014)\n",
    "- [Class of 2013](#Class-of-2013)\n",
    "\n",
    "[Concatenate dataframes](#Concatenate-dataframes)\n",
    "\n",
    "[EDA on merged dataframe](#EDA-on-merged-dataframe)\n",
    "\n",
    "\n"
   ]
  },
  {
   "cell_type": "code",
   "execution_count": null,
   "metadata": {},
   "outputs": [],
   "source": []
  },
  {
   "cell_type": "markdown",
   "metadata": {},
   "source": [
    "## Cleaning and exploring datasets"
   ]
  },
  {
   "cell_type": "markdown",
   "metadata": {},
   "source": [
    "Gathering the data for each of the academic years 2013 - 2017 involved downloading semi-colon separated .txt files, importing them into a spreadsheet, then matching the columns to headers that were recorded in a separate .xls file. While performing this task, I also selected feature set to use for this project.\n",
    "\n",
    "I also added a column to every academic year to identify the cohort by their graduation year (e.g. 2018). \n",
    "\n",
    "I will create a matrix of the information for each cohort."
   ]
  },
  {
   "cell_type": "code",
   "execution_count": 1,
   "metadata": {},
   "outputs": [],
   "source": [
    "%load_ext autoreload\n",
    "%autoreload 2\n",
    "import os\n",
    "import sys\n",
    "module_path = os.path.abspath(os.path.join(os.pardir, os.pardir))\n",
    "if module_path not in sys.path:\n",
    "    sys.path.append(module_path)"
   ]
  },
  {
   "cell_type": "code",
   "execution_count": 2,
   "metadata": {},
   "outputs": [
    {
     "name": "stderr",
     "output_type": "stream",
     "text": [
      "/opt/anaconda3/lib/python3.7/site-packages/statsmodels/tools/_testing.py:19: FutureWarning: pandas.util.testing is deprecated. Use the functions in the public API at pandas.testing instead.\n",
      "  import pandas.util.testing as tm\n"
     ]
    }
   ],
   "source": [
    "# import standard libraries\n",
    "import numpy as np\n",
    "import pandas as pd\n",
    "import matplotlib.pyplot as plt\n",
    "import seaborn as sns \n",
    "\n",
    "# import additional libraries\n",
    "import pandasql as ps\n",
    "from pandasql import sqldf\n",
    "\n",
    "import statsmodels.api as sm\n",
    "import statsmodels.formula.api as smf\n",
    "from statsmodels.formula.api import ols\n",
    "\n",
    "# functions from .py file\n",
    "import src.eda_functions as fun\n",
    "\n",
    "# pysqldf lambda function\n",
    "pysqldf = lambda q: sqldf(q, globals())\n",
    "\n",
    "# turn off warnings\n",
    "import warnings\n",
    "warnings.simplefilter('ignore', category = DeprecationWarning)\n",
    "warnings.simplefilter('ignore', category = FutureWarning)\n"
   ]
  },
  {
   "cell_type": "code",
   "execution_count": 3,
   "metadata": {},
   "outputs": [],
   "source": [
    "# plot parameters\n",
    "plt.rcParams['axes.labelsize'] = 20\n",
    "plt.rcParams['axes.titlesize'] = 25\n",
    "plt.rcParams['xtick.labelsize'] = 18\n",
    "plt.rcParams['ytick.labelsize'] = 18\n",
    "plt.rcParams['axes.edgecolor'] = 'black'\n",
    "plt.rcParams['axes.facecolor'] = 'white'\n",
    "plt.rcParams['font.size'] = 16"
   ]
  },
  {
   "cell_type": "markdown",
   "metadata": {},
   "source": [
    "### Step 1\n",
    "create a dataframe for each academic year for schools that serve grades 9 - 12.\n",
    "This will include traditional high schools and some charter schools that serve grades in addition to 9 - 12. This may have an impact on features such as the total number of students in a school, attendance rate and I will have to be aware and make corrections if needed."
   ]
  },
  {
   "cell_type": "markdown",
   "metadata": {},
   "source": [
    "### Class of 2019"
   ]
  },
  {
   "cell_type": "code",
   "execution_count": 4,
   "metadata": {},
   "outputs": [
    {
     "data": {
      "text/plain": [
       "(4738, 35)"
      ]
     },
     "execution_count": 4,
     "metadata": {},
     "output_type": "execute_result"
    }
   ],
   "source": [
    "df_19 = pd.read_excel('../../data/2019-Report-Card-Public-Data-Set_clean.xlsx', sheet_name=\"General\")\n",
    "df_19.shape"
   ]
  },
  {
   "cell_type": "code",
   "execution_count": 5,
   "metadata": {
    "scrolled": true
   },
   "outputs": [
    {
     "data": {
      "text/plain": [
       "['cohort',\n",
       " 'rcdts',\n",
       " 'school_name',\n",
       " 'district',\n",
       " 'city',\n",
       " 'county',\n",
       " 'district_type',\n",
       " 'district_size',\n",
       " 'school_type',\n",
       " 'grades_served',\n",
       " 'percent_student_enrollment_white',\n",
       " 'percent_student_enrollment_black_or_african_american',\n",
       " 'percent_student_enrollment_hispanic_or_latino',\n",
       " 'percent_student_enrollment_asian',\n",
       " 'percent_student_enrollment_native_hawaiian_or_other_pacific_islander',\n",
       " 'percent_student_enrollment_american_indian_or_alaska_native',\n",
       " 'percent_student_enrollment_two_or_more_races',\n",
       " 'number_student_enrollment',\n",
       " 'total_number_of_school_days',\n",
       " 'student_attendance_rate',\n",
       " 'student_chronic_truancy_rate',\n",
       " 'high_school_dropout_rate_total',\n",
       " 'high_school_4_year_graduation_rate_total',\n",
       " 'high_school_5_year_graduation_rate_total',\n",
       " 'avg_class_size_high_school',\n",
       " 'pupil_teacher_ratio_high_school',\n",
       " 'teacher_avg_salary',\n",
       " 'teacher_retention_rate',\n",
       " 'principal_turnover_within_6_years',\n",
       " 'percent_graduates_enrolled_in_a_postsecondary_institution_within_16_months',\n",
       " 'percent_graduates_enrolled_in_a_postsecondary_institution_within_12_months',\n",
       " 'percent_9th_grade_on_track',\n",
       " 'number_students_who_took_ap_classes_grade_10_total',\n",
       " 'number_students_who_took_ap_classes_grade_11_total',\n",
       " 'number_students_who_took_ap_classes_grade_12_total']"
      ]
     },
     "execution_count": 5,
     "metadata": {},
     "output_type": "execute_result"
    }
   ],
   "source": [
    "fun.clean_col(df_19)"
   ]
  },
  {
   "cell_type": "code",
   "execution_count": 6,
   "metadata": {},
   "outputs": [],
   "source": [
    "# create query to return schools with grades 9-12\n",
    "\n",
    "q1 = \"\"\"SELECT * \n",
    "       FROM df_19\n",
    "       WHERE grades_served LIKE \"%12%\";\"\"\"\n",
    "\n",
    "hs_19 = pysqldf(q1)"
   ]
  },
  {
   "cell_type": "code",
   "execution_count": 7,
   "metadata": {},
   "outputs": [
    {
     "data": {
      "text/html": [
       "<div>\n",
       "<style scoped>\n",
       "    .dataframe tbody tr th:only-of-type {\n",
       "        vertical-align: middle;\n",
       "    }\n",
       "\n",
       "    .dataframe tbody tr th {\n",
       "        vertical-align: top;\n",
       "    }\n",
       "\n",
       "    .dataframe thead th {\n",
       "        text-align: right;\n",
       "    }\n",
       "</style>\n",
       "<table border=\"1\" class=\"dataframe\">\n",
       "  <thead>\n",
       "    <tr style=\"text-align: right;\">\n",
       "      <th></th>\n",
       "      <th>cohort</th>\n",
       "      <th>rcdts</th>\n",
       "      <th>school_name</th>\n",
       "      <th>district</th>\n",
       "      <th>city</th>\n",
       "      <th>county</th>\n",
       "      <th>district_type</th>\n",
       "      <th>district_size</th>\n",
       "      <th>school_type</th>\n",
       "      <th>grades_served</th>\n",
       "      <th>...</th>\n",
       "      <th>pupil_teacher_ratio_high_school</th>\n",
       "      <th>teacher_avg_salary</th>\n",
       "      <th>teacher_retention_rate</th>\n",
       "      <th>principal_turnover_within_6_years</th>\n",
       "      <th>percent_graduates_enrolled_in_a_postsecondary_institution_within_16_months</th>\n",
       "      <th>percent_graduates_enrolled_in_a_postsecondary_institution_within_12_months</th>\n",
       "      <th>percent_9th_grade_on_track</th>\n",
       "      <th>number_students_who_took_ap_classes_grade_10_total</th>\n",
       "      <th>number_students_who_took_ap_classes_grade_11_total</th>\n",
       "      <th>number_students_who_took_ap_classes_grade_12_total</th>\n",
       "    </tr>\n",
       "  </thead>\n",
       "  <tbody>\n",
       "    <tr>\n",
       "      <th>0</th>\n",
       "      <td>2019</td>\n",
       "      <td>010010010260001</td>\n",
       "      <td>Seymour High School</td>\n",
       "      <td>Payson CUSD 1</td>\n",
       "      <td>Payson</td>\n",
       "      <td>Adams</td>\n",
       "      <td>UNIT</td>\n",
       "      <td>MEDIUM</td>\n",
       "      <td>HIGH SCHOOL</td>\n",
       "      <td>7 8 9 10 11 12</td>\n",
       "      <td>...</td>\n",
       "      <td>None</td>\n",
       "      <td>None</td>\n",
       "      <td>86.8</td>\n",
       "      <td>2.0</td>\n",
       "      <td>68.8</td>\n",
       "      <td>68.8</td>\n",
       "      <td>95.6</td>\n",
       "      <td>NaN</td>\n",
       "      <td>NaN</td>\n",
       "      <td>NaN</td>\n",
       "    </tr>\n",
       "    <tr>\n",
       "      <th>1</th>\n",
       "      <td>2019</td>\n",
       "      <td>010010020260001</td>\n",
       "      <td>Liberty High School</td>\n",
       "      <td>Liberty CUSD 2</td>\n",
       "      <td>Liberty</td>\n",
       "      <td>Adams</td>\n",
       "      <td>UNIT</td>\n",
       "      <td>MEDIUM</td>\n",
       "      <td>HIGH SCHOOL</td>\n",
       "      <td>7 8 9 10 11 12</td>\n",
       "      <td>...</td>\n",
       "      <td>None</td>\n",
       "      <td>None</td>\n",
       "      <td>83.9</td>\n",
       "      <td>2.0</td>\n",
       "      <td>58.1</td>\n",
       "      <td>58.1</td>\n",
       "      <td>94.0</td>\n",
       "      <td>NaN</td>\n",
       "      <td>NaN</td>\n",
       "      <td>NaN</td>\n",
       "    </tr>\n",
       "    <tr>\n",
       "      <th>2</th>\n",
       "      <td>2019</td>\n",
       "      <td>010010030260001</td>\n",
       "      <td>Central High School</td>\n",
       "      <td>Central CUSD 3</td>\n",
       "      <td>Camp Point</td>\n",
       "      <td>Adams</td>\n",
       "      <td>UNIT</td>\n",
       "      <td>MEDIUM</td>\n",
       "      <td>HIGH SCHOOL</td>\n",
       "      <td>9 10 11 12</td>\n",
       "      <td>...</td>\n",
       "      <td>None</td>\n",
       "      <td>None</td>\n",
       "      <td>83.3</td>\n",
       "      <td>2.0</td>\n",
       "      <td>75.0</td>\n",
       "      <td>73.3</td>\n",
       "      <td>94.9</td>\n",
       "      <td>NaN</td>\n",
       "      <td>NaN</td>\n",
       "      <td>NaN</td>\n",
       "    </tr>\n",
       "    <tr>\n",
       "      <th>3</th>\n",
       "      <td>2019</td>\n",
       "      <td>010010040260001</td>\n",
       "      <td>Unity High School</td>\n",
       "      <td>CUSD 4</td>\n",
       "      <td>Mendon</td>\n",
       "      <td>Adams</td>\n",
       "      <td>UNIT</td>\n",
       "      <td>MEDIUM</td>\n",
       "      <td>HIGH SCHOOL</td>\n",
       "      <td>9 10 11 12</td>\n",
       "      <td>...</td>\n",
       "      <td>None</td>\n",
       "      <td>None</td>\n",
       "      <td>86.4</td>\n",
       "      <td>1.0</td>\n",
       "      <td>60.7</td>\n",
       "      <td>60.7</td>\n",
       "      <td>92.9</td>\n",
       "      <td>NaN</td>\n",
       "      <td>NaN</td>\n",
       "      <td>27.0</td>\n",
       "    </tr>\n",
       "    <tr>\n",
       "      <th>4</th>\n",
       "      <td>2019</td>\n",
       "      <td>010011720220003</td>\n",
       "      <td>Quincy Sr High School</td>\n",
       "      <td>Quincy SD 172</td>\n",
       "      <td>Quincy</td>\n",
       "      <td>Adams</td>\n",
       "      <td>UNIT</td>\n",
       "      <td>LARGE</td>\n",
       "      <td>HIGH SCHOOL</td>\n",
       "      <td>9 10 11 12</td>\n",
       "      <td>...</td>\n",
       "      <td>None</td>\n",
       "      <td>None</td>\n",
       "      <td>86.4</td>\n",
       "      <td>2.0</td>\n",
       "      <td>67.7</td>\n",
       "      <td>65.7</td>\n",
       "      <td>74.9</td>\n",
       "      <td>68.0</td>\n",
       "      <td>127.0</td>\n",
       "      <td>126.0</td>\n",
       "    </tr>\n",
       "  </tbody>\n",
       "</table>\n",
       "<p>5 rows × 35 columns</p>\n",
       "</div>"
      ],
      "text/plain": [
       "   cohort            rcdts            school_name        district        city  \\\n",
       "0    2019  010010010260001    Seymour High School   Payson CUSD 1      Payson   \n",
       "1    2019  010010020260001    Liberty High School  Liberty CUSD 2     Liberty   \n",
       "2    2019  010010030260001    Central High School  Central CUSD 3  Camp Point   \n",
       "3    2019  010010040260001      Unity High School          CUSD 4      Mendon   \n",
       "4    2019  010011720220003  Quincy Sr High School   Quincy SD 172      Quincy   \n",
       "\n",
       "  county district_type district_size  school_type    grades_served  ...  \\\n",
       "0  Adams          UNIT        MEDIUM  HIGH SCHOOL   7 8 9 10 11 12  ...   \n",
       "1  Adams          UNIT        MEDIUM  HIGH SCHOOL   7 8 9 10 11 12  ...   \n",
       "2  Adams          UNIT        MEDIUM  HIGH SCHOOL       9 10 11 12  ...   \n",
       "3  Adams          UNIT        MEDIUM  HIGH SCHOOL       9 10 11 12  ...   \n",
       "4  Adams          UNIT         LARGE  HIGH SCHOOL       9 10 11 12  ...   \n",
       "\n",
       "   pupil_teacher_ratio_high_school  teacher_avg_salary  \\\n",
       "0                             None                None   \n",
       "1                             None                None   \n",
       "2                             None                None   \n",
       "3                             None                None   \n",
       "4                             None                None   \n",
       "\n",
       "   teacher_retention_rate  principal_turnover_within_6_years  \\\n",
       "0                    86.8                                2.0   \n",
       "1                    83.9                                2.0   \n",
       "2                    83.3                                2.0   \n",
       "3                    86.4                                1.0   \n",
       "4                    86.4                                2.0   \n",
       "\n",
       "   percent_graduates_enrolled_in_a_postsecondary_institution_within_16_months  \\\n",
       "0                                               68.8                            \n",
       "1                                               58.1                            \n",
       "2                                               75.0                            \n",
       "3                                               60.7                            \n",
       "4                                               67.7                            \n",
       "\n",
       "   percent_graduates_enrolled_in_a_postsecondary_institution_within_12_months  \\\n",
       "0                                               68.8                            \n",
       "1                                               58.1                            \n",
       "2                                               73.3                            \n",
       "3                                               60.7                            \n",
       "4                                               65.7                            \n",
       "\n",
       "   percent_9th_grade_on_track  \\\n",
       "0                        95.6   \n",
       "1                        94.0   \n",
       "2                        94.9   \n",
       "3                        92.9   \n",
       "4                        74.9   \n",
       "\n",
       "   number_students_who_took_ap_classes_grade_10_total  \\\n",
       "0                                                NaN    \n",
       "1                                                NaN    \n",
       "2                                                NaN    \n",
       "3                                                NaN    \n",
       "4                                               68.0    \n",
       "\n",
       "   number_students_who_took_ap_classes_grade_11_total  \\\n",
       "0                                                NaN    \n",
       "1                                                NaN    \n",
       "2                                                NaN    \n",
       "3                                                NaN    \n",
       "4                                              127.0    \n",
       "\n",
       "   number_students_who_took_ap_classes_grade_12_total  \n",
       "0                                                NaN   \n",
       "1                                                NaN   \n",
       "2                                                NaN   \n",
       "3                                               27.0   \n",
       "4                                              126.0   \n",
       "\n",
       "[5 rows x 35 columns]"
      ]
     },
     "execution_count": 7,
     "metadata": {},
     "output_type": "execute_result"
    }
   ],
   "source": [
    "hs_19.head()"
   ]
  },
  {
   "cell_type": "code",
   "execution_count": 8,
   "metadata": {},
   "outputs": [
    {
     "name": "stdout",
     "output_type": "stream",
     "text": [
      "<class 'pandas.core.frame.DataFrame'>\n",
      "RangeIndex: 720 entries, 0 to 719\n",
      "Data columns (total 35 columns):\n",
      " #   Column                                                                      Non-Null Count  Dtype  \n",
      "---  ------                                                                      --------------  -----  \n",
      " 0   cohort                                                                      720 non-null    int64  \n",
      " 1   rcdts                                                                       720 non-null    object \n",
      " 2   school_name                                                                 720 non-null    object \n",
      " 3   district                                                                    720 non-null    object \n",
      " 4   city                                                                        720 non-null    object \n",
      " 5   county                                                                      720 non-null    object \n",
      " 6   district_type                                                               720 non-null    object \n",
      " 7   district_size                                                               720 non-null    object \n",
      " 8   school_type                                                                 720 non-null    object \n",
      " 9   grades_served                                                               720 non-null    object \n",
      " 10  percent_student_enrollment_white                                            682 non-null    float64\n",
      " 11  percent_student_enrollment_black_or_african_american                        614 non-null    float64\n",
      " 12  percent_student_enrollment_hispanic_or_latino                               673 non-null    float64\n",
      " 13  percent_student_enrollment_asian                                            486 non-null    float64\n",
      " 14  percent_student_enrollment_native_hawaiian_or_other_pacific_islander        251 non-null    float64\n",
      " 15  percent_student_enrollment_american_indian_or_alaska_native                 389 non-null    float64\n",
      " 16  percent_student_enrollment_two_or_more_races                                637 non-null    float64\n",
      " 17  number_student_enrollment                                                   720 non-null    int64  \n",
      " 18  total_number_of_school_days                                                 717 non-null    float64\n",
      " 19  student_attendance_rate                                                     708 non-null    float64\n",
      " 20  student_chronic_truancy_rate                                                706 non-null    float64\n",
      " 21  high_school_dropout_rate_total                                              719 non-null    float64\n",
      " 22  high_school_4_year_graduation_rate_total                                    715 non-null    float64\n",
      " 23  high_school_5_year_graduation_rate_total                                    714 non-null    float64\n",
      " 24  avg_class_size_high_school                                                  711 non-null    float64\n",
      " 25  pupil_teacher_ratio_high_school                                             0 non-null      object \n",
      " 26  teacher_avg_salary                                                          0 non-null      object \n",
      " 27  teacher_retention_rate                                                      708 non-null    float64\n",
      " 28  principal_turnover_within_6_years                                           711 non-null    float64\n",
      " 29  percent_graduates_enrolled_in_a_postsecondary_institution_within_16_months  662 non-null    float64\n",
      " 30  percent_graduates_enrolled_in_a_postsecondary_institution_within_12_months  662 non-null    float64\n",
      " 31  percent_9th_grade_on_track                                                  682 non-null    float64\n",
      " 32  number_students_who_took_ap_classes_grade_10_total                          261 non-null    float64\n",
      " 33  number_students_who_took_ap_classes_grade_11_total                          387 non-null    float64\n",
      " 34  number_students_who_took_ap_classes_grade_12_total                          423 non-null    float64\n",
      "dtypes: float64(22), int64(2), object(11)\n",
      "memory usage: 197.0+ KB\n"
     ]
    }
   ],
   "source": [
    "hs_19.info()"
   ]
  },
  {
   "cell_type": "markdown",
   "metadata": {},
   "source": [
    "There are some columns that are have nulls. I am going to have to fix those.\n",
    "\n",
    "the `percentage_student_enrollment`... nulls can be changed to zero.\n",
    "I am assuming the same can be applied to columns 31-34. \n",
    "\n",
    "Will need to investigate further to see why there are missing values in 18-30."
   ]
  },
  {
   "cell_type": "code",
   "execution_count": 9,
   "metadata": {},
   "outputs": [
    {
     "data": {
      "text/plain": [
       "38"
      ]
     },
     "execution_count": 9,
     "metadata": {},
     "output_type": "execute_result"
    }
   ],
   "source": [
    "hs_19.percent_student_enrollment_white.isna().sum()"
   ]
  },
  {
   "cell_type": "code",
   "execution_count": 10,
   "metadata": {},
   "outputs": [
    {
     "data": {
      "text/plain": [
       "191      NaN\n",
       "196      NaN\n",
       "197      NaN\n",
       "199      NaN\n",
       "206      NaN\n",
       "       ...  \n",
       "159    100.0\n",
       "179    100.0\n",
       "454    100.0\n",
       "166    100.0\n",
       "422    100.0\n",
       "Name: percent_student_enrollment_white, Length: 720, dtype: float64"
      ]
     },
     "execution_count": 10,
     "metadata": {},
     "output_type": "execute_result"
    }
   ],
   "source": [
    "hs_19.percent_student_enrollment_white.sort_values(na_position='first')"
   ]
  },
  {
   "cell_type": "code",
   "execution_count": 11,
   "metadata": {},
   "outputs": [],
   "source": [
    "hs_19.percent_student_enrollment_white.replace(np.nan, 0, inplace=True)"
   ]
  },
  {
   "cell_type": "code",
   "execution_count": 12,
   "metadata": {},
   "outputs": [
    {
     "data": {
      "text/plain": [
       "0"
      ]
     },
     "execution_count": 12,
     "metadata": {},
     "output_type": "execute_result"
    }
   ],
   "source": [
    "hs_19.percent_student_enrollment_white.isna().sum()"
   ]
  },
  {
   "cell_type": "markdown",
   "metadata": {},
   "source": [
    "OK. that did the trick. Time to do the same for the other enrollment columns"
   ]
  },
  {
   "cell_type": "code",
   "execution_count": 13,
   "metadata": {},
   "outputs": [],
   "source": [
    "hs_19.percent_student_enrollment_black_or_african_american.replace(np.nan, 0, inplace=True)\n",
    "hs_19.percent_student_enrollment_hispanic_or_latino.replace(np.nan, 0, inplace=True)\n",
    "hs_19.percent_student_enrollment_asian.replace(np.nan, 0, inplace=True)\n",
    "hs_19.percent_student_enrollment_native_hawaiian_or_other_pacific_islander.replace(np.nan, 0, inplace=True)\n",
    "hs_19.percent_student_enrollment_american_indian_or_alaska_native.replace(np.nan, 0, inplace=True)\n",
    "hs_19.percent_student_enrollment_two_or_more_races.replace(np.nan, 0, inplace=True)"
   ]
  },
  {
   "cell_type": "markdown",
   "metadata": {},
   "source": [
    "...and the AP classes columns"
   ]
  },
  {
   "cell_type": "code",
   "execution_count": 14,
   "metadata": {},
   "outputs": [],
   "source": [
    "hs_19.number_students_who_took_ap_classes_grade_10_total.replace(np.nan, 0, inplace=True)\n",
    "hs_19.number_students_who_took_ap_classes_grade_11_total.replace(np.nan, 0, inplace=True)\n",
    "hs_19.number_students_who_took_ap_classes_grade_12_total.replace(np.nan, 0, inplace=True)"
   ]
  },
  {
   "cell_type": "code",
   "execution_count": 15,
   "metadata": {},
   "outputs": [
    {
     "data": {
      "text/plain": [
       "pupil_teacher_ratio_high_school                                               720\n",
       "teacher_avg_salary                                                            720\n",
       "percent_graduates_enrolled_in_a_postsecondary_institution_within_12_months     58\n",
       "percent_graduates_enrolled_in_a_postsecondary_institution_within_16_months     58\n",
       "percent_9th_grade_on_track                                                     38\n",
       "student_chronic_truancy_rate                                                   14\n",
       "student_attendance_rate                                                        12\n",
       "teacher_retention_rate                                                         12\n",
       "principal_turnover_within_6_years                                               9\n",
       "avg_class_size_high_school                                                      9\n",
       "high_school_5_year_graduation_rate_total                                        6\n",
       "high_school_4_year_graduation_rate_total                                        5\n",
       "total_number_of_school_days                                                     3\n",
       "high_school_dropout_rate_total                                                  1\n",
       "district_type                                                                   0\n",
       "city                                                                            0\n",
       "district_size                                                                   0\n",
       "county                                                                          0\n",
       "number_students_who_took_ap_classes_grade_12_total                              0\n",
       "district                                                                        0\n",
       "school_name                                                                     0\n",
       "grades_served                                                                   0\n",
       "rcdts                                                                           0\n",
       "school_type                                                                     0\n",
       "number_student_enrollment                                                       0\n",
       "percent_student_enrollment_white                                                0\n",
       "percent_student_enrollment_black_or_african_american                            0\n",
       "percent_student_enrollment_hispanic_or_latino                                   0\n",
       "percent_student_enrollment_asian                                                0\n",
       "percent_student_enrollment_native_hawaiian_or_other_pacific_islander            0\n",
       "percent_student_enrollment_american_indian_or_alaska_native                     0\n",
       "percent_student_enrollment_two_or_more_races                                    0\n",
       "number_students_who_took_ap_classes_grade_11_total                              0\n",
       "number_students_who_took_ap_classes_grade_10_total                              0\n",
       "cohort                                                                          0\n",
       "dtype: int64"
      ]
     },
     "execution_count": 15,
     "metadata": {},
     "output_type": "execute_result"
    }
   ],
   "source": [
    "hs_19.isnull().sum().sort_values(ascending=False)"
   ]
  },
  {
   "cell_type": "code",
   "execution_count": 16,
   "metadata": {},
   "outputs": [
    {
     "data": {
      "text/plain": [
       "['cohort',\n",
       " 'rcdts',\n",
       " 'school_name',\n",
       " 'district',\n",
       " 'city',\n",
       " 'county',\n",
       " 'district_type',\n",
       " 'district_size',\n",
       " 'school_type',\n",
       " 'grades_served',\n",
       " 'pupil_teacher_ratio_high_school',\n",
       " 'teacher_avg_salary']"
      ]
     },
     "execution_count": 16,
     "metadata": {},
     "output_type": "execute_result"
    }
   ],
   "source": [
    "# cohort should be a category\n",
    "hs_19['cohort'] = hs_19['cohort'].astype('object')\n",
    "# check that again\n",
    "list(hs_19.select_dtypes(['object', 'bool']))"
   ]
  },
  {
   "cell_type": "code",
   "execution_count": 17,
   "metadata": {},
   "outputs": [],
   "source": [
    "hs_19 = hs_19.drop(['teacher_avg_salary',\n",
    "                    'principal_turnover_within_6_years'], axis=1).copy()"
   ]
  },
  {
   "cell_type": "code",
   "execution_count": 18,
   "metadata": {},
   "outputs": [
    {
     "data": {
      "text/plain": [
       "pupil_teacher_ratio_high_school                                               720\n",
       "student_chronic_truancy_rate                                                   14\n",
       "teacher_retention_rate                                                         12\n",
       "student_attendance_rate                                                        12\n",
       "avg_class_size_high_school                                                      9\n",
       "total_number_of_school_days                                                     3\n",
       "high_school_dropout_rate_total                                                  1\n",
       "number_students_who_took_ap_classes_grade_12_total                              0\n",
       "percent_student_enrollment_white                                                0\n",
       "grades_served                                                                   0\n",
       "school_type                                                                     0\n",
       "district_size                                                                   0\n",
       "district_type                                                                   0\n",
       "percent_student_enrollment_hispanic_or_latino                                   0\n",
       "county                                                                          0\n",
       "city                                                                            0\n",
       "district                                                                        0\n",
       "school_name                                                                     0\n",
       "rcdts                                                                           0\n",
       "percent_student_enrollment_black_or_african_american                            0\n",
       "percent_student_enrollment_two_or_more_races                                    0\n",
       "percent_student_enrollment_asian                                                0\n",
       "percent_student_enrollment_native_hawaiian_or_other_pacific_islander            0\n",
       "percent_student_enrollment_american_indian_or_alaska_native                     0\n",
       "number_students_who_took_ap_classes_grade_11_total                              0\n",
       "number_student_enrollment                                                       0\n",
       "high_school_4_year_graduation_rate_total                                        0\n",
       "high_school_5_year_graduation_rate_total                                        0\n",
       "percent_graduates_enrolled_in_a_postsecondary_institution_within_16_months      0\n",
       "percent_graduates_enrolled_in_a_postsecondary_institution_within_12_months      0\n",
       "percent_9th_grade_on_track                                                      0\n",
       "number_students_who_took_ap_classes_grade_10_total                              0\n",
       "cohort                                                                          0\n",
       "dtype: int64"
      ]
     },
     "execution_count": 18,
     "metadata": {},
     "output_type": "execute_result"
    }
   ],
   "source": [
    "zeros = hs_19.loc[:, ('high_school_4_year_graduation_rate_total',\n",
    "                        'high_school_5_year_graduation_rate_total',\n",
    "                        'percent_graduates_enrolled_in_a_postsecondary_institution_within_16_months',\n",
    "                        'percent_graduates_enrolled_in_a_postsecondary_institution_within_12_months',\n",
    "                        'percent_9th_grade_on_track')]\n",
    "\n",
    "for zero in zeros:\n",
    "    hs_19[zero].fillna(0, inplace=True)\n",
    "    \n",
    "hs_19.isnull().sum().sort_values(ascending=False)"
   ]
  },
  {
   "cell_type": "code",
   "execution_count": 19,
   "metadata": {},
   "outputs": [],
   "source": [
    "nans = hs_19.loc[:, ('teacher_retention_rate', \n",
    "                    'pupil_teacher_ratio_high_school', \n",
    "                    'avg_class_size_high_school', \n",
    "                    'high_school_dropout_rate_total', \n",
    "                    'student_chronic_truancy_rate',\n",
    "                    'student_attendance_rate', \n",
    "                    'total_number_of_school_days' )]\n",
    "\n",
    "for nan in nans:\n",
    "    hs_19[nan].fillna(hs_19[nan].mean(), inplace=True)"
   ]
  },
  {
   "cell_type": "code",
   "execution_count": 20,
   "metadata": {},
   "outputs": [
    {
     "data": {
      "text/plain": [
       "pupil_teacher_ratio_high_school                                               720\n",
       "number_students_who_took_ap_classes_grade_12_total                              0\n",
       "district_size                                                                   0\n",
       "percent_student_enrollment_asian                                                0\n",
       "percent_student_enrollment_hispanic_or_latino                                   0\n",
       "percent_student_enrollment_black_or_african_american                            0\n",
       "percent_student_enrollment_white                                                0\n",
       "grades_served                                                                   0\n",
       "school_type                                                                     0\n",
       "district_type                                                                   0\n",
       "percent_student_enrollment_american_indian_or_alaska_native                     0\n",
       "county                                                                          0\n",
       "city                                                                            0\n",
       "district                                                                        0\n",
       "school_name                                                                     0\n",
       "rcdts                                                                           0\n",
       "percent_student_enrollment_native_hawaiian_or_other_pacific_islander            0\n",
       "percent_student_enrollment_two_or_more_races                                    0\n",
       "number_students_who_took_ap_classes_grade_11_total                              0\n",
       "number_student_enrollment                                                       0\n",
       "total_number_of_school_days                                                     0\n",
       "student_attendance_rate                                                         0\n",
       "student_chronic_truancy_rate                                                    0\n",
       "high_school_dropout_rate_total                                                  0\n",
       "high_school_4_year_graduation_rate_total                                        0\n",
       "high_school_5_year_graduation_rate_total                                        0\n",
       "avg_class_size_high_school                                                      0\n",
       "teacher_retention_rate                                                          0\n",
       "percent_graduates_enrolled_in_a_postsecondary_institution_within_16_months      0\n",
       "percent_graduates_enrolled_in_a_postsecondary_institution_within_12_months      0\n",
       "percent_9th_grade_on_track                                                      0\n",
       "number_students_who_took_ap_classes_grade_10_total                              0\n",
       "cohort                                                                          0\n",
       "dtype: int64"
      ]
     },
     "execution_count": 20,
     "metadata": {},
     "output_type": "execute_result"
    }
   ],
   "source": [
    "hs_19.isnull().sum().sort_values(ascending=False)"
   ]
  },
  {
   "cell_type": "code",
   "execution_count": null,
   "metadata": {},
   "outputs": [],
   "source": []
  },
  {
   "cell_type": "code",
   "execution_count": 21,
   "metadata": {},
   "outputs": [],
   "source": [
    "hs_19.to_csv('../../data/test_set.csv', index=False)"
   ]
  },
  {
   "cell_type": "markdown",
   "metadata": {},
   "source": [
    "### Class of 2018"
   ]
  },
  {
   "cell_type": "code",
   "execution_count": 22,
   "metadata": {},
   "outputs": [
    {
     "data": {
      "text/plain": [
       "(4754, 35)"
      ]
     },
     "execution_count": 22,
     "metadata": {},
     "output_type": "execute_result"
    }
   ],
   "source": [
    "df_18 = pd.read_excel('../../data/2018-Report-Card-Public-Data-Set_clean.xlsx', sheet_name=\"General\")\n",
    "df_18.shape"
   ]
  },
  {
   "cell_type": "code",
   "execution_count": 23,
   "metadata": {
    "scrolled": true
   },
   "outputs": [
    {
     "data": {
      "text/plain": [
       "['cohort',\n",
       " 'rcdts',\n",
       " 'school_name',\n",
       " 'district',\n",
       " 'city',\n",
       " 'county',\n",
       " 'district_type',\n",
       " 'district_size',\n",
       " 'school_type',\n",
       " 'grades_served',\n",
       " 'percent_student_enrollment_white',\n",
       " 'percent_student_enrollment_black_or_african_american',\n",
       " 'percent_student_enrollment_hispanic_or_latino',\n",
       " 'percent_student_enrollment_asian',\n",
       " 'percent_student_enrollment_native_hawaiian_or_other_pacific_islander',\n",
       " 'percent_student_enrollment_american_indian_or_alaska_native',\n",
       " 'percent_student_enrollment_two_or_more_races',\n",
       " 'number_student_enrollment',\n",
       " 'total_number_of_school_days',\n",
       " 'student_attendance_rate',\n",
       " 'student_chronic_truancy_rate',\n",
       " 'high_school_dropout_rate_total',\n",
       " 'high_school_4_year_graduation_rate_total',\n",
       " 'high_school_5_year_graduation_rate_total',\n",
       " 'avg_class_size_high_school',\n",
       " 'pupil_teacher_ratio_high_school',\n",
       " 'teacher_avg_salary',\n",
       " 'teacher_retention_rate',\n",
       " 'principal_turnover_within_6_years',\n",
       " 'percent_graduates_enrolled_in_a_postsecondary_institution_within_16_months',\n",
       " 'percent_graduates_enrolled_in_a_postsecondary_institution_within_12_months',\n",
       " 'percent_9th_grade_on_track',\n",
       " 'number_students_who_took_ap_classes_grade_10_total',\n",
       " 'number_students_who_took_ap_classes_grade_11_total',\n",
       " 'number_students_who_took_ap_classes_grade_12_total']"
      ]
     },
     "execution_count": 23,
     "metadata": {},
     "output_type": "execute_result"
    }
   ],
   "source": [
    "fun.clean_col(df_18)"
   ]
  },
  {
   "cell_type": "code",
   "execution_count": 24,
   "metadata": {},
   "outputs": [],
   "source": [
    "q2 = \"\"\"SELECT * \n",
    "       FROM df_18\n",
    "       WHERE grades_served LIKE \"%12%\";\"\"\"\n",
    "\n",
    "hs_18 = pysqldf(q2)"
   ]
  },
  {
   "cell_type": "code",
   "execution_count": 25,
   "metadata": {},
   "outputs": [
    {
     "data": {
      "text/html": [
       "<div>\n",
       "<style scoped>\n",
       "    .dataframe tbody tr th:only-of-type {\n",
       "        vertical-align: middle;\n",
       "    }\n",
       "\n",
       "    .dataframe tbody tr th {\n",
       "        vertical-align: top;\n",
       "    }\n",
       "\n",
       "    .dataframe thead th {\n",
       "        text-align: right;\n",
       "    }\n",
       "</style>\n",
       "<table border=\"1\" class=\"dataframe\">\n",
       "  <thead>\n",
       "    <tr style=\"text-align: right;\">\n",
       "      <th></th>\n",
       "      <th>cohort</th>\n",
       "      <th>rcdts</th>\n",
       "      <th>school_name</th>\n",
       "      <th>district</th>\n",
       "      <th>city</th>\n",
       "      <th>county</th>\n",
       "      <th>district_type</th>\n",
       "      <th>district_size</th>\n",
       "      <th>school_type</th>\n",
       "      <th>grades_served</th>\n",
       "      <th>...</th>\n",
       "      <th>pupil_teacher_ratio_high_school</th>\n",
       "      <th>teacher_avg_salary</th>\n",
       "      <th>teacher_retention_rate</th>\n",
       "      <th>principal_turnover_within_6_years</th>\n",
       "      <th>percent_graduates_enrolled_in_a_postsecondary_institution_within_16_months</th>\n",
       "      <th>percent_graduates_enrolled_in_a_postsecondary_institution_within_12_months</th>\n",
       "      <th>percent_9th_grade_on_track</th>\n",
       "      <th>number_students_who_took_ap_classes_grade_10_total</th>\n",
       "      <th>number_students_who_took_ap_classes_grade_11_total</th>\n",
       "      <th>number_students_who_took_ap_classes_grade_12_total</th>\n",
       "    </tr>\n",
       "  </thead>\n",
       "  <tbody>\n",
       "    <tr>\n",
       "      <th>0</th>\n",
       "      <td>2018</td>\n",
       "      <td>010010010260001</td>\n",
       "      <td>Seymour High School</td>\n",
       "      <td>Payson CUSD 1</td>\n",
       "      <td>Payson</td>\n",
       "      <td>Adams</td>\n",
       "      <td>UNIT</td>\n",
       "      <td>MEDIUM</td>\n",
       "      <td>HIGH SCHOOL</td>\n",
       "      <td>7 8 9 10 11 12</td>\n",
       "      <td>...</td>\n",
       "      <td>None</td>\n",
       "      <td>None</td>\n",
       "      <td>90.6</td>\n",
       "      <td>2.0</td>\n",
       "      <td>81.5</td>\n",
       "      <td>81.5</td>\n",
       "      <td>100.0</td>\n",
       "      <td>NaN</td>\n",
       "      <td>NaN</td>\n",
       "      <td>NaN</td>\n",
       "    </tr>\n",
       "    <tr>\n",
       "      <th>1</th>\n",
       "      <td>2018</td>\n",
       "      <td>010010020260001</td>\n",
       "      <td>Liberty High School</td>\n",
       "      <td>Liberty CUSD 2</td>\n",
       "      <td>Liberty</td>\n",
       "      <td>Adams</td>\n",
       "      <td>UNIT</td>\n",
       "      <td>MEDIUM</td>\n",
       "      <td>HIGH SCHOOL</td>\n",
       "      <td>7 8 9 10 11 12</td>\n",
       "      <td>...</td>\n",
       "      <td>None</td>\n",
       "      <td>None</td>\n",
       "      <td>84.8</td>\n",
       "      <td>2.0</td>\n",
       "      <td>80.4</td>\n",
       "      <td>80.4</td>\n",
       "      <td>93.0</td>\n",
       "      <td>NaN</td>\n",
       "      <td>NaN</td>\n",
       "      <td>NaN</td>\n",
       "    </tr>\n",
       "    <tr>\n",
       "      <th>2</th>\n",
       "      <td>2018</td>\n",
       "      <td>010010030260001</td>\n",
       "      <td>Central High School</td>\n",
       "      <td>Central CUSD 3</td>\n",
       "      <td>Camp Point</td>\n",
       "      <td>Adams</td>\n",
       "      <td>UNIT</td>\n",
       "      <td>MEDIUM</td>\n",
       "      <td>HIGH SCHOOL</td>\n",
       "      <td>9 10 11 12</td>\n",
       "      <td>...</td>\n",
       "      <td>None</td>\n",
       "      <td>None</td>\n",
       "      <td>83.7</td>\n",
       "      <td>1.0</td>\n",
       "      <td>75.0</td>\n",
       "      <td>75.0</td>\n",
       "      <td>94.0</td>\n",
       "      <td>NaN</td>\n",
       "      <td>NaN</td>\n",
       "      <td>NaN</td>\n",
       "    </tr>\n",
       "    <tr>\n",
       "      <th>3</th>\n",
       "      <td>2018</td>\n",
       "      <td>010010040260001</td>\n",
       "      <td>Unity High School</td>\n",
       "      <td>CUSD 4</td>\n",
       "      <td>Mendon</td>\n",
       "      <td>Adams</td>\n",
       "      <td>UNIT</td>\n",
       "      <td>MEDIUM</td>\n",
       "      <td>HIGH SCHOOL</td>\n",
       "      <td>9 10 11 12</td>\n",
       "      <td>...</td>\n",
       "      <td>None</td>\n",
       "      <td>None</td>\n",
       "      <td>83.7</td>\n",
       "      <td>1.0</td>\n",
       "      <td>74.0</td>\n",
       "      <td>72.0</td>\n",
       "      <td>80.0</td>\n",
       "      <td>NaN</td>\n",
       "      <td>NaN</td>\n",
       "      <td>20.0</td>\n",
       "    </tr>\n",
       "    <tr>\n",
       "      <th>4</th>\n",
       "      <td>2018</td>\n",
       "      <td>010011720220003</td>\n",
       "      <td>Quincy Sr High School</td>\n",
       "      <td>Quincy SD 172</td>\n",
       "      <td>Quincy</td>\n",
       "      <td>Adams</td>\n",
       "      <td>UNIT</td>\n",
       "      <td>LARGE</td>\n",
       "      <td>HIGH SCHOOL</td>\n",
       "      <td>9 10 11 12</td>\n",
       "      <td>...</td>\n",
       "      <td>None</td>\n",
       "      <td>None</td>\n",
       "      <td>81.9</td>\n",
       "      <td>3.0</td>\n",
       "      <td>68.9</td>\n",
       "      <td>68.2</td>\n",
       "      <td>51.0</td>\n",
       "      <td>109.0</td>\n",
       "      <td>110.0</td>\n",
       "      <td>148.0</td>\n",
       "    </tr>\n",
       "  </tbody>\n",
       "</table>\n",
       "<p>5 rows × 35 columns</p>\n",
       "</div>"
      ],
      "text/plain": [
       "   cohort            rcdts            school_name        district        city  \\\n",
       "0    2018  010010010260001    Seymour High School   Payson CUSD 1      Payson   \n",
       "1    2018  010010020260001    Liberty High School  Liberty CUSD 2     Liberty   \n",
       "2    2018  010010030260001    Central High School  Central CUSD 3  Camp Point   \n",
       "3    2018  010010040260001      Unity High School          CUSD 4      Mendon   \n",
       "4    2018  010011720220003  Quincy Sr High School   Quincy SD 172      Quincy   \n",
       "\n",
       "  county district_type district_size  school_type    grades_served  ...  \\\n",
       "0  Adams          UNIT        MEDIUM  HIGH SCHOOL   7 8 9 10 11 12  ...   \n",
       "1  Adams          UNIT        MEDIUM  HIGH SCHOOL   7 8 9 10 11 12  ...   \n",
       "2  Adams          UNIT        MEDIUM  HIGH SCHOOL       9 10 11 12  ...   \n",
       "3  Adams          UNIT        MEDIUM  HIGH SCHOOL       9 10 11 12  ...   \n",
       "4  Adams          UNIT         LARGE  HIGH SCHOOL       9 10 11 12  ...   \n",
       "\n",
       "   pupil_teacher_ratio_high_school  teacher_avg_salary  \\\n",
       "0                             None                None   \n",
       "1                             None                None   \n",
       "2                             None                None   \n",
       "3                             None                None   \n",
       "4                             None                None   \n",
       "\n",
       "   teacher_retention_rate  principal_turnover_within_6_years  \\\n",
       "0                    90.6                                2.0   \n",
       "1                    84.8                                2.0   \n",
       "2                    83.7                                1.0   \n",
       "3                    83.7                                1.0   \n",
       "4                    81.9                                3.0   \n",
       "\n",
       "   percent_graduates_enrolled_in_a_postsecondary_institution_within_16_months  \\\n",
       "0                                               81.5                            \n",
       "1                                               80.4                            \n",
       "2                                               75.0                            \n",
       "3                                               74.0                            \n",
       "4                                               68.9                            \n",
       "\n",
       "   percent_graduates_enrolled_in_a_postsecondary_institution_within_12_months  \\\n",
       "0                                               81.5                            \n",
       "1                                               80.4                            \n",
       "2                                               75.0                            \n",
       "3                                               72.0                            \n",
       "4                                               68.2                            \n",
       "\n",
       "   percent_9th_grade_on_track  \\\n",
       "0                       100.0   \n",
       "1                        93.0   \n",
       "2                        94.0   \n",
       "3                        80.0   \n",
       "4                        51.0   \n",
       "\n",
       "   number_students_who_took_ap_classes_grade_10_total  \\\n",
       "0                                                NaN    \n",
       "1                                                NaN    \n",
       "2                                                NaN    \n",
       "3                                                NaN    \n",
       "4                                              109.0    \n",
       "\n",
       "   number_students_who_took_ap_classes_grade_11_total  \\\n",
       "0                                                NaN    \n",
       "1                                                NaN    \n",
       "2                                                NaN    \n",
       "3                                                NaN    \n",
       "4                                              110.0    \n",
       "\n",
       "   number_students_who_took_ap_classes_grade_12_total  \n",
       "0                                                NaN   \n",
       "1                                                NaN   \n",
       "2                                                NaN   \n",
       "3                                               20.0   \n",
       "4                                              148.0   \n",
       "\n",
       "[5 rows x 35 columns]"
      ]
     },
     "execution_count": 25,
     "metadata": {},
     "output_type": "execute_result"
    }
   ],
   "source": [
    "hs_18.head()"
   ]
  },
  {
   "cell_type": "code",
   "execution_count": 26,
   "metadata": {},
   "outputs": [
    {
     "name": "stdout",
     "output_type": "stream",
     "text": [
      "<class 'pandas.core.frame.DataFrame'>\n",
      "RangeIndex: 721 entries, 0 to 720\n",
      "Data columns (total 35 columns):\n",
      " #   Column                                                                      Non-Null Count  Dtype  \n",
      "---  ------                                                                      --------------  -----  \n",
      " 0   cohort                                                                      721 non-null    int64  \n",
      " 1   rcdts                                                                       721 non-null    object \n",
      " 2   school_name                                                                 721 non-null    object \n",
      " 3   district                                                                    721 non-null    object \n",
      " 4   city                                                                        721 non-null    object \n",
      " 5   county                                                                      721 non-null    object \n",
      " 6   district_type                                                               721 non-null    object \n",
      " 7   district_size                                                               721 non-null    object \n",
      " 8   school_type                                                                 721 non-null    object \n",
      " 9   grades_served                                                               721 non-null    object \n",
      " 10  percent_student_enrollment_white                                            609 non-null    float64\n",
      " 11  percent_student_enrollment_black_or_african_american                        411 non-null    float64\n",
      " 12  percent_student_enrollment_hispanic_or_latino                               451 non-null    float64\n",
      " 13  percent_student_enrollment_asian                                            234 non-null    float64\n",
      " 14  percent_student_enrollment_native_hawaiian_or_other_pacific_islander        8 non-null      float64\n",
      " 15  percent_student_enrollment_american_indian_or_alaska_native                 40 non-null     float64\n",
      " 16  percent_student_enrollment_two_or_more_races                                328 non-null    float64\n",
      " 17  number_student_enrollment                                                   721 non-null    float64\n",
      " 18  total_number_of_school_days                                                 714 non-null    float64\n",
      " 19  student_attendance_rate                                                     714 non-null    float64\n",
      " 20  student_chronic_truancy_rate                                                714 non-null    float64\n",
      " 21  high_school_dropout_rate_total                                              721 non-null    float64\n",
      " 22  high_school_4_year_graduation_rate_total                                    716 non-null    float64\n",
      " 23  high_school_5_year_graduation_rate_total                                    696 non-null    float64\n",
      " 24  avg_class_size_high_school                                                  691 non-null    float64\n",
      " 25  pupil_teacher_ratio_high_school                                             0 non-null      object \n",
      " 26  teacher_avg_salary                                                          0 non-null      object \n",
      " 27  teacher_retention_rate                                                      654 non-null    float64\n",
      " 28  principal_turnover_within_6_years                                           702 non-null    float64\n",
      " 29  percent_graduates_enrolled_in_a_postsecondary_institution_within_16_months  658 non-null    float64\n",
      " 30  percent_graduates_enrolled_in_a_postsecondary_institution_within_12_months  658 non-null    float64\n",
      " 31  percent_9th_grade_on_track                                                  683 non-null    float64\n",
      " 32  number_students_who_took_ap_classes_grade_10_total                          252 non-null    float64\n",
      " 33  number_students_who_took_ap_classes_grade_11_total                          377 non-null    float64\n",
      " 34  number_students_who_took_ap_classes_grade_12_total                          431 non-null    float64\n",
      "dtypes: float64(23), int64(1), object(11)\n",
      "memory usage: 197.3+ KB\n"
     ]
    }
   ],
   "source": [
    "hs_18.info()"
   ]
  },
  {
   "cell_type": "markdown",
   "metadata": {},
   "source": [
    "Going to do the same clean up on hs_18"
   ]
  },
  {
   "cell_type": "code",
   "execution_count": 27,
   "metadata": {},
   "outputs": [],
   "source": [
    "hs_18.percent_student_enrollment_white.replace(np.nan, 0, inplace=True)\n",
    "hs_18.percent_student_enrollment_black_or_african_american.replace(np.nan, 0, inplace=True)\n",
    "hs_18.percent_student_enrollment_hispanic_or_latino.replace(np.nan, 0, inplace=True)\n",
    "hs_18.percent_student_enrollment_asian.replace(np.nan, 0, inplace=True)\n",
    "hs_18.percent_student_enrollment_native_hawaiian_or_other_pacific_islander.replace(np.nan, 0, inplace=True)\n",
    "hs_18.percent_student_enrollment_american_indian_or_alaska_native.replace(np.nan, 0, inplace=True)\n",
    "hs_18.percent_student_enrollment_two_or_more_races.replace(np.nan, 0, inplace=True)\n",
    "hs_18.number_students_who_took_ap_classes_grade_10_total.replace(np.nan, 0, inplace=True)\n",
    "hs_18.number_students_who_took_ap_classes_grade_11_total.replace(np.nan, 0, inplace=True)\n",
    "hs_18.number_students_who_took_ap_classes_grade_12_total.replace(np.nan, 0, inplace=True)"
   ]
  },
  {
   "cell_type": "code",
   "execution_count": 28,
   "metadata": {},
   "outputs": [
    {
     "data": {
      "text/plain": [
       "pupil_teacher_ratio_high_school                                               721\n",
       "teacher_avg_salary                                                            721\n",
       "teacher_retention_rate                                                         67\n",
       "percent_graduates_enrolled_in_a_postsecondary_institution_within_12_months     63\n",
       "percent_graduates_enrolled_in_a_postsecondary_institution_within_16_months     63\n",
       "percent_9th_grade_on_track                                                     38\n",
       "avg_class_size_high_school                                                     30\n",
       "high_school_5_year_graduation_rate_total                                       25\n",
       "principal_turnover_within_6_years                                              19\n",
       "student_chronic_truancy_rate                                                    7\n",
       "total_number_of_school_days                                                     7\n",
       "student_attendance_rate                                                         7\n",
       "high_school_4_year_graduation_rate_total                                        5\n",
       "district_type                                                                   0\n",
       "district_size                                                                   0\n",
       "city                                                                            0\n",
       "school_type                                                                     0\n",
       "county                                                                          0\n",
       "number_students_who_took_ap_classes_grade_12_total                              0\n",
       "district                                                                        0\n",
       "school_name                                                                     0\n",
       "percent_student_enrollment_white                                                0\n",
       "rcdts                                                                           0\n",
       "grades_served                                                                   0\n",
       "number_student_enrollment                                                       0\n",
       "percent_student_enrollment_black_or_african_american                            0\n",
       "percent_student_enrollment_hispanic_or_latino                                   0\n",
       "percent_student_enrollment_asian                                                0\n",
       "percent_student_enrollment_native_hawaiian_or_other_pacific_islander            0\n",
       "percent_student_enrollment_american_indian_or_alaska_native                     0\n",
       "percent_student_enrollment_two_or_more_races                                    0\n",
       "number_students_who_took_ap_classes_grade_11_total                              0\n",
       "high_school_dropout_rate_total                                                  0\n",
       "number_students_who_took_ap_classes_grade_10_total                              0\n",
       "cohort                                                                          0\n",
       "dtype: int64"
      ]
     },
     "execution_count": 28,
     "metadata": {},
     "output_type": "execute_result"
    }
   ],
   "source": [
    "hs_18.isnull().sum().sort_values(ascending=False)"
   ]
  },
  {
   "cell_type": "code",
   "execution_count": 29,
   "metadata": {},
   "outputs": [
    {
     "data": {
      "text/plain": [
       "['cohort',\n",
       " 'rcdts',\n",
       " 'school_name',\n",
       " 'district',\n",
       " 'city',\n",
       " 'county',\n",
       " 'district_type',\n",
       " 'district_size',\n",
       " 'school_type',\n",
       " 'grades_served',\n",
       " 'pupil_teacher_ratio_high_school',\n",
       " 'teacher_avg_salary']"
      ]
     },
     "execution_count": 29,
     "metadata": {},
     "output_type": "execute_result"
    }
   ],
   "source": [
    "# cohort should be a category\n",
    "hs_18['cohort'] = hs_18['cohort'].astype('object')\n",
    "# check that again\n",
    "list(hs_18.select_dtypes(['object', 'bool']))"
   ]
  },
  {
   "cell_type": "code",
   "execution_count": 30,
   "metadata": {},
   "outputs": [],
   "source": [
    "hs_18 = hs_18.drop(['teacher_avg_salary',\n",
    "                    'principal_turnover_within_6_years'], axis=1).copy()"
   ]
  },
  {
   "cell_type": "code",
   "execution_count": 31,
   "metadata": {},
   "outputs": [
    {
     "data": {
      "text/plain": [
       "pupil_teacher_ratio_high_school                                               721\n",
       "teacher_retention_rate                                                         67\n",
       "percent_graduates_enrolled_in_a_postsecondary_institution_within_12_months     63\n",
       "percent_graduates_enrolled_in_a_postsecondary_institution_within_16_months     63\n",
       "percent_9th_grade_on_track                                                     38\n",
       "avg_class_size_high_school                                                     30\n",
       "high_school_5_year_graduation_rate_total                                       25\n",
       "student_chronic_truancy_rate                                                    7\n",
       "student_attendance_rate                                                         7\n",
       "total_number_of_school_days                                                     7\n",
       "high_school_4_year_graduation_rate_total                                        5\n",
       "number_students_who_took_ap_classes_grade_12_total                              0\n",
       "county                                                                          0\n",
       "school_type                                                                     0\n",
       "district_size                                                                   0\n",
       "district_type                                                                   0\n",
       "school_name                                                                     0\n",
       "city                                                                            0\n",
       "district                                                                        0\n",
       "percent_student_enrollment_white                                                0\n",
       "rcdts                                                                           0\n",
       "grades_served                                                                   0\n",
       "percent_student_enrollment_two_or_more_races                                    0\n",
       "percent_student_enrollment_black_or_african_american                            0\n",
       "percent_student_enrollment_hispanic_or_latino                                   0\n",
       "percent_student_enrollment_asian                                                0\n",
       "percent_student_enrollment_native_hawaiian_or_other_pacific_islander            0\n",
       "percent_student_enrollment_american_indian_or_alaska_native                     0\n",
       "number_students_who_took_ap_classes_grade_11_total                              0\n",
       "number_student_enrollment                                                       0\n",
       "high_school_dropout_rate_total                                                  0\n",
       "number_students_who_took_ap_classes_grade_10_total                              0\n",
       "cohort                                                                          0\n",
       "dtype: int64"
      ]
     },
     "execution_count": 31,
     "metadata": {},
     "output_type": "execute_result"
    }
   ],
   "source": [
    "hs_18.isnull().sum().sort_values(ascending=False)"
   ]
  },
  {
   "cell_type": "code",
   "execution_count": 32,
   "metadata": {},
   "outputs": [
    {
     "data": {
      "text/plain": [
       "pupil_teacher_ratio_high_school                                               721\n",
       "teacher_retention_rate                                                         67\n",
       "avg_class_size_high_school                                                     30\n",
       "total_number_of_school_days                                                     7\n",
       "student_attendance_rate                                                         7\n",
       "student_chronic_truancy_rate                                                    7\n",
       "number_students_who_took_ap_classes_grade_12_total                              0\n",
       "district_size                                                                   0\n",
       "percent_student_enrollment_white                                                0\n",
       "grades_served                                                                   0\n",
       "school_type                                                                     0\n",
       "county                                                                          0\n",
       "district_type                                                                   0\n",
       "percent_student_enrollment_hispanic_or_latino                                   0\n",
       "city                                                                            0\n",
       "district                                                                        0\n",
       "school_name                                                                     0\n",
       "rcdts                                                                           0\n",
       "percent_student_enrollment_black_or_african_american                            0\n",
       "percent_student_enrollment_two_or_more_races                                    0\n",
       "percent_student_enrollment_asian                                                0\n",
       "percent_student_enrollment_native_hawaiian_or_other_pacific_islander            0\n",
       "percent_student_enrollment_american_indian_or_alaska_native                     0\n",
       "number_students_who_took_ap_classes_grade_11_total                              0\n",
       "number_student_enrollment                                                       0\n",
       "high_school_dropout_rate_total                                                  0\n",
       "high_school_4_year_graduation_rate_total                                        0\n",
       "high_school_5_year_graduation_rate_total                                        0\n",
       "percent_graduates_enrolled_in_a_postsecondary_institution_within_16_months      0\n",
       "percent_graduates_enrolled_in_a_postsecondary_institution_within_12_months      0\n",
       "percent_9th_grade_on_track                                                      0\n",
       "number_students_who_took_ap_classes_grade_10_total                              0\n",
       "cohort                                                                          0\n",
       "dtype: int64"
      ]
     },
     "execution_count": 32,
     "metadata": {},
     "output_type": "execute_result"
    }
   ],
   "source": [
    "zeros = hs_18.loc[:, ('high_school_4_year_graduation_rate_total',\n",
    "                        'high_school_5_year_graduation_rate_total',\n",
    "                        'percent_graduates_enrolled_in_a_postsecondary_institution_within_16_months',\n",
    "                        'percent_graduates_enrolled_in_a_postsecondary_institution_within_12_months',\n",
    "                        'percent_9th_grade_on_track')]\n",
    "\n",
    "for zero in zeros:\n",
    "    hs_18[zero].fillna(0, inplace=True)\n",
    "    \n",
    "hs_18.isnull().sum().sort_values(ascending=False)"
   ]
  },
  {
   "cell_type": "code",
   "execution_count": 33,
   "metadata": {},
   "outputs": [],
   "source": [
    "nans = hs_18.loc[:, ('teacher_retention_rate', \n",
    "                    'pupil_teacher_ratio_high_school', \n",
    "                    'avg_class_size_high_school', \n",
    "                    'high_school_dropout_rate_total', \n",
    "                    'pupil_teacher_ratio_high_school',\n",
    "                    'student_chronic_truancy_rate', \n",
    "                     'total_number_of_school_days', \n",
    "                     'student_attendance_rate')]\n",
    "\n",
    "for nan in nans:\n",
    "    hs_18[nan].fillna(hs_18[nan].mean(), inplace=True)"
   ]
  },
  {
   "cell_type": "code",
   "execution_count": 34,
   "metadata": {},
   "outputs": [
    {
     "data": {
      "text/plain": [
       "pupil_teacher_ratio_high_school                                               721\n",
       "number_students_who_took_ap_classes_grade_12_total                              0\n",
       "district_size                                                                   0\n",
       "percent_student_enrollment_asian                                                0\n",
       "percent_student_enrollment_hispanic_or_latino                                   0\n",
       "percent_student_enrollment_black_or_african_american                            0\n",
       "percent_student_enrollment_white                                                0\n",
       "grades_served                                                                   0\n",
       "school_type                                                                     0\n",
       "district_type                                                                   0\n",
       "percent_student_enrollment_american_indian_or_alaska_native                     0\n",
       "county                                                                          0\n",
       "city                                                                            0\n",
       "district                                                                        0\n",
       "school_name                                                                     0\n",
       "rcdts                                                                           0\n",
       "percent_student_enrollment_native_hawaiian_or_other_pacific_islander            0\n",
       "percent_student_enrollment_two_or_more_races                                    0\n",
       "number_students_who_took_ap_classes_grade_11_total                              0\n",
       "number_student_enrollment                                                       0\n",
       "total_number_of_school_days                                                     0\n",
       "student_attendance_rate                                                         0\n",
       "student_chronic_truancy_rate                                                    0\n",
       "high_school_dropout_rate_total                                                  0\n",
       "high_school_4_year_graduation_rate_total                                        0\n",
       "high_school_5_year_graduation_rate_total                                        0\n",
       "avg_class_size_high_school                                                      0\n",
       "teacher_retention_rate                                                          0\n",
       "percent_graduates_enrolled_in_a_postsecondary_institution_within_16_months      0\n",
       "percent_graduates_enrolled_in_a_postsecondary_institution_within_12_months      0\n",
       "percent_9th_grade_on_track                                                      0\n",
       "number_students_who_took_ap_classes_grade_10_total                              0\n",
       "cohort                                                                          0\n",
       "dtype: int64"
      ]
     },
     "execution_count": 34,
     "metadata": {},
     "output_type": "execute_result"
    }
   ],
   "source": [
    "hs_18.isnull().sum().sort_values(ascending=False)"
   ]
  },
  {
   "cell_type": "code",
   "execution_count": null,
   "metadata": {},
   "outputs": [],
   "source": []
  },
  {
   "cell_type": "code",
   "execution_count": 35,
   "metadata": {},
   "outputs": [
    {
     "data": {
      "text/plain": [
       "(721, 33)"
      ]
     },
     "execution_count": 35,
     "metadata": {},
     "output_type": "execute_result"
    }
   ],
   "source": [
    "hs_18.shape"
   ]
  },
  {
   "cell_type": "code",
   "execution_count": 36,
   "metadata": {},
   "outputs": [],
   "source": [
    "hs_18.to_csv('../../data/val_set.csv', index=False)"
   ]
  },
  {
   "cell_type": "markdown",
   "metadata": {},
   "source": [
    "I may almost be done cleaning, right?"
   ]
  }
 ],
 "metadata": {
  "kernelspec": {
   "display_name": "grad-env",
   "language": "python",
   "name": "grad-env"
  },
  "language_info": {
   "codemirror_mode": {
    "name": "ipython",
    "version": 3
   },
   "file_extension": ".py",
   "mimetype": "text/x-python",
   "name": "python",
   "nbconvert_exporter": "python",
   "pygments_lexer": "ipython3",
   "version": "3.7.4"
  }
 },
 "nbformat": 4,
 "nbformat_minor": 4
}
