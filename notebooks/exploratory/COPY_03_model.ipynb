{
 "cells": [
  {
   "cell_type": "markdown",
   "metadata": {},
   "source": [
    "# Modeling "
   ]
  },
  {
   "cell_type": "code",
   "execution_count": null,
   "metadata": {},
   "outputs": [],
   "source": []
  },
  {
   "cell_type": "code",
   "execution_count": null,
   "metadata": {},
   "outputs": [],
   "source": []
  },
  {
   "cell_type": "code",
   "execution_count": 1,
   "metadata": {},
   "outputs": [],
   "source": [
    "%load_ext autoreload\n",
    "%autoreload 2\n",
    "import os\n",
    "import sys\n",
    "module_path = os.path.abspath(os.path.join(os.pardir, os.pardir))\n",
    "if module_path not in sys.path:\n",
    "    sys.path.append(module_path)"
   ]
  },
  {
   "cell_type": "code",
   "execution_count": 2,
   "metadata": {},
   "outputs": [
    {
     "name": "stderr",
     "output_type": "stream",
     "text": [
      "/opt/anaconda3/lib/python3.7/site-packages/statsmodels/tools/_testing.py:19: FutureWarning: pandas.util.testing is deprecated. Use the functions in the public API at pandas.testing instead.\n",
      "  import pandas.util.testing as tm\n"
     ]
    }
   ],
   "source": [
    "# import standard libraries\n",
    "import numpy as np\n",
    "import pandas as pd\n",
    "import matplotlib.pyplot as plt\n",
    "%matplotlib inline\n",
    "\n",
    "import seaborn as sns \n",
    "\n",
    "\n",
    "# import additional libraries\n",
    "import statsmodels.api as sm\n",
    "import statsmodels.formula.api as smf\n",
    "from statsmodels.formula.api import ols\n",
    "\n",
    "# functions from .py file\n",
    "import src.eda_functions as fun\n",
    "\n",
    "\n",
    "# Machine Learning Models\n",
    "from sklearn.preprocessing import StandardScaler, OneHotEncoder\n",
    "from sklearn.linear_model import LinearRegression, Lasso, Ridge\n",
    "from sklearn.ensemble import RandomForestRegressor, GradientBoostingRegressor, ExtraTreesRegressor\n",
    "from sklearn.svm import SVR\n",
    "from sklearn.neighbors import KNeighborsRegressor\n",
    "from sklearn.model_selection import  cross_val_score\n",
    "from sklearn.metrics import r2_score, SCORERS\n",
    "from sklearn.model_selection import RandomizedSearchCV, GridSearchCV\n",
    "\n",
    "# turn off warnings\n",
    "import warnings\n",
    "warnings.simplefilter('ignore', category = DeprecationWarning)\n",
    "warnings.simplefilter('ignore', category = FutureWarning)"
   ]
  },
  {
   "cell_type": "markdown",
   "metadata": {},
   "source": [
    "read in merged_data file"
   ]
  },
  {
   "cell_type": "code",
   "execution_count": 3,
   "metadata": {},
   "outputs": [],
   "source": [
    "data = pd.read_csv('../../data/train_set.csv')\n",
    "val_set = pd.read_csv('../../data/val_set.csv')\n",
    "test_set = pd.read_csv('../../data/test_set.csv')"
   ]
  },
  {
   "cell_type": "code",
   "execution_count": 4,
   "metadata": {},
   "outputs": [
    {
     "data": {
      "text/html": [
       "<div>\n",
       "<style scoped>\n",
       "    .dataframe tbody tr th:only-of-type {\n",
       "        vertical-align: middle;\n",
       "    }\n",
       "\n",
       "    .dataframe tbody tr th {\n",
       "        vertical-align: top;\n",
       "    }\n",
       "\n",
       "    .dataframe thead th {\n",
       "        text-align: right;\n",
       "    }\n",
       "</style>\n",
       "<table border=\"1\" class=\"dataframe\">\n",
       "  <thead>\n",
       "    <tr style=\"text-align: right;\">\n",
       "      <th></th>\n",
       "      <th>cohort</th>\n",
       "      <th>rcdts</th>\n",
       "      <th>school_name</th>\n",
       "      <th>district</th>\n",
       "      <th>city</th>\n",
       "      <th>county</th>\n",
       "      <th>district_type</th>\n",
       "      <th>district_size</th>\n",
       "      <th>school_type</th>\n",
       "      <th>grades_served</th>\n",
       "      <th>...</th>\n",
       "      <th>high_school_5_year_graduation_rate_total</th>\n",
       "      <th>avg_class_size_high_school</th>\n",
       "      <th>pupil_teacher_ratio_high_school</th>\n",
       "      <th>teacher_retention_rate</th>\n",
       "      <th>percent_graduates_enrolled_in_a_postsecondary_institution_within_16_months</th>\n",
       "      <th>percent_graduates_enrolled_in_a_postsecondary_institution_within_12_months</th>\n",
       "      <th>percent_9th_grade_on_track</th>\n",
       "      <th>number_students_who_took_ap_classes_grade_10_total</th>\n",
       "      <th>number_students_who_took_ap_classes_grade_11_total</th>\n",
       "      <th>number_students_who_took_ap_classes_grade_12_total</th>\n",
       "    </tr>\n",
       "  </thead>\n",
       "  <tbody>\n",
       "    <tr>\n",
       "      <th>0</th>\n",
       "      <td>2013</td>\n",
       "      <td>10010010260001</td>\n",
       "      <td>Seymour High School</td>\n",
       "      <td>Payson CUSD 1</td>\n",
       "      <td>Payson</td>\n",
       "      <td>Adams</td>\n",
       "      <td>UNIT</td>\n",
       "      <td>SMALL</td>\n",
       "      <td>HIGH SCHOOL</td>\n",
       "      <td>7 8 9 10 11 12</td>\n",
       "      <td>...</td>\n",
       "      <td>94.1</td>\n",
       "      <td>11.1</td>\n",
       "      <td>NaN</td>\n",
       "      <td>NaN</td>\n",
       "      <td>NaN</td>\n",
       "      <td>NaN</td>\n",
       "      <td>NaN</td>\n",
       "      <td>NaN</td>\n",
       "      <td>NaN</td>\n",
       "      <td>NaN</td>\n",
       "    </tr>\n",
       "    <tr>\n",
       "      <th>1</th>\n",
       "      <td>2013</td>\n",
       "      <td>10010020260001</td>\n",
       "      <td>Liberty High School</td>\n",
       "      <td>Liberty CUSD 2</td>\n",
       "      <td>Liberty</td>\n",
       "      <td>Adams</td>\n",
       "      <td>UNIT</td>\n",
       "      <td>MEDIUM</td>\n",
       "      <td>HIGH SCHOOL</td>\n",
       "      <td>7 8 9 10 11 12</td>\n",
       "      <td>...</td>\n",
       "      <td>93.8</td>\n",
       "      <td>29.5</td>\n",
       "      <td>NaN</td>\n",
       "      <td>NaN</td>\n",
       "      <td>NaN</td>\n",
       "      <td>NaN</td>\n",
       "      <td>NaN</td>\n",
       "      <td>NaN</td>\n",
       "      <td>NaN</td>\n",
       "      <td>NaN</td>\n",
       "    </tr>\n",
       "    <tr>\n",
       "      <th>2</th>\n",
       "      <td>2013</td>\n",
       "      <td>10010030260001</td>\n",
       "      <td>Central High School</td>\n",
       "      <td>Central CUSD 3</td>\n",
       "      <td>Camp Point</td>\n",
       "      <td>Adams</td>\n",
       "      <td>UNIT</td>\n",
       "      <td>MEDIUM</td>\n",
       "      <td>HIGH SCHOOL</td>\n",
       "      <td>9 10 11 12</td>\n",
       "      <td>...</td>\n",
       "      <td>89.7</td>\n",
       "      <td>12.7</td>\n",
       "      <td>NaN</td>\n",
       "      <td>NaN</td>\n",
       "      <td>NaN</td>\n",
       "      <td>NaN</td>\n",
       "      <td>NaN</td>\n",
       "      <td>NaN</td>\n",
       "      <td>NaN</td>\n",
       "      <td>NaN</td>\n",
       "    </tr>\n",
       "    <tr>\n",
       "      <th>3</th>\n",
       "      <td>2013</td>\n",
       "      <td>10010040260001</td>\n",
       "      <td>Unity High School</td>\n",
       "      <td>CUSD 4</td>\n",
       "      <td>Mendon</td>\n",
       "      <td>Adams</td>\n",
       "      <td>UNIT</td>\n",
       "      <td>MEDIUM</td>\n",
       "      <td>HIGH SCHOOL</td>\n",
       "      <td>9 10 11 12</td>\n",
       "      <td>...</td>\n",
       "      <td>88.6</td>\n",
       "      <td>10.9</td>\n",
       "      <td>NaN</td>\n",
       "      <td>NaN</td>\n",
       "      <td>NaN</td>\n",
       "      <td>NaN</td>\n",
       "      <td>NaN</td>\n",
       "      <td>NaN</td>\n",
       "      <td>NaN</td>\n",
       "      <td>NaN</td>\n",
       "    </tr>\n",
       "    <tr>\n",
       "      <th>4</th>\n",
       "      <td>2013</td>\n",
       "      <td>10011720220003</td>\n",
       "      <td>Quincy Sr High School</td>\n",
       "      <td>Quincy SD 172</td>\n",
       "      <td>Quincy</td>\n",
       "      <td>Adams</td>\n",
       "      <td>UNIT</td>\n",
       "      <td>LARGE</td>\n",
       "      <td>HIGH SCHOOL</td>\n",
       "      <td>10 11 12</td>\n",
       "      <td>...</td>\n",
       "      <td>88.5</td>\n",
       "      <td>20.1</td>\n",
       "      <td>NaN</td>\n",
       "      <td>NaN</td>\n",
       "      <td>NaN</td>\n",
       "      <td>NaN</td>\n",
       "      <td>NaN</td>\n",
       "      <td>NaN</td>\n",
       "      <td>NaN</td>\n",
       "      <td>NaN</td>\n",
       "    </tr>\n",
       "  </tbody>\n",
       "</table>\n",
       "<p>5 rows × 33 columns</p>\n",
       "</div>"
      ],
      "text/plain": [
       "   cohort           rcdts                        school_name  \\\n",
       "0    2013  10010010260001  Seymour High School                 \n",
       "1    2013  10010020260001  Liberty High School                 \n",
       "2    2013  10010030260001  Central High School                 \n",
       "3    2013  10010040260001  Unity High School                   \n",
       "4    2013  10011720220003  Quincy Sr High School               \n",
       "\n",
       "                            district               city       county  \\\n",
       "0  Payson CUSD 1                      Payson             Adams         \n",
       "1  Liberty CUSD 2                     Liberty            Adams         \n",
       "2  Central CUSD 3                     Camp Point         Adams         \n",
       "3  CUSD 4                             Mendon             Adams         \n",
       "4  Quincy SD 172                      Quincy             Adams         \n",
       "\n",
       "  district_type district_size  school_type                    grades_served  \\\n",
       "0   UNIT               SMALL   HIGH SCHOOL  7 8 9 10 11 12                    \n",
       "1   UNIT               MEDIUM  HIGH SCHOOL  7 8 9 10 11 12                    \n",
       "2   UNIT               MEDIUM  HIGH SCHOOL  9 10 11 12                        \n",
       "3   UNIT               MEDIUM  HIGH SCHOOL  9 10 11 12                        \n",
       "4   UNIT               LARGE   HIGH SCHOOL  10 11 12                          \n",
       "\n",
       "   ...  high_school_5_year_graduation_rate_total  avg_class_size_high_school  \\\n",
       "0  ...                                      94.1                        11.1   \n",
       "1  ...                                      93.8                        29.5   \n",
       "2  ...                                      89.7                        12.7   \n",
       "3  ...                                      88.6                        10.9   \n",
       "4  ...                                      88.5                        20.1   \n",
       "\n",
       "   pupil_teacher_ratio_high_school  teacher_retention_rate  \\\n",
       "0                              NaN                     NaN   \n",
       "1                              NaN                     NaN   \n",
       "2                              NaN                     NaN   \n",
       "3                              NaN                     NaN   \n",
       "4                              NaN                     NaN   \n",
       "\n",
       "   percent_graduates_enrolled_in_a_postsecondary_institution_within_16_months  \\\n",
       "0                                                NaN                            \n",
       "1                                                NaN                            \n",
       "2                                                NaN                            \n",
       "3                                                NaN                            \n",
       "4                                                NaN                            \n",
       "\n",
       "   percent_graduates_enrolled_in_a_postsecondary_institution_within_12_months  \\\n",
       "0                                                NaN                            \n",
       "1                                                NaN                            \n",
       "2                                                NaN                            \n",
       "3                                                NaN                            \n",
       "4                                                NaN                            \n",
       "\n",
       "   percent_9th_grade_on_track  \\\n",
       "0                         NaN   \n",
       "1                         NaN   \n",
       "2                         NaN   \n",
       "3                         NaN   \n",
       "4                         NaN   \n",
       "\n",
       "   number_students_who_took_ap_classes_grade_10_total  \\\n",
       "0                                                NaN    \n",
       "1                                                NaN    \n",
       "2                                                NaN    \n",
       "3                                                NaN    \n",
       "4                                                NaN    \n",
       "\n",
       "   number_students_who_took_ap_classes_grade_11_total  \\\n",
       "0                                                NaN    \n",
       "1                                                NaN    \n",
       "2                                                NaN    \n",
       "3                                                NaN    \n",
       "4                                                NaN    \n",
       "\n",
       "   number_students_who_took_ap_classes_grade_12_total  \n",
       "0                                                NaN   \n",
       "1                                                NaN   \n",
       "2                                                NaN   \n",
       "3                                                NaN   \n",
       "4                                                NaN   \n",
       "\n",
       "[5 rows x 33 columns]"
      ]
     },
     "execution_count": 4,
     "metadata": {},
     "output_type": "execute_result"
    }
   ],
   "source": [
    "data.head()"
   ]
  },
  {
   "cell_type": "code",
   "execution_count": 5,
   "metadata": {},
   "outputs": [],
   "source": [
    "data['cohort'] = data['cohort'].astype('object')"
   ]
  },
  {
   "cell_type": "code",
   "execution_count": 6,
   "metadata": {},
   "outputs": [
    {
     "name": "stdout",
     "output_type": "stream",
     "text": [
      "<class 'pandas.core.frame.DataFrame'>\n",
      "RangeIndex: 3403 entries, 0 to 3402\n",
      "Data columns (total 33 columns):\n",
      " #   Column                                                                      Non-Null Count  Dtype  \n",
      "---  ------                                                                      --------------  -----  \n",
      " 0   cohort                                                                      3403 non-null   object \n",
      " 1   rcdts                                                                       3403 non-null   object \n",
      " 2   school_name                                                                 3403 non-null   object \n",
      " 3   district                                                                    3403 non-null   object \n",
      " 4   city                                                                        3403 non-null   object \n",
      " 5   county                                                                      3403 non-null   object \n",
      " 6   district_type                                                               3403 non-null   object \n",
      " 7   district_size                                                               3403 non-null   object \n",
      " 8   school_type                                                                 3403 non-null   object \n",
      " 9   grades_served                                                               3403 non-null   object \n",
      " 10  percent_student_enrollment_white                                            3403 non-null   float64\n",
      " 11  percent_student_enrollment_black_or_african_american                        3403 non-null   float64\n",
      " 12  percent_student_enrollment_hispanic_or_latino                               3403 non-null   float64\n",
      " 13  percent_student_enrollment_asian                                            3403 non-null   float64\n",
      " 14  percent_student_enrollment_native_hawaiian_or_other_pacific_islander        3403 non-null   float64\n",
      " 15  percent_student_enrollment_american_indian_or_alaska_native                 3403 non-null   float64\n",
      " 16  percent_student_enrollment_two_or_more_races                                3403 non-null   float64\n",
      " 17  number_student_enrollment                                                   3403 non-null   int64  \n",
      " 18  total_number_of_school_days                                                 3403 non-null   int64  \n",
      " 19  student_attendance_rate                                                     3403 non-null   float64\n",
      " 20  student_chronic_truancy_rate                                                3403 non-null   float64\n",
      " 21  high_school_dropout_rate_total                                              3401 non-null   float64\n",
      " 22  high_school_4_year_graduation_rate_total                                    3384 non-null   float64\n",
      " 23  high_school_5_year_graduation_rate_total                                    3343 non-null   float64\n",
      " 24  avg_class_size_high_school                                                  3369 non-null   float64\n",
      " 25  pupil_teacher_ratio_high_school                                             2721 non-null   float64\n",
      " 26  teacher_retention_rate                                                      2671 non-null   float64\n",
      " 27  percent_graduates_enrolled_in_a_postsecondary_institution_within_16_months  1963 non-null   float64\n",
      " 28  percent_graduates_enrolled_in_a_postsecondary_institution_within_12_months  1963 non-null   float64\n",
      " 29  percent_9th_grade_on_track                                                  1992 non-null   float64\n",
      " 30  number_students_who_took_ap_classes_grade_10_total                          1382 non-null   float64\n",
      " 31  number_students_who_took_ap_classes_grade_11_total                          1382 non-null   float64\n",
      " 32  number_students_who_took_ap_classes_grade_12_total                          1382 non-null   float64\n",
      "dtypes: float64(21), int64(2), object(10)\n",
      "memory usage: 877.5+ KB\n"
     ]
    }
   ],
   "source": [
    "data.info()"
   ]
  },
  {
   "cell_type": "markdown",
   "metadata": {},
   "source": [
    "# 1. Replace nans with zeros"
   ]
  },
  {
   "cell_type": "code",
   "execution_count": 7,
   "metadata": {},
   "outputs": [
    {
     "data": {
      "text/plain": [
       "teacher_retention_rate                                                        732\n",
       "pupil_teacher_ratio_high_school                                               682\n",
       "avg_class_size_high_school                                                     34\n",
       "high_school_dropout_rate_total                                                  2\n",
       "number_students_who_took_ap_classes_grade_12_total                              0\n",
       "percent_student_enrollment_black_or_african_american                            0\n",
       "percent_student_enrollment_white                                                0\n",
       "grades_served                                                                   0\n",
       "school_type                                                                     0\n",
       "district_size                                                                   0\n",
       "county                                                                          0\n",
       "district_type                                                                   0\n",
       "percent_student_enrollment_asian                                                0\n",
       "city                                                                            0\n",
       "district                                                                        0\n",
       "school_name                                                                     0\n",
       "rcdts                                                                           0\n",
       "percent_student_enrollment_hispanic_or_latino                                   0\n",
       "percent_student_enrollment_two_or_more_races                                    0\n",
       "percent_student_enrollment_native_hawaiian_or_other_pacific_islander            0\n",
       "percent_student_enrollment_american_indian_or_alaska_native                     0\n",
       "number_students_who_took_ap_classes_grade_11_total                              0\n",
       "number_student_enrollment                                                       0\n",
       "total_number_of_school_days                                                     0\n",
       "student_attendance_rate                                                         0\n",
       "student_chronic_truancy_rate                                                    0\n",
       "high_school_4_year_graduation_rate_total                                        0\n",
       "high_school_5_year_graduation_rate_total                                        0\n",
       "percent_graduates_enrolled_in_a_postsecondary_institution_within_16_months      0\n",
       "percent_graduates_enrolled_in_a_postsecondary_institution_within_12_months      0\n",
       "percent_9th_grade_on_track                                                      0\n",
       "number_students_who_took_ap_classes_grade_10_total                              0\n",
       "cohort                                                                          0\n",
       "dtype: int64"
      ]
     },
     "execution_count": 7,
     "metadata": {},
     "output_type": "execute_result"
    }
   ],
   "source": [
    "zeros = data.loc[:, ('high_school_4_year_graduation_rate_total',\n",
    "                        'high_school_5_year_graduation_rate_total',\n",
    "                        'percent_graduates_enrolled_in_a_postsecondary_institution_within_16_months',\n",
    "                        'percent_graduates_enrolled_in_a_postsecondary_institution_within_12_months',\n",
    "                        'percent_9th_grade_on_track', 'number_students_who_took_ap_classes_grade_12_total', \n",
    "                        'number_students_who_took_ap_classes_grade_11_total', \n",
    "                        'number_students_who_took_ap_classes_grade_10_total')]\n",
    "\n",
    "for zero in zeros:\n",
    "    data[zero].fillna(0, inplace=True)\n",
    "    \n",
    "data.isnull().sum().sort_values(ascending=False)"
   ]
  },
  {
   "cell_type": "markdown",
   "metadata": {},
   "source": [
    "# 2. Replace nans with mean()\n"
   ]
  },
  {
   "cell_type": "markdown",
   "metadata": {},
   "source": [
    "Use SimpleImputer to replace NaNs with mean value"
   ]
  },
  {
   "cell_type": "code",
   "execution_count": 8,
   "metadata": {},
   "outputs": [],
   "source": [
    "# identify features\n",
    "train_features = data.loc[:, ('teacher_retention_rate', 'pupil_teacher_ratio_high_school', \n",
    "                              'avg_class_size_high_school', 'high_school_dropout_rate_total', \n",
    "                             'total_number_of_school_days', 'student_attendance_rate', 'student_chronic_truancy_rate')]\n",
    "\n",
    "val_features = val_set.loc[:, ('teacher_retention_rate', 'pupil_teacher_ratio_high_school', \n",
    "                                'avg_class_size_high_school', 'high_school_dropout_rate_total', \n",
    "                               'total_number_of_school_days', 'student_attendance_rate', 'student_chronic_truancy_rate')]\n",
    "\n",
    "test_features = test_set.loc[:, ('teacher_retention_rate', 'pupil_teacher_ratio_high_school', \n",
    "                                 'avg_class_size_high_school', 'high_school_dropout_rate_total', \n",
    "                                 'total_number_of_school_days','student_attendance_rate', 'student_chronic_truancy_rate' )]"
   ]
  },
  {
   "cell_type": "code",
   "execution_count": 9,
   "metadata": {},
   "outputs": [],
   "source": [
    "from sklearn.impute import SimpleImputer\n",
    "\n",
    "# Create an imputer object with a median filling strategy\n",
    "imputer = SimpleImputer(strategy='median')\n",
    "\n",
    "# Train on the training features\n",
    "imputer.fit(train_features)\n",
    "\n",
    "# Transform both training data and testing data\n",
    "X_imp= imputer.transform(train_features)\n",
    "X_v_imp = imputer.transform(val_features)\n",
    "X_test_imp = imputer.transform(test_features)\n"
   ]
  },
  {
   "cell_type": "markdown",
   "metadata": {},
   "source": [
    "#### Train set"
   ]
  },
  {
   "cell_type": "code",
   "execution_count": 10,
   "metadata": {},
   "outputs": [],
   "source": [
    "# convert to DataFrame\n",
    "X_imp_processed = pd.DataFrame(X_imp, columns=train_features.columns)\n",
    "# replace NaNs with mean values\n",
    "\n",
    "data.loc[:, ('teacher_retention_rate', 'pupil_teacher_ratio_high_school', \n",
    "            'avg_class_size_high_school', 'high_school_dropout_rate_total'\n",
    "            )]= X_imp_processed.loc[:, ('teacher_retention_rate', 'pupil_teacher_ratio_high_school', \n",
    "                                        'avg_class_size_high_school', 'high_school_dropout_rate_total')]"
   ]
  },
  {
   "cell_type": "markdown",
   "metadata": {},
   "source": [
    "#### Val set"
   ]
  },
  {
   "cell_type": "code",
   "execution_count": 11,
   "metadata": {},
   "outputs": [
    {
     "name": "stdout",
     "output_type": "stream",
     "text": [
      "<class 'pandas.core.frame.DataFrame'>\n",
      "RangeIndex: 721 entries, 0 to 720\n",
      "Data columns (total 33 columns):\n",
      " #   Column                                                                      Non-Null Count  Dtype  \n",
      "---  ------                                                                      --------------  -----  \n",
      " 0   cohort                                                                      721 non-null    int64  \n",
      " 1   rcdts                                                                       721 non-null    object \n",
      " 2   school_name                                                                 721 non-null    object \n",
      " 3   district                                                                    721 non-null    object \n",
      " 4   city                                                                        721 non-null    object \n",
      " 5   county                                                                      721 non-null    object \n",
      " 6   district_type                                                               721 non-null    object \n",
      " 7   district_size                                                               721 non-null    object \n",
      " 8   school_type                                                                 721 non-null    object \n",
      " 9   grades_served                                                               721 non-null    object \n",
      " 10  percent_student_enrollment_white                                            721 non-null    float64\n",
      " 11  percent_student_enrollment_black_or_african_american                        721 non-null    float64\n",
      " 12  percent_student_enrollment_hispanic_or_latino                               721 non-null    float64\n",
      " 13  percent_student_enrollment_asian                                            721 non-null    float64\n",
      " 14  percent_student_enrollment_native_hawaiian_or_other_pacific_islander        721 non-null    float64\n",
      " 15  percent_student_enrollment_american_indian_or_alaska_native                 721 non-null    float64\n",
      " 16  percent_student_enrollment_two_or_more_races                                721 non-null    float64\n",
      " 17  number_student_enrollment                                                   721 non-null    float64\n",
      " 18  total_number_of_school_days                                                 721 non-null    float64\n",
      " 19  student_attendance_rate                                                     721 non-null    float64\n",
      " 20  student_chronic_truancy_rate                                                721 non-null    float64\n",
      " 21  high_school_dropout_rate_total                                              721 non-null    float64\n",
      " 22  high_school_4_year_graduation_rate_total                                    721 non-null    float64\n",
      " 23  high_school_5_year_graduation_rate_total                                    721 non-null    float64\n",
      " 24  avg_class_size_high_school                                                  721 non-null    float64\n",
      " 25  pupil_teacher_ratio_high_school                                             721 non-null    float64\n",
      " 26  teacher_retention_rate                                                      721 non-null    float64\n",
      " 27  percent_graduates_enrolled_in_a_postsecondary_institution_within_16_months  721 non-null    float64\n",
      " 28  percent_graduates_enrolled_in_a_postsecondary_institution_within_12_months  721 non-null    float64\n",
      " 29  percent_9th_grade_on_track                                                  721 non-null    float64\n",
      " 30  number_students_who_took_ap_classes_grade_10_total                          721 non-null    float64\n",
      " 31  number_students_who_took_ap_classes_grade_11_total                          721 non-null    float64\n",
      " 32  number_students_who_took_ap_classes_grade_12_total                          721 non-null    float64\n",
      "dtypes: float64(23), int64(1), object(9)\n",
      "memory usage: 186.0+ KB\n"
     ]
    }
   ],
   "source": [
    "# convert to DataFrame\n",
    "X_v_imp_processed = pd.DataFrame(X_v_imp, columns=val_features.columns)\n",
    "# replace NaNs with mean values\n",
    "\n",
    "val_set.loc[:, ('teacher_retention_rate', 'pupil_teacher_ratio_high_school', \n",
    "            'avg_class_size_high_school', 'high_school_dropout_rate_total', 'total_number_of_school_days', \n",
    "                'student_attendance_rate', 'student_chronic_truancy_rate'\n",
    "            )]= X_v_imp_processed.loc[:, ('teacher_retention_rate', 'pupil_teacher_ratio_high_school', \n",
    "            'avg_class_size_high_school', 'high_school_dropout_rate_total', 'total_number_of_school_days', \n",
    "                                          'student_attendance_rate', 'student_chronic_truancy_rate')]\n",
    "\n",
    "val_set.info()"
   ]
  },
  {
   "cell_type": "markdown",
   "metadata": {},
   "source": [
    "#### Test set"
   ]
  },
  {
   "cell_type": "code",
   "execution_count": 12,
   "metadata": {},
   "outputs": [],
   "source": [
    "# convert to DataFrame\n",
    "X_test_imp_processed = pd.DataFrame(X_test_imp, columns=test_features.columns)\n",
    "# replace NaNs with mean values\n",
    "\n",
    "test_set.loc[:, ('teacher_retention_rate', 'pupil_teacher_ratio_high_school', \n",
    "                 'avg_class_size_high_school', 'high_school_dropout_rate_total', 'total_number_of_school_days','student_attendance_rate', 'student_chronic_truancy_rate'\n",
    "            )]= X_test_imp_processed.loc[:, ('teacher_retention_rate', 'pupil_teacher_ratio_high_school', \n",
    "                'avg_class_size_high_school', 'high_school_dropout_rate_total', 'total_number_of_school_days', \n",
    "                'student_attendance_rate', 'student_chronic_truancy_rate')]"
   ]
  },
  {
   "cell_type": "code",
   "execution_count": 13,
   "metadata": {},
   "outputs": [
    {
     "name": "stdout",
     "output_type": "stream",
     "text": [
      "<class 'pandas.core.frame.DataFrame'>\n",
      "RangeIndex: 3403 entries, 0 to 3402\n",
      "Data columns (total 23 columns):\n",
      " #   Column                                                                      Non-Null Count  Dtype  \n",
      "---  ------                                                                      --------------  -----  \n",
      " 0   percent_student_enrollment_white                                            3403 non-null   float64\n",
      " 1   percent_student_enrollment_black_or_african_american                        3403 non-null   float64\n",
      " 2   percent_student_enrollment_hispanic_or_latino                               3403 non-null   float64\n",
      " 3   percent_student_enrollment_asian                                            3403 non-null   float64\n",
      " 4   percent_student_enrollment_native_hawaiian_or_other_pacific_islander        3403 non-null   float64\n",
      " 5   percent_student_enrollment_american_indian_or_alaska_native                 3403 non-null   float64\n",
      " 6   percent_student_enrollment_two_or_more_races                                3403 non-null   float64\n",
      " 7   number_student_enrollment                                                   3403 non-null   int64  \n",
      " 8   total_number_of_school_days                                                 3403 non-null   int64  \n",
      " 9   student_attendance_rate                                                     3403 non-null   float64\n",
      " 10  student_chronic_truancy_rate                                                3403 non-null   float64\n",
      " 11  high_school_dropout_rate_total                                              3403 non-null   float64\n",
      " 12  high_school_4_year_graduation_rate_total                                    3403 non-null   float64\n",
      " 13  high_school_5_year_graduation_rate_total                                    3403 non-null   float64\n",
      " 14  avg_class_size_high_school                                                  3403 non-null   float64\n",
      " 15  pupil_teacher_ratio_high_school                                             3403 non-null   float64\n",
      " 16  teacher_retention_rate                                                      3403 non-null   float64\n",
      " 17  percent_graduates_enrolled_in_a_postsecondary_institution_within_16_months  3403 non-null   float64\n",
      " 18  percent_graduates_enrolled_in_a_postsecondary_institution_within_12_months  3403 non-null   float64\n",
      " 19  percent_9th_grade_on_track                                                  3403 non-null   float64\n",
      " 20  number_students_who_took_ap_classes_grade_10_total                          3403 non-null   float64\n",
      " 21  number_students_who_took_ap_classes_grade_11_total                          3403 non-null   float64\n",
      " 22  number_students_who_took_ap_classes_grade_12_total                          3403 non-null   float64\n",
      "dtypes: float64(21), int64(2)\n",
      "memory usage: 611.6 KB\n"
     ]
    }
   ],
   "source": [
    "data_num = data.select_dtypes(['float64', 'int64'])\n",
    "data_num.info()"
   ]
  },
  {
   "cell_type": "markdown",
   "metadata": {},
   "source": [
    "# Train Test Split\n",
    "- Train set = data_df\n",
    "- Validation set = hs_18\n",
    "- Test set = hs_19"
   ]
  },
  {
   "cell_type": "code",
   "execution_count": 14,
   "metadata": {},
   "outputs": [],
   "source": [
    "X_train = data.drop('high_school_4_year_graduation_rate_total', axis=1)\n",
    "y_train = data.high_school_4_year_graduation_rate_total\n",
    "\n",
    "\n",
    "X_val = val_set.drop('high_school_4_year_graduation_rate_total', axis=1)\n",
    "y_val = val_set.high_school_4_year_graduation_rate_total\n",
    "\n",
    "X_test = test_set.drop('high_school_4_year_graduation_rate_total', axis=1)\n",
    "y_test = test_set.high_school_4_year_graduation_rate_total"
   ]
  },
  {
   "cell_type": "code",
   "execution_count": 15,
   "metadata": {},
   "outputs": [],
   "source": [
    "X_val['cohort'] = X_val['cohort'].astype('category')\n",
    "X_test['cohort'] = X_test['cohort'].astype('category')"
   ]
  },
  {
   "cell_type": "markdown",
   "metadata": {},
   "source": [
    "# Scaling Numeric features\n",
    "- Standard Scaler?\n",
    "- MinMaxScaler?"
   ]
  },
  {
   "cell_type": "code",
   "execution_count": 16,
   "metadata": {},
   "outputs": [],
   "source": [
    "X_train_num = X_train.select_dtypes(['float64', 'int64'])\n",
    "X_val_num = X_val.select_dtypes(['float64', 'int64'])\n",
    "X_test_num = X_test.select_dtypes(['float64', 'int64'])"
   ]
  },
  {
   "cell_type": "code",
   "execution_count": 17,
   "metadata": {},
   "outputs": [],
   "source": [
    "X_train_index = X_train.index\n",
    "X_val_index = X_val.index\n",
    "X_test_index = X_test.index"
   ]
  },
  {
   "cell_type": "code",
   "execution_count": 18,
   "metadata": {},
   "outputs": [],
   "source": [
    "ss = StandardScaler()\n",
    "X_train_sc = pd.DataFrame(ss.fit_transform(X_train_num), columns=X_train_num.columns, index=X_train_index)\n",
    "X_val_sc = pd.DataFrame(ss.transform(X_val_num), columns=X_val_num.columns, index=X_val_index)\n",
    "X_test_sc = pd.DataFrame(ss.transform(X_test_num), columns=X_test_num.columns, index=X_test_index)\n"
   ]
  },
  {
   "cell_type": "markdown",
   "metadata": {},
   "source": [
    "# 2. Encoding Categorical features"
   ]
  },
  {
   "cell_type": "code",
   "execution_count": 19,
   "metadata": {},
   "outputs": [],
   "source": [
    "X_train_cat = X_train[['district_type', 'district_size', 'school_type']]\n",
    "X_val_cat = X_val[['district_type', 'district_size', 'school_type']]"
   ]
  },
  {
   "cell_type": "code",
   "execution_count": 20,
   "metadata": {},
   "outputs": [
    {
     "data": {
      "text/html": [
       "<div>\n",
       "<style scoped>\n",
       "    .dataframe tbody tr th:only-of-type {\n",
       "        vertical-align: middle;\n",
       "    }\n",
       "\n",
       "    .dataframe tbody tr th {\n",
       "        vertical-align: top;\n",
       "    }\n",
       "\n",
       "    .dataframe thead th {\n",
       "        text-align: right;\n",
       "    }\n",
       "</style>\n",
       "<table border=\"1\" class=\"dataframe\">\n",
       "  <thead>\n",
       "    <tr style=\"text-align: right;\">\n",
       "      <th></th>\n",
       "      <th>district_type</th>\n",
       "      <th>district_size</th>\n",
       "      <th>school_type</th>\n",
       "    </tr>\n",
       "  </thead>\n",
       "  <tbody>\n",
       "    <tr>\n",
       "      <th>0</th>\n",
       "      <td>UNIT</td>\n",
       "      <td>MEDIUM</td>\n",
       "      <td>HIGH SCHOOL</td>\n",
       "    </tr>\n",
       "    <tr>\n",
       "      <th>1</th>\n",
       "      <td>UNIT</td>\n",
       "      <td>MEDIUM</td>\n",
       "      <td>HIGH SCHOOL</td>\n",
       "    </tr>\n",
       "    <tr>\n",
       "      <th>2</th>\n",
       "      <td>UNIT</td>\n",
       "      <td>MEDIUM</td>\n",
       "      <td>HIGH SCHOOL</td>\n",
       "    </tr>\n",
       "    <tr>\n",
       "      <th>3</th>\n",
       "      <td>UNIT</td>\n",
       "      <td>MEDIUM</td>\n",
       "      <td>HIGH SCHOOL</td>\n",
       "    </tr>\n",
       "    <tr>\n",
       "      <th>4</th>\n",
       "      <td>UNIT</td>\n",
       "      <td>LARGE</td>\n",
       "      <td>HIGH SCHOOL</td>\n",
       "    </tr>\n",
       "    <tr>\n",
       "      <th>...</th>\n",
       "      <td>...</td>\n",
       "      <td>...</td>\n",
       "      <td>...</td>\n",
       "    </tr>\n",
       "    <tr>\n",
       "      <th>716</th>\n",
       "      <td>UNIT</td>\n",
       "      <td>MEDIUM</td>\n",
       "      <td>HIGH SCHOOL</td>\n",
       "    </tr>\n",
       "    <tr>\n",
       "      <th>717</th>\n",
       "      <td>UNIT</td>\n",
       "      <td>MEDIUM</td>\n",
       "      <td>HIGH SCHOOL</td>\n",
       "    </tr>\n",
       "    <tr>\n",
       "      <th>718</th>\n",
       "      <td>UNIT</td>\n",
       "      <td>MEDIUM</td>\n",
       "      <td>HIGH SCHOOL</td>\n",
       "    </tr>\n",
       "    <tr>\n",
       "      <th>719</th>\n",
       "      <td>UNIT</td>\n",
       "      <td>LARGE</td>\n",
       "      <td>HIGH SCHOOL</td>\n",
       "    </tr>\n",
       "    <tr>\n",
       "      <th>720</th>\n",
       "      <td>UNIT</td>\n",
       "      <td>LARGE</td>\n",
       "      <td>HIGH SCHOOL</td>\n",
       "    </tr>\n",
       "  </tbody>\n",
       "</table>\n",
       "<p>721 rows × 3 columns</p>\n",
       "</div>"
      ],
      "text/plain": [
       "    district_type district_size  school_type\n",
       "0            UNIT        MEDIUM  HIGH SCHOOL\n",
       "1            UNIT        MEDIUM  HIGH SCHOOL\n",
       "2            UNIT        MEDIUM  HIGH SCHOOL\n",
       "3            UNIT        MEDIUM  HIGH SCHOOL\n",
       "4            UNIT         LARGE  HIGH SCHOOL\n",
       "..            ...           ...          ...\n",
       "716          UNIT        MEDIUM  HIGH SCHOOL\n",
       "717          UNIT        MEDIUM  HIGH SCHOOL\n",
       "718          UNIT        MEDIUM  HIGH SCHOOL\n",
       "719          UNIT         LARGE  HIGH SCHOOL\n",
       "720          UNIT         LARGE  HIGH SCHOOL\n",
       "\n",
       "[721 rows x 3 columns]"
      ]
     },
     "execution_count": 20,
     "metadata": {},
     "output_type": "execute_result"
    }
   ],
   "source": [
    "#let's change these objects to categories\n",
    "X_train_cat.loc[:, ('district_type', 'district_size', 'school_type')].astype('category')\n",
    "X_val_cat.loc[:, ('district_type', 'district_size', 'school_type')].astype('category')\n",
    "#X_test_cat.loc[:, ('district_type', 'district_size', 'school_type')].astype('category')"
   ]
  },
  {
   "cell_type": "code",
   "execution_count": 21,
   "metadata": {},
   "outputs": [
    {
     "name": "stderr",
     "output_type": "stream",
     "text": [
      "/opt/anaconda3/lib/python3.7/site-packages/pandas/core/generic.py:5159: SettingWithCopyWarning: \n",
      "A value is trying to be set on a copy of a slice from a DataFrame.\n",
      "Try using .loc[row_indexer,col_indexer] = value instead\n",
      "\n",
      "See the caveats in the documentation: https://pandas.pydata.org/pandas-docs/stable/user_guide/indexing.html#returning-a-view-versus-a-copy\n",
      "  self[name] = value\n"
     ]
    },
    {
     "data": {
      "text/plain": [
       "array(['UNIT', 'HIGH SCHOOL'], dtype=object)"
      ]
     },
     "execution_count": 21,
     "metadata": {},
     "output_type": "execute_result"
    }
   ],
   "source": [
    "X_train_cat.district_type = X_train_cat.district_type.str.rstrip()\n",
    "X_train_cat.district_size = X_train_cat.district_size.str.rstrip()\n",
    "X_train_cat.school_type = X_train_cat.school_type.str.rstrip()\n",
    "#X_train_cat.grades_served = X_train_cat.grades_served.str.rstrip()\n",
    "\n",
    "\n",
    "X_train_cat.district_type.unique()"
   ]
  },
  {
   "cell_type": "code",
   "execution_count": 22,
   "metadata": {},
   "outputs": [
    {
     "data": {
      "text/plain": [
       "0      HIGH SCHOOL\n",
       "1      HIGH SCHOOL\n",
       "2      HIGH SCHOOL\n",
       "3      HIGH SCHOOL\n",
       "4      HIGH SCHOOL\n",
       "          ...     \n",
       "716    HIGH SCHOOL\n",
       "717    HIGH SCHOOL\n",
       "718    HIGH SCHOOL\n",
       "719    HIGH SCHOOL\n",
       "720    HIGH SCHOOL\n",
       "Name: school_type, Length: 721, dtype: object"
      ]
     },
     "execution_count": 22,
     "metadata": {},
     "output_type": "execute_result"
    }
   ],
   "source": [
    "X_val_cat.district_type.str.rstrip()\n",
    "X_val_cat.district_size.str.rstrip()\n",
    "X_val_cat.school_type.str.rstrip()\n",
    "#X_val_cat.grades_served.str.rstrip()"
   ]
  },
  {
   "cell_type": "code",
   "execution_count": 23,
   "metadata": {
    "jupyter": {
     "source_hidden": true
    }
   },
   "outputs": [
    {
     "data": {
      "text/plain": [
       "(3403, 5)"
      ]
     },
     "execution_count": 23,
     "metadata": {},
     "output_type": "execute_result"
    }
   ],
   "source": [
    "#encode the categoricals\n",
    "ohe = OneHotEncoder(drop='first')\n",
    "\n",
    "ohe.fit(X_train_cat)\n",
    "X_train_ohe = ohe.transform(X_train_cat).toarray()\n",
    "X_val_ohe = ohe.transform(X_val_cat).toarray()\n",
    "\n",
    "# Creating this DataFrame is not necessary its only to show the result of the ohe\n",
    "X_train_processed = pd.DataFrame(X_train_ohe, columns=ohe.get_feature_names(X_train_cat.columns))\n",
    "X_val_processed = pd.DataFrame(X_val_ohe, columns=ohe.get_feature_names(X_val_cat.columns))\n",
    "\n",
    "X_train_processed.shape\n"
   ]
  },
  {
   "cell_type": "code",
   "execution_count": 24,
   "metadata": {},
   "outputs": [],
   "source": [
    "X_train_all = pd.concat([X_train_sc, X_train_processed], axis=1)\n",
    "X_val_all = pd.concat([X_val_sc, X_val_processed], axis=1)\n",
    "#X_test_all = pd.concat([X_test_sc, X_test_processed], axis=1)\n"
   ]
  },
  {
   "cell_type": "code",
   "execution_count": 25,
   "metadata": {},
   "outputs": [
    {
     "data": {
      "text/plain": [
       "[1.0, 0.0]"
      ]
     },
     "execution_count": 25,
     "metadata": {},
     "output_type": "execute_result"
    }
   ],
   "source": [
    "list(X_train_all.district_type_UNIT.unique())"
   ]
  },
  {
   "cell_type": "code",
   "execution_count": 26,
   "metadata": {},
   "outputs": [
    {
     "data": {
      "text/plain": [
       "percent_student_enrollment_white                                              0\n",
       "district_size_SMALL                                                           0\n",
       "district_size_MEDIUM                                                          0\n",
       "district_type_UNIT                                                            0\n",
       "number_students_who_took_ap_classes_grade_12_total                            0\n",
       "number_students_who_took_ap_classes_grade_11_total                            0\n",
       "number_students_who_took_ap_classes_grade_10_total                            0\n",
       "percent_9th_grade_on_track                                                    0\n",
       "percent_graduates_enrolled_in_a_postsecondary_institution_within_12_months    0\n",
       "percent_graduates_enrolled_in_a_postsecondary_institution_within_16_months    0\n",
       "teacher_retention_rate                                                        0\n",
       "pupil_teacher_ratio_high_school                                               0\n",
       "school_type_ELEMENTARY                                                        0\n",
       "avg_class_size_high_school                                                    0\n",
       "high_school_dropout_rate_total                                                0\n",
       "student_chronic_truancy_rate                                                  0\n",
       "student_attendance_rate                                                       0\n",
       "total_number_of_school_days                                                   0\n",
       "number_student_enrollment                                                     0\n",
       "percent_student_enrollment_two_or_more_races                                  0\n",
       "percent_student_enrollment_american_indian_or_alaska_native                   0\n",
       "percent_student_enrollment_native_hawaiian_or_other_pacific_islander          0\n",
       "percent_student_enrollment_asian                                              0\n",
       "percent_student_enrollment_hispanic_or_latino                                 0\n",
       "percent_student_enrollment_black_or_african_american                          0\n",
       "high_school_5_year_graduation_rate_total                                      0\n",
       "school_type_HIGH SCHOOL                                                       0\n",
       "dtype: int64"
      ]
     },
     "execution_count": 26,
     "metadata": {},
     "output_type": "execute_result"
    }
   ],
   "source": [
    "X_val_all.isna().sum().sort_values()"
   ]
  },
  {
   "cell_type": "markdown",
   "metadata": {},
   "source": [
    "# 6. Test models\n",
    "- Linear Regression\n",
    "- Random Forest\n",
    "- Gradient Boost\n",
    "- Lasso\n",
    "- Ridge\n",
    "- SVM\n",
    "- KNN"
   ]
  },
  {
   "cell_type": "code",
   "execution_count": 27,
   "metadata": {},
   "outputs": [],
   "source": [
    "# Takes in a model, trains the model, and evaluates the model on the test set\n",
    "def fit_and_eval(model):\n",
    "    \n",
    "    # Train the model\n",
    "    model.fit(X_train_all, y_train)\n",
    "    \n",
    "    # Make predictions and evalute\n",
    "    model_pred = model.predict(X_val_all)\n",
    "    model_r2 = r2_score(y_val, model_pred)\n",
    "    # Return the performance metric\n",
    "\n",
    "    return model_r2"
   ]
  },
  {
   "cell_type": "code",
   "execution_count": 28,
   "metadata": {},
   "outputs": [
    {
     "name": "stdout",
     "output_type": "stream",
     "text": [
      "Linear Regression Performance on the test set: R2 = 0.4503\n"
     ]
    }
   ],
   "source": [
    "linreg = LinearRegression()\n",
    "linreg_r2 = fit_and_eval(linreg)\n",
    "\n",
    "print('Linear Regression Performance on the test set: R2 = %0.4f' % linreg_r2)"
   ]
  },
  {
   "cell_type": "code",
   "execution_count": 29,
   "metadata": {},
   "outputs": [
    {
     "name": "stdout",
     "output_type": "stream",
     "text": [
      "Random Forest Performance on the test set: R2 = 0.5271\n"
     ]
    }
   ],
   "source": [
    "random_forest = RandomForestRegressor(random_state=19)\n",
    "random_forest_r2 = fit_and_eval(random_forest)\n",
    "\n",
    "\n",
    "print('Random Forest Performance on the test set: R2 = %0.4f' % random_forest_r2)"
   ]
  },
  {
   "cell_type": "code",
   "execution_count": 30,
   "metadata": {},
   "outputs": [
    {
     "name": "stdout",
     "output_type": "stream",
     "text": [
      "Extra Trees Performance on the test set: R2 = 0.5655\n"
     ]
    }
   ],
   "source": [
    "extra_trees = ExtraTreesRegressor(random_state=19)\n",
    "\n",
    "extra_trees_r2 = fit_and_eval(extra_trees)\n",
    "\n",
    "print('Extra Trees Performance on the test set: R2 = %0.4f' % extra_trees_r2)"
   ]
  },
  {
   "cell_type": "code",
   "execution_count": 31,
   "metadata": {},
   "outputs": [
    {
     "name": "stdout",
     "output_type": "stream",
     "text": [
      "Gradient Boosted Performance on the test set: R2 = 0.5598\n"
     ]
    }
   ],
   "source": [
    "grad_boost = GradientBoostingRegressor(random_state=19)\n",
    "\n",
    "grad_boost_r2 = fit_and_eval(grad_boost)\n",
    "\n",
    "print('Gradient Boosted Performance on the test set: R2 = %0.4f' % grad_boost_r2)"
   ]
  },
  {
   "cell_type": "code",
   "execution_count": 32,
   "metadata": {},
   "outputs": [
    {
     "name": "stdout",
     "output_type": "stream",
     "text": [
      "Lasso model Performance on the test set: R2 = 0.4905\n"
     ]
    }
   ],
   "source": [
    "# Create the model\n",
    "lasso = Lasso(random_state=19)\n",
    "\n",
    "lasso_r2 = fit_and_eval(lasso)\n",
    "\n",
    "print('Lasso model Performance on the test set: R2 = %0.4f' % lasso_r2)"
   ]
  },
  {
   "cell_type": "code",
   "execution_count": 33,
   "metadata": {},
   "outputs": [
    {
     "name": "stdout",
     "output_type": "stream",
     "text": [
      "Ridge Model Performance on the test set: R2 = 0.5352\n"
     ]
    }
   ],
   "source": [
    "ridge = Ridge(random_state=19)\n",
    "ridge_r2 = fit_and_eval(ridge)\n",
    "\n",
    "print('Ridge Model Performance on the test set: R2 = %0.4f' % ridge_r2)"
   ]
  },
  {
   "cell_type": "code",
   "execution_count": 34,
   "metadata": {},
   "outputs": [
    {
     "name": "stdout",
     "output_type": "stream",
     "text": [
      "Support Vector Machine Regression Performance on the test set: R2 = 0.3983\n"
     ]
    }
   ],
   "source": [
    "svr = SVR()\n",
    "svr_r2 = fit_and_eval(svr)\n",
    "\n",
    "print('Support Vector Machine Regression Performance on the test set: R2 = %0.4f' % svr_r2)"
   ]
  },
  {
   "cell_type": "code",
   "execution_count": 35,
   "metadata": {},
   "outputs": [
    {
     "name": "stdout",
     "output_type": "stream",
     "text": [
      "K-Nearest Neighbors Regression Performance on the test set: R2 = 0.4968\n"
     ]
    }
   ],
   "source": [
    "knn = KNeighborsRegressor()\n",
    "knn_r2 = fit_and_eval(knn)\n",
    "\n",
    "print('K-Nearest Neighbors Regression Performance on the test set: R2 = %0.4f' % knn_r2)"
   ]
  },
  {
   "cell_type": "markdown",
   "metadata": {},
   "source": [
    "# 7. Select model"
   ]
  },
  {
   "cell_type": "code",
   "execution_count": 36,
   "metadata": {},
   "outputs": [
    {
     "data": {
      "image/png": "[encoded data removed]",
      "text/plain": [
       "<Figure size 432x288 with 1 Axes>"
      ]
     },
     "metadata": {
      "needs_background": "light"
     },
     "output_type": "display_data"
    }
   ],
   "source": [
    "\n",
    "# Dataframe to hold the results\n",
    "           \n",
    "model_comparison = pd.DataFrame({'model': ['Linear Regression','Random Forest',\n",
    "                                           'Extra Trees','Gradient Boosted',\n",
    "                                           'Lasso', 'Ridge', 'SVR','K-Nearest Neighbors'],\n",
    "                                 'r2': [linreg_r2, random_forest_r2, extra_trees_r2, \n",
    "                                         grad_boost_r2, lasso_r2, ridge_r2, svr_r2, knn_r2]})\n",
    "\n",
    "# Horizontal bar chart of test r2\n",
    "model_comparison.sort_values('r2', ascending = False).plot(x = 'model', y = 'r2', kind = 'barh',\n",
    "                                                           color = '#99BDCB', edgecolor = 'black')\n",
    "\n",
    "# Plot formatting\n",
    "\n",
    "#plt.figure(figsize=(20, 16)\n",
    "\n",
    "\n",
    "plt.ylabel(''); plt.yticks(size = 14); plt.xlabel('R squared'); plt.xticks(size = 14)\n",
    "plt.title('Model Comparison on Test R squared', size = 20);"
   ]
  },
  {
   "cell_type": "code",
   "execution_count": null,
   "metadata": {},
   "outputs": [],
   "source": [
    "\n"
   ]
  },
  {
   "cell_type": "markdown",
   "metadata": {},
   "source": [
    "# 8. grid search w cross val"
   ]
  },
  {
   "cell_type": "code",
   "execution_count": 37,
   "metadata": {},
   "outputs": [],
   "source": [
    "# Loss function to be optimized\n",
    "#loss = ['ls', 'lad', 'huber']\n",
    "\n",
    "# Number of trees used in the boosting process\n",
    "n_estimators = [100, 500, 900, 1100, 1500]\n",
    "\n",
    "# Maximum depth of each tree\n",
    "max_depth = [2, 3, 5, 10, 15]\n",
    "\n",
    "# Minimum number of samples per leaf\n",
    "min_samples_leaf = [1, 2, 4, 6, 8]\n",
    "\n",
    "# Minimum number of samples to split a node\n",
    "min_samples_split = [2, 4, 6, 10]\n",
    "\n",
    "# Maximum number of features to consider for making splits\n",
    "max_features = ['auto', 'sqrt', 'log2', None]\n",
    "\n",
    "# Define the grid of hyperparameters to search\n",
    "hyperparameter_grid = {'n_estimators': n_estimators,\n",
    "                       'max_depth': max_depth,\n",
    "                       'min_samples_leaf': min_samples_leaf,\n",
    "                       'min_samples_split': min_samples_split,\n",
    "                       'max_features': max_features}"
   ]
  },
  {
   "cell_type": "code",
   "execution_count": 38,
   "metadata": {},
   "outputs": [
    {
     "name": "stdout",
     "output_type": "stream",
     "text": [
      "Fitting 4 folds for each of 25 candidates, totalling 100 fits\n"
     ]
    },
    {
     "name": "stderr",
     "output_type": "stream",
     "text": [
      "[Parallel(n_jobs=-1)]: Using backend LokyBackend with 4 concurrent workers.\n",
      "[Parallel(n_jobs=-1)]: Done  42 tasks      | elapsed:  1.7min\n",
      "[Parallel(n_jobs=-1)]: Done 100 out of 100 | elapsed:  3.4min finished\n"
     ]
    },
    {
     "data": {
      "text/plain": [
       "RandomizedSearchCV(cv=4, error_score='raise-deprecating',\n",
       "                   estimator=ExtraTreesRegressor(bootstrap=False,\n",
       "                                                 criterion='mse',\n",
       "                                                 max_depth=None,\n",
       "                                                 max_features='auto',\n",
       "                                                 max_leaf_nodes=None,\n",
       "                                                 min_impurity_decrease=0.0,\n",
       "                                                 min_impurity_split=None,\n",
       "                                                 min_samples_leaf=1,\n",
       "                                                 min_samples_split=2,\n",
       "                                                 min_weight_fraction_leaf=0.0,\n",
       "                                                 n_estimators='warn',\n",
       "                                                 n_jobs=None, oob_score=False,\n",
       "                                                 random_stat..., verbose=0,\n",
       "                                                 warm_start=False),\n",
       "                   iid='warn', n_iter=25, n_jobs=-1,\n",
       "                   param_distributions={'max_depth': [2, 3, 5, 10, 15],\n",
       "                                        'max_features': ['auto', 'sqrt', 'log2',\n",
       "                                                         None],\n",
       "                                        'min_samples_leaf': [1, 2, 4, 6, 8],\n",
       "                                        'min_samples_split': [2, 4, 6, 10],\n",
       "                                        'n_estimators': [100, 500, 900, 1100,\n",
       "                                                         1500]},\n",
       "                   pre_dispatch='2*n_jobs', random_state=19, refit=True,\n",
       "                   return_train_score=True, scoring='r2', verbose=1)"
      ]
     },
     "execution_count": 38,
     "metadata": {},
     "output_type": "execute_result"
    }
   ],
   "source": [
    "# Create the model to use for hyperparameter tuning\n",
    "model = ExtraTreesRegressor(random_state = 19)\n",
    "\n",
    "# Set up the random search with 4-fold cross validation\n",
    "random_cv = RandomizedSearchCV(estimator=model,\n",
    "                               param_distributions=hyperparameter_grid,\n",
    "                               cv=4, n_iter=25, \n",
    "                               scoring = 'r2',\n",
    "                               n_jobs = -1, verbose = 1, \n",
    "                               return_train_score = True,\n",
    "                               random_state=19)\n",
    "\n",
    "# Fit on the training data\n",
    "random_cv.fit(X_train_all, y_train)"
   ]
  },
  {
   "cell_type": "code",
   "execution_count": 39,
   "metadata": {},
   "outputs": [
    {
     "data": {
      "text/plain": [
       "ExtraTreesRegressor(bootstrap=False, criterion='mse', max_depth=15,\n",
       "                    max_features=None, max_leaf_nodes=None,\n",
       "                    min_impurity_decrease=0.0, min_impurity_split=None,\n",
       "                    min_samples_leaf=8, min_samples_split=4,\n",
       "                    min_weight_fraction_leaf=0.0, n_estimators=1500,\n",
       "                    n_jobs=None, oob_score=False, random_state=19, verbose=0,\n",
       "                    warm_start=False)"
      ]
     },
     "execution_count": 39,
     "metadata": {},
     "output_type": "execute_result"
    }
   ],
   "source": [
    "# Find the best combination of settings\n",
    "random_cv.best_estimator_\n"
   ]
  },
  {
   "cell_type": "markdown",
   "metadata": {},
   "source": [
    "# 9. train"
   ]
  },
  {
   "cell_type": "code",
   "execution_count": 41,
   "metadata": {},
   "outputs": [
    {
     "name": "stdout",
     "output_type": "stream",
     "text": [
      "Extra Trees Performance on the test set: R2 = 0.6020\n"
     ]
    }
   ],
   "source": [
    "extra_trees = ExtraTreesRegressor(bootstrap=False, criterion='mse', max_depth=15,\n",
    "                    max_features=None, max_leaf_nodes=None,\n",
    "                    min_impurity_decrease=0.0, min_impurity_split=None,\n",
    "                    min_samples_leaf=8, min_samples_split=4,\n",
    "                    min_weight_fraction_leaf=0.0, n_estimators=1500,\n",
    "                    n_jobs=None, oob_score=False, random_state=19, verbose=0,\n",
    "                    warm_start=False)\n",
    "\n",
    "\n",
    "extra_trees_r2 = fit_and_eval(extra_trees)\n",
    "\n",
    "print('Extra Trees Performance on the test set: R2 = %0.4f' % extra_trees_r2)"
   ]
  },
  {
   "cell_type": "code",
   "execution_count": null,
   "metadata": {},
   "outputs": [],
   "source": []
  },
  {
   "cell_type": "code",
   "execution_count": null,
   "metadata": {},
   "outputs": [],
   "source": []
  },
  {
   "cell_type": "code",
   "execution_count": null,
   "metadata": {},
   "outputs": [],
   "source": []
  },
  {
   "cell_type": "markdown",
   "metadata": {},
   "source": [
    "# 10. evalutate on test set"
   ]
  },
  {
   "cell_type": "code",
   "execution_count": null,
   "metadata": {},
   "outputs": [],
   "source": [
    "# Make predictions on the test set using default and final model\n",
    "default_pred = default_model.predict(X_test)\n",
    "final_pred = final_model.predict(X_test)"
   ]
  },
  {
   "cell_type": "code",
   "execution_count": null,
   "metadata": {},
   "outputs": [],
   "source": []
  },
  {
   "cell_type": "markdown",
   "metadata": {},
   "source": [
    "# 11. Model interpretation\n",
    "- feature impolrtances\n",
    " - create df & visualize\n",
    "- plot single decision tree\n",
    "- LIME"
   ]
  },
  {
   "cell_type": "code",
   "execution_count": null,
   "metadata": {},
   "outputs": [],
   "source": []
  },
  {
   "cell_type": "code",
   "execution_count": null,
   "metadata": {},
   "outputs": [],
   "source": []
  },
  {
   "cell_type": "code",
   "execution_count": null,
   "metadata": {},
   "outputs": [],
   "source": []
  },
  {
   "cell_type": "code",
   "execution_count": null,
   "metadata": {},
   "outputs": [],
   "source": []
  },
  {
   "cell_type": "code",
   "execution_count": null,
   "metadata": {},
   "outputs": [],
   "source": [
    "lin_reg_model = LinearRegression()\n",
    "baseline_cross_val_score = cross_val_score(lin_reg_model, X_train, y_train)\n",
    "baseline_cross_val_score"
   ]
  }
 ],
 "metadata": {
  "kernelspec": {
   "display_name": "Python 3",
   "language": "python",
   "name": "python3"
  },
  "language_info": {
   "codemirror_mode": {
    "name": "ipython",
    "version": 3
   },
   "file_extension": ".py",
   "mimetype": "text/x-python",
   "name": "python",
   "nbconvert_exporter": "python",
   "pygments_lexer": "ipython3",
   "version": "3.7.4"
  }
 },
 "nbformat": 4,
 "nbformat_minor": 4
}
