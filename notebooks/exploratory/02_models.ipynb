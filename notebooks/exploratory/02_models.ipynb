{
 "cells": [
  {
   "cell_type": "markdown",
   "metadata": {},
   "source": [
    "# Modeling \n",
    "In this notebook I will finish preprocessing my data and select the best performing model."
   ]
  },
  {
   "cell_type": "code",
   "execution_count": 43,
   "metadata": {},
   "outputs": [
    {
     "name": "stdout",
     "output_type": "stream",
     "text": [
      "The autoreload extension is already loaded. To reload it, use:\n",
      "  %reload_ext autoreload\n"
     ]
    }
   ],
   "source": [
    "# standard libraries\n",
    "import numpy as np\n",
    "import pandas as pd\n",
    "import matplotlib.pyplot as plt\n",
    "#%matplotlib inline\n",
    "import seaborn as sns \n",
    "\n",
    "# statsmodels imports\n",
    "import statsmodels.api as sm\n",
    "import statsmodels.formula.api as smf\n",
    "from statsmodels.formula.api import ols\n",
    "\n",
    "# sklearn imports\n",
    "from sklearn.impute import SimpleImputer\n",
    "from sklearn.preprocessing import StandardScaler, OneHotEncoder\n",
    "from sklearn.linear_model import LinearRegression, Lasso, Ridge\n",
    "from sklearn.ensemble import RandomForestRegressor, GradientBoostingRegressor, ExtraTreesRegressor\n",
    "from sklearn.svm import SVR\n",
    "from sklearn.neighbors import KNeighborsRegressor\n",
    "from sklearn.metrics import r2_score, SCORERS\n",
    "from sklearn.model_selection import RandomizedSearchCV, cross_val_score\n",
    "from sklearn.tree import DecisionTreeRegressor, export_graphviz, plot_tree\n",
    "\n",
    "\n",
    "# pickle\n",
    "import pickle\n",
    "\n",
    "\n",
    "# turn off warnings\n",
    "import warnings\n",
    "warnings.simplefilter('ignore', category = DeprecationWarning)\n",
    "warnings.simplefilter('ignore', category = FutureWarning)\n",
    "\n",
    "# plot parameters\n",
    "plt.rcParams['figure.figsize'] = 20, 16\n",
    "plt.rcParams['axes.labelsize'] = 20\n",
    "plt.rcParams['axes.titlesize'] = 25\n",
    "plt.rcParams['xtick.labelsize'] = 18\n",
    "plt.rcParams['ytick.labelsize'] = 18\n",
    "plt.rcParams['axes.edgecolor'] = 'black'\n",
    "plt.rcParams['axes.facecolor'] = 'white'\n",
    "plt.rcParams['font.size'] = 16\n",
    "#color = '#003f5a'\n",
    "\n",
    "# functions from .py file\n",
    "%load_ext autoreload\n",
    "%autoreload 2\n",
    "import os\n",
    "import sys\n",
    "module_path = os.path.abspath(os.path.join(os.pardir, os.pardir))\n",
    "if module_path not in sys.path:\n",
    "    sys.path.append(module_path)\n",
    "import src.eda_functions as fun"
   ]
  },
  {
   "cell_type": "markdown",
   "metadata": {},
   "source": [
    "read in data files"
   ]
  },
  {
   "cell_type": "code",
   "execution_count": 2,
   "metadata": {},
   "outputs": [],
   "source": [
    "# training data\n",
    "train_set = pd.read_csv('../../data/train_set.csv')\n",
    "fun.to_obj(train_set, 'cohort')"
   ]
  },
  {
   "cell_type": "code",
   "execution_count": 3,
   "metadata": {},
   "outputs": [],
   "source": [
    "# validation data\n",
    "val_set = pd.read_csv('../../data/val_set.csv')\n",
    "fun.to_obj(val_set, 'cohort')"
   ]
  },
  {
   "cell_type": "code",
   "execution_count": 4,
   "metadata": {},
   "outputs": [],
   "source": [
    "#testing data\n",
    "test_set = pd.read_csv('../../data/test_set.csv')\n",
    "fun.to_obj(test_set, 'cohort')"
   ]
  },
  {
   "cell_type": "markdown",
   "metadata": {},
   "source": [
    "Separate X and y for each set"
   ]
  },
  {
   "cell_type": "code",
   "execution_count": 5,
   "metadata": {},
   "outputs": [],
   "source": [
    "X_train = train_set.drop('high_school_4_year_graduation_rate_total', axis=1)\n",
    "y_train = train_set.high_school_4_year_graduation_rate_total\n",
    "\n",
    "X_val = val_set.drop('high_school_4_year_graduation_rate_total', axis=1)\n",
    "y_val = val_set.high_school_4_year_graduation_rate_total\n",
    "\n",
    "X_test = test_set.drop('high_school_4_year_graduation_rate_total', axis=1)\n",
    "y_test = test_set.high_school_4_year_graduation_rate_total"
   ]
  },
  {
   "cell_type": "markdown",
   "metadata": {},
   "source": [
    "## Replace NaNs with mean()\n"
   ]
  },
  {
   "cell_type": "markdown",
   "metadata": {},
   "source": [
    "Use SimpleImputer to replace NaNs with mean value of respective columns"
   ]
  },
  {
   "cell_type": "code",
   "execution_count": 6,
   "metadata": {},
   "outputs": [],
   "source": [
    "# identify features\n",
    "train_num = X_train.select_dtypes(['float64', 'int64'])\n",
    "val_num = X_val.select_dtypes(['float64', 'int64'])\n",
    "test_num = X_test.select_dtypes(['float64', 'int64'])"
   ]
  },
  {
   "cell_type": "code",
   "execution_count": 7,
   "metadata": {},
   "outputs": [
    {
     "name": "stdout",
     "output_type": "stream",
     "text": [
      "<class 'pandas.core.frame.DataFrame'>\n",
      "RangeIndex: 721 entries, 0 to 720\n",
      "Data columns (total 18 columns):\n",
      " #   Column                                                                      Non-Null Count  Dtype  \n",
      "---  ------                                                                      --------------  -----  \n",
      " 0   percent_student_enrollment_white                                            721 non-null    float64\n",
      " 1   percent_student_enrollment_black_or_african_american                        721 non-null    float64\n",
      " 2   percent_student_enrollment_hispanic_or_latino                               721 non-null    float64\n",
      " 3   percent_student_enrollment_asian                                            721 non-null    float64\n",
      " 4   percent_student_enrollment_native_hawaiian_or_other_pacific_islander        721 non-null    float64\n",
      " 5   percent_student_enrollment_american_indian_or_alaska_native                 721 non-null    float64\n",
      " 6   percent_student_enrollment_two_or_more_races                                721 non-null    float64\n",
      " 7   number_student_enrollment                                                   721 non-null    float64\n",
      " 8   total_number_of_school_days                                                 714 non-null    float64\n",
      " 9   student_attendance_rate                                                     714 non-null    float64\n",
      " 10  student_chronic_truancy_rate                                                714 non-null    float64\n",
      " 11  high_school_dropout_rate_total                                              721 non-null    float64\n",
      " 12  high_school_5_year_graduation_rate_total                                    721 non-null    float64\n",
      " 13  avg_class_size_high_school                                                  691 non-null    float64\n",
      " 14  teacher_retention_rate                                                      654 non-null    float64\n",
      " 15  percent_graduates_enrolled_in_a_postsecondary_institution_within_16_months  721 non-null    float64\n",
      " 16  percent_graduates_enrolled_in_a_postsecondary_institution_within_12_months  721 non-null    float64\n",
      " 17  percent_9th_grade_on_track                                                  721 non-null    float64\n",
      "dtypes: float64(18)\n",
      "memory usage: 101.5 KB\n"
     ]
    }
   ],
   "source": [
    "val_num.info()"
   ]
  },
  {
   "cell_type": "code",
   "execution_count": 8,
   "metadata": {},
   "outputs": [],
   "source": [
    "# instatiate imputer\n",
    "imputer = SimpleImputer(strategy='median')\n",
    "\n",
    "# fit on the training features\n",
    "imputer.fit(train_num)\n",
    "\n",
    "# transform training, validation, and testing data\n",
    "train_imp= imputer.transform(train_num)\n",
    "val_imp = imputer.transform(val_num)\n",
    "test_imp = imputer.transform(test_num)\n",
    "\n",
    "# return to DataFrame\n",
    "X_train_imp = pd.DataFrame(train_imp, columns=train_num.columns, index=X_train.index)\n",
    "X_val_imp = pd.DataFrame(val_imp, columns=val_num.columns, index=X_val.index)\n",
    "X_test_imp = pd.DataFrame(test_imp, columns=test_num.columns, index=X_test.index)\n"
   ]
  },
  {
   "cell_type": "markdown",
   "metadata": {},
   "source": [
    "# Scaling Numeric features\n",
    "Using Standard Scaler"
   ]
  },
  {
   "cell_type": "code",
   "execution_count": 9,
   "metadata": {},
   "outputs": [],
   "source": [
    "# identify features\n",
    "X_train_num = X_train_imp.select_dtypes(['float64', 'int64'])\n",
    "X_val_num = X_val_imp.select_dtypes(['float64', 'int64'])\n",
    "X_test_num = X_test_imp.select_dtypes(['float64', 'int64'])"
   ]
  },
  {
   "cell_type": "code",
   "execution_count": 10,
   "metadata": {},
   "outputs": [],
   "source": [
    "# instatiate scaler\n",
    "ss = StandardScaler()\n",
    "\n",
    "# train on the training features\n",
    "ss.fit(X_train_num)\n",
    "\n",
    "# transform training, validation, and testing dataX_train_sc= ss.transform(X_train_num)\n",
    "X_train_sc = ss.transform(X_train_num)\n",
    "X_val_sc = ss.transform(X_val_num)\n",
    "X_test_sc = ss.transform(X_test_num)\n",
    "\n",
    "# return to DataFrames\n",
    "X_train_sc = pd.DataFrame(X_train_sc, columns=X_train_num.columns, index=X_train.index)\n",
    "X_val_sc = pd.DataFrame(X_val_sc, columns=X_val_num.columns, index=X_val.index)\n",
    "X_test_sc = pd.DataFrame(X_test_sc, columns=X_test_num.columns, index=X_test.index)\n"
   ]
  },
  {
   "cell_type": "markdown",
   "metadata": {},
   "source": [
    "# Encoding Categorical features\n",
    "\n",
    "I'm first going to create dfs with objects - and set them as categories for encoding"
   ]
  },
  {
   "cell_type": "code",
   "execution_count": 11,
   "metadata": {},
   "outputs": [],
   "source": [
    "# identify features\n",
    "X_train_obj = X_train.select_dtypes(['object']).astype('category')\n",
    "X_val_obj = X_val.select_dtypes(['object']).astype('category')\n",
    "X_test_obj = X_test.select_dtypes(['object']).astype('category')"
   ]
  },
  {
   "cell_type": "markdown",
   "metadata": {},
   "source": [
    "The values in the columns are strings... with varying amounts of white space. \n",
    "I'm going to create smaller data frames of the category features with the space stripped away.\n"
   ]
  },
  {
   "cell_type": "code",
   "execution_count": 12,
   "metadata": {},
   "outputs": [],
   "source": [
    "X_train_cat = X_train_obj.loc[:, ('district_type', 'district_size', 'school_type')]\n",
    "\n",
    "X_train_cat.district_type = X_train_obj.district_type.str.rstrip()\n",
    "X_train_cat.district_size = X_train_obj.district_size.str.rstrip()\n",
    "X_train_cat.school_type = X_train_cat.school_type.str.rstrip()\n"
   ]
  },
  {
   "cell_type": "code",
   "execution_count": 13,
   "metadata": {},
   "outputs": [],
   "source": [
    "X_val_cat = X_val_obj.loc[:, ('district_type', 'district_size', 'school_type')]\n",
    "\n",
    "X_val_cat.district_type = X_train_obj.district_type.str.rstrip()\n",
    "X_val_cat.district_size = X_train_obj.district_size.str.rstrip()\n",
    "X_val_cat.school_type = X_train_cat.school_type.str.rstrip()"
   ]
  },
  {
   "cell_type": "code",
   "execution_count": 14,
   "metadata": {},
   "outputs": [],
   "source": [
    "X_test_cat = X_test_obj.loc[:, ('district_type', 'district_size', 'school_type')]\n",
    "\n",
    "X_test_cat.district_type = X_train_obj.district_type.str.rstrip()\n",
    "X_test_cat.district_size = X_train_obj.district_size.str.rstrip()\n",
    "X_test_cat.school_type = X_train_cat.school_type.str.rstrip()"
   ]
  },
  {
   "cell_type": "markdown",
   "metadata": {},
   "source": [
    "That was messy but it worked. I will have to come back to write a function to make this more efficient in the future"
   ]
  },
  {
   "cell_type": "code",
   "execution_count": 15,
   "metadata": {},
   "outputs": [],
   "source": [
    "#encode the categoricals\n",
    "ohe = OneHotEncoder(drop='first')\n",
    "\n",
    "ohe.fit(X_train_cat)\n",
    "\n",
    "X_train_ohe = ohe.transform(X_train_cat).toarray()\n",
    "X_val_ohe = ohe.transform(X_val_cat).toarray()\n",
    "X_test_ohe = ohe.transform(X_test_cat).toarray()\n",
    "\n",
    "# Creating this DataFrame is not necessary its only to show the result of the ohe\n",
    "X_train_processed = pd.DataFrame(X_train_ohe, columns=ohe.get_feature_names(X_train_cat.columns))\n",
    "X_val_processed = pd.DataFrame(X_val_ohe, columns=ohe.get_feature_names(X_val_cat.columns))\n",
    "X_test_processed = pd.DataFrame(X_test_ohe, columns=ohe.get_feature_names(X_test_cat.columns))"
   ]
  },
  {
   "cell_type": "code",
   "execution_count": 16,
   "metadata": {},
   "outputs": [],
   "source": [
    "X_train_all = pd.concat([X_train_sc, X_train_processed], axis=1)\n",
    "X_val_all = pd.concat([X_val_sc, X_val_processed], axis=1)\n",
    "X_test_all = pd.concat([X_test_sc, X_test_processed], axis=1)"
   ]
  },
  {
   "cell_type": "markdown",
   "metadata": {},
   "source": [
    "# 6. Test models\n",
    "- Linear Regression\n",
    "- Random Forest\n",
    "- Gradient Boost\n",
    "- Lasso\n",
    "- Ridge\n",
    "- SVM\n",
    "- KNN"
   ]
  },
  {
   "cell_type": "markdown",
   "metadata": {},
   "source": [
    "This function is a variation on one by Will Koehrsen in his [\"Machine Learning Project Walkthrough\"](https://github.com/WillKoehrsen/machine-learning-project-walkthrough) series."
   ]
  },
  {
   "cell_type": "code",
   "execution_count": 17,
   "metadata": {},
   "outputs": [],
   "source": [
    "# instantiates, fits, and trains a model.\n",
    "# returns adjusted r2_score\n",
    "def fit_and_eval(model):\n",
    "\n",
    "    # Train the model\n",
    "    model.fit(X_train_all, y_train)\n",
    "    \n",
    "    # Make predictions and evalute\n",
    "    model_pred = model.predict(X_val_all)\n",
    "    model_r2 = (r2_score(y_val, model_pred))\n",
    "    adj_r2 = round(1-(1-model_r2)*((3403-1)/(3403-23-1)), 3)\n",
    "\n",
    "    # Return the performance metric\n",
    "    return adj_r2"
   ]
  },
  {
   "cell_type": "code",
   "execution_count": 18,
   "metadata": {},
   "outputs": [
    {
     "name": "stdout",
     "output_type": "stream",
     "text": [
      "Linear Regression Performance on the validation set: R2 = 0.417\n",
      "Adjusted R-squared on Validation Set: = 0.417\n"
     ]
    }
   ],
   "source": [
    "linreg = LinearRegression()\n",
    "linreg_r2 = fit_and_eval(linreg)\n",
    "\n",
    "print('Adjusted R-squared on Validation Set: = %0.3f' % linreg_r2)"
   ]
  },
  {
   "cell_type": "code",
   "execution_count": 19,
   "metadata": {},
   "outputs": [
    {
     "name": "stdout",
     "output_type": "stream",
     "text": [
      "Adjusted R-squared on Validation Set: = 0.445\n"
     ]
    }
   ],
   "source": [
    "random_forest = RandomForestRegressor(random_state=19)\n",
    "random_forest_r2 = fit_and_eval(random_forest)\n",
    "\n",
    "print('Adjusted R-squared on Validation Set: = %0.3f' % random_forest_r2)"
   ]
  },
  {
   "cell_type": "code",
   "execution_count": 20,
   "metadata": {},
   "outputs": [
    {
     "name": "stdout",
     "output_type": "stream",
     "text": [
      "Adjusted R-squared on Validation Set: = 0.485\n"
     ]
    }
   ],
   "source": [
    "extra_trees = ExtraTreesRegressor(random_state=19)\n",
    "extra_trees_r2 = fit_and_eval(extra_trees)\n",
    "\n",
    "print('Adjusted R-squared on Validation Set: = %0.3f' % extra_trees_r2)"
   ]
  },
  {
   "cell_type": "code",
   "execution_count": 21,
   "metadata": {},
   "outputs": [
    {
     "name": "stdout",
     "output_type": "stream",
     "text": [
      "Adjusted R-squared on Validation Set: = 0.554\n"
     ]
    }
   ],
   "source": [
    "grad_boost = GradientBoostingRegressor(random_state=19)\n",
    "grad_boost_r2 = fit_and_eval(grad_boost)\n",
    "\n",
    "print('Adjusted R-squared on Validation Set: = %0.3f' % grad_boost_r2)"
   ]
  },
  {
   "cell_type": "code",
   "execution_count": 22,
   "metadata": {},
   "outputs": [
    {
     "name": "stdout",
     "output_type": "stream",
     "text": [
      "Adjusted R-squared on Validation Set: = 0.487\n"
     ]
    }
   ],
   "source": [
    "lasso = Lasso(random_state=19)\n",
    "lasso_r2 = fit_and_eval(lasso)\n",
    "\n",
    "print('Adjusted R-squared on Validation Set: = %0.3f' % lasso_r2)"
   ]
  },
  {
   "cell_type": "code",
   "execution_count": 23,
   "metadata": {},
   "outputs": [
    {
     "name": "stdout",
     "output_type": "stream",
     "text": [
      "Adjusted R-squared on Validation Set: = 0.516\n"
     ]
    }
   ],
   "source": [
    "ridge = Ridge(random_state=19)\n",
    "ridge_r2 = fit_and_eval(ridge)\n",
    "\n",
    "print('Adjusted R-squared on Validation Set: = %0.3f' % ridge_r2)"
   ]
  },
  {
   "cell_type": "code",
   "execution_count": 24,
   "metadata": {},
   "outputs": [
    {
     "name": "stdout",
     "output_type": "stream",
     "text": [
      "Adjusted R-squared on Validation Set: = 0.381\n"
     ]
    }
   ],
   "source": [
    "svr = SVR()\n",
    "svr_r2 = fit_and_eval(svr)\n",
    "\n",
    "print('Adjusted R-squared on Validation Set: = %0.3f' % svr_r2)"
   ]
  },
  {
   "cell_type": "code",
   "execution_count": 25,
   "metadata": {},
   "outputs": [
    {
     "name": "stdout",
     "output_type": "stream",
     "text": [
      "Adjusted R-squared on Validation Set: = 0.491\n"
     ]
    }
   ],
   "source": [
    "knn = KNeighborsRegressor()\n",
    "knn_r2 = fit_and_eval(knn)\n",
    "\n",
    "print('Adjusted R-squared on Validation Set: = %0.3f' % knn_r2)"
   ]
  },
  {
   "cell_type": "markdown",
   "metadata": {},
   "source": [
    "# Select best performing model"
   ]
  },
  {
   "cell_type": "code",
   "execution_count": 29,
   "metadata": {},
   "outputs": [
    {
     "data": {
      "image/png": "[encoded data removed]",
      "text/plain": [
       "<Figure size 1440x1152 with 1 Axes>"
      ]
     },
     "metadata": {
      "needs_background": "light"
     },
     "output_type": "display_data"
    }
   ],
   "source": [
    "# Dataframe to hold the results\n",
    "           \n",
    "model_comparison = pd.DataFrame({'model': ['Linear Regression','Random Forest',\n",
    "                                           'Extra Trees','Gradient Boosting',\n",
    "                                           'Lasso', 'Ridge', 'SVR','K-Nearest Neighbors'],\n",
    "                                 'r2': [linreg_r2, random_forest_r2, extra_trees_r2, \n",
    "                                         grad_boost_r2, lasso_r2, ridge_r2, svr_r2, knn_r2]})\n",
    "\n",
    "# Horizontal bar chart of test r2\n",
    "model_comparison.sort_values('r2', ascending = False).plot(x = 'model', y = 'r2', kind = 'barh',\n",
    "                                                           color = '#003f5a', edgecolor = 'black')\n",
    "\n",
    "# Plot formatting\n",
    "plt.ylabel(''); plt.yticks(size = 14); plt.xlabel('R squared'); plt.xticks(size = 14)\n",
    "plt.title('Model Comparison on Validation Set - R squared', size = 20)\n",
    "plt.savefig('../../reports/figures/model_compare.png')\n",
    "plt.show();"
   ]
  },
  {
   "cell_type": "markdown",
   "metadata": {},
   "source": [
    "### Results: \n",
    "#### Gradient Boosting Regressor returns the highest R-squared value at 0.554."
   ]
  },
  {
   "cell_type": "markdown",
   "metadata": {},
   "source": [
    "# Tune hyperparamters with Randomized Search CV"
   ]
  },
  {
   "cell_type": "code",
   "execution_count": 66,
   "metadata": {},
   "outputs": [],
   "source": [
    "# Loss function to be optimized\n",
    "loss = ['ls', 'lad', 'huber']\n",
    "\n",
    "# Number of trees used in the boosting process\n",
    "n_estimators = [100, 500, 900, 1100, 1500]\n",
    "\n",
    "# Maximum depth of each tree\n",
    "max_depth = [2, 3, 5, 10, 15]\n",
    "\n",
    "# Minimum number of samples per leaf\n",
    "min_samples_leaf = [1, 2, 4, 6, 8]\n",
    "\n",
    "# Minimum number of samples to split a node\n",
    "min_samples_split = [2, 4, 6, 10]\n",
    "\n",
    "# Maximum number of features to consider for making splits\n",
    "max_features = ['auto', 'sqrt', 'log2', None]\n",
    "\n",
    "# Define the grid of hyperparameters to search\n",
    "hyperparameter_grid = {'n_estimators': n_estimators,\n",
    "                       'max_depth': max_depth,\n",
    "                       'min_samples_leaf': min_samples_leaf,\n",
    "                       'min_samples_split': min_samples_split,\n",
    "                       'max_features': max_features}"
   ]
  },
  {
   "cell_type": "markdown",
   "metadata": {},
   "source": [
    "#### Check out Gradient Boosting best model"
   ]
  },
  {
   "cell_type": "code",
   "execution_count": 67,
   "metadata": {},
   "outputs": [],
   "source": [
    "# Create the model to use for hyperparameter tuning\n",
    "model_1 = GradientBoostingRegressor(random_state = 19)\n",
    "\n",
    "# Set up the random search with 4-fold cross validation\n",
    "random_cv_1 = RandomizedSearchCV(estimator=model_1,\n",
    "                               param_distributions=hyperparameter_grid,\n",
    "                               cv=4, n_iter=25, \n",
    "                               scoring = 'r2',\n",
    "                               n_jobs = -1, verbose = 1, \n",
    "                               return_train_score = True,\n",
    "                               random_state=19)"
   ]
  },
  {
   "cell_type": "code",
   "execution_count": 68,
   "metadata": {},
   "outputs": [
    {
     "name": "stdout",
     "output_type": "stream",
     "text": [
      "Fitting 4 folds for each of 25 candidates, totalling 100 fits\n"
     ]
    },
    {
     "name": "stderr",
     "output_type": "stream",
     "text": [
      "[Parallel(n_jobs=-1)]: Using backend LokyBackend with 4 concurrent workers.\n",
      "[Parallel(n_jobs=-1)]: Done  42 tasks      | elapsed:  2.1min\n",
      "[Parallel(n_jobs=-1)]: Done 100 out of 100 | elapsed:  5.2min finished\n"
     ]
    },
    {
     "data": {
      "text/plain": [
       "RandomizedSearchCV(cv=4, error_score='raise-deprecating',\n",
       "                   estimator=GradientBoostingRegressor(alpha=0.9,\n",
       "                                                       criterion='friedman_mse',\n",
       "                                                       init=None,\n",
       "                                                       learning_rate=0.1,\n",
       "                                                       loss='ls', max_depth=3,\n",
       "                                                       max_features=None,\n",
       "                                                       max_leaf_nodes=None,\n",
       "                                                       min_impurity_decrease=0.0,\n",
       "                                                       min_impurity_split=None,\n",
       "                                                       min_samples_leaf=1,\n",
       "                                                       min_samples_split=2,\n",
       "                                                       min_weight_fraction_leaf=0.0,\n",
       "                                                       n_estimators=100,...\n",
       "                                                       validation_fraction=0.1,\n",
       "                                                       verbose=0,\n",
       "                                                       warm_start=False),\n",
       "                   iid='warn', n_iter=25, n_jobs=-1,\n",
       "                   param_distributions={'max_depth': [2, 3, 5, 10, 15],\n",
       "                                        'max_features': ['auto', 'sqrt', 'log2',\n",
       "                                                         None],\n",
       "                                        'min_samples_leaf': [1, 2, 4, 6, 8],\n",
       "                                        'min_samples_split': [2, 4, 6, 10],\n",
       "                                        'n_estimators': [100, 500, 900, 1100,\n",
       "                                                         1500]},\n",
       "                   pre_dispatch='2*n_jobs', random_state=19, refit=True,\n",
       "                   return_train_score=True, scoring='r2', verbose=1)"
      ]
     },
     "execution_count": 68,
     "metadata": {},
     "output_type": "execute_result"
    }
   ],
   "source": [
    "# Fit on the training data\n",
    "random_cv_1.fit(X_train_all, y_train)"
   ]
  },
  {
   "cell_type": "code",
   "execution_count": 69,
   "metadata": {},
   "outputs": [
    {
     "data": {
      "text/plain": [
       "GradientBoostingRegressor(alpha=0.9, criterion='friedman_mse', init=None,\n",
       "                          learning_rate=0.1, loss='ls', max_depth=3,\n",
       "                          max_features='log2', max_leaf_nodes=None,\n",
       "                          min_impurity_decrease=0.0, min_impurity_split=None,\n",
       "                          min_samples_leaf=6, min_samples_split=2,\n",
       "                          min_weight_fraction_leaf=0.0, n_estimators=100,\n",
       "                          n_iter_no_change=None, presort='auto',\n",
       "                          random_state=19, subsample=1.0, tol=0.0001,\n",
       "                          validation_fraction=0.1, verbose=0, warm_start=False)"
      ]
     },
     "execution_count": 69,
     "metadata": {},
     "output_type": "execute_result"
    }
   ],
   "source": [
    "# Find the best combination of settings\n",
    "random_cv_1.best_estimator_\n"
   ]
  },
  {
   "cell_type": "markdown",
   "metadata": {},
   "source": [
    "#### Evaluate model_1 - Gradient Boosting"
   ]
  },
  {
   "cell_type": "code",
   "execution_count": 27,
   "metadata": {},
   "outputs": [
    {
     "name": "stdout",
     "output_type": "stream",
     "text": [
      "Adjusted R-squared on Validation Set: = 0.586\n"
     ]
    }
   ],
   "source": [
    "model_1 = GradientBoostingRegressor(alpha=0.9, criterion='friedman_mse', init=None,\n",
    "                          learning_rate=0.1, loss='ls', max_depth=3,\n",
    "                          max_features='log2', max_leaf_nodes=None,\n",
    "                          min_impurity_decrease=0.0, min_impurity_split=None,\n",
    "                          min_samples_leaf=6, min_samples_split=2,\n",
    "                          min_weight_fraction_leaf=0.0, n_estimators=100,\n",
    "                          n_iter_no_change=None, presort='auto',\n",
    "                          random_state=19, subsample=1.0, tol=0.0001,\n",
    "                          validation_fraction=0.1, verbose=0, warm_start=False)\n",
    "\n",
    "\n",
    "model_1_r2 = fit_and_eval(model_1)\n",
    "\n",
    "# pickle this model for later use\n",
    "#pickle.dump(model_1, open('model_1', 'wb'))\n",
    "\n",
    "print('Adjusted R-squared on Validation Set: = %0.3f' % model_1_r2)"
   ]
  },
  {
   "cell_type": "code",
   "execution_count": 31,
   "metadata": {},
   "outputs": [
    {
     "name": "stdout",
     "output_type": "stream",
     "text": [
      "[0.37090741 0.07065935 0.51683788 0.68240726 0.49631801]\n"
     ]
    }
   ],
   "source": [
    "# cross validate the score\n",
    "print(cross_val_score(model_1, X_val_all, y_val, cv=5))"
   ]
  },
  {
   "cell_type": "code",
   "execution_count": 38,
   "metadata": {},
   "outputs": [
    {
     "data": {
      "text/html": [
       "<div>\n",
       "<style scoped>\n",
       "    .dataframe tbody tr th:only-of-type {\n",
       "        vertical-align: middle;\n",
       "    }\n",
       "\n",
       "    .dataframe tbody tr th {\n",
       "        vertical-align: top;\n",
       "    }\n",
       "\n",
       "    .dataframe thead th {\n",
       "        text-align: right;\n",
       "    }\n",
       "</style>\n",
       "<table border=\"1\" class=\"dataframe\">\n",
       "  <thead>\n",
       "    <tr style=\"text-align: right;\">\n",
       "      <th></th>\n",
       "      <th>feature</th>\n",
       "      <th>importance</th>\n",
       "    </tr>\n",
       "  </thead>\n",
       "  <tbody>\n",
       "    <tr>\n",
       "      <th>0</th>\n",
       "      <td>high_school_5_year_graduation_rate_total</td>\n",
       "      <td>0.340194</td>\n",
       "    </tr>\n",
       "    <tr>\n",
       "      <th>1</th>\n",
       "      <td>high_school_dropout_rate_total</td>\n",
       "      <td>0.198619</td>\n",
       "    </tr>\n",
       "    <tr>\n",
       "      <th>2</th>\n",
       "      <td>student_attendance_rate</td>\n",
       "      <td>0.087864</td>\n",
       "    </tr>\n",
       "    <tr>\n",
       "      <th>3</th>\n",
       "      <td>number_student_enrollment</td>\n",
       "      <td>0.071920</td>\n",
       "    </tr>\n",
       "    <tr>\n",
       "      <th>4</th>\n",
       "      <td>student_chronic_truancy_rate</td>\n",
       "      <td>0.071136</td>\n",
       "    </tr>\n",
       "  </tbody>\n",
       "</table>\n",
       "</div>"
      ],
      "text/plain": [
       "                                    feature  importance\n",
       "0  high_school_5_year_graduation_rate_total    0.340194\n",
       "1            high_school_dropout_rate_total    0.198619\n",
       "2                   student_attendance_rate    0.087864\n",
       "3                 number_student_enrollment    0.071920\n",
       "4              student_chronic_truancy_rate    0.071136"
      ]
     },
     "execution_count": 38,
     "metadata": {},
     "output_type": "execute_result"
    }
   ],
   "source": [
    "feature_results = pd.DataFrame({'feature': list(X_train_all.columns), \n",
    "                                'importance': model_1.feature_importances_})\n",
    "\n",
    "# Show the top 5 most important\n",
    "feature_results = feature_results.sort_values('importance', ascending = False).reset_index(drop=True)\n",
    "\n",
    "feature_results.head()"
   ]
  },
  {
   "cell_type": "code",
   "execution_count": 44,
   "metadata": {},
   "outputs": [
    {
     "data": {
      "image/png": "[encoded data removed]",
      "text/plain": [
       "<Figure size 1440x1152 with 1 Axes>"
      ]
     },
     "metadata": {
      "needs_background": "light"
     },
     "output_type": "display_data"
    }
   ],
   "source": [
    "# Plot the 5 most important features in a horizontal bar chart\n",
    "feature_results.loc[:4, :].plot(x = 'feature', y = 'importance', \n",
    "                                 edgecolor = 'k',\n",
    "                                 kind='barh', color = '#003f5a');\n",
    "plt.xlabel('Relative Importance'); plt.ylabel('')\n",
    "plt.title('Feature Importances from Model-Validation')\n",
    "plt.savefig('../../reports/figures/feature_importance_val.png')\n",
    "plt.show();"
   ]
  },
  {
   "cell_type": "markdown",
   "metadata": {},
   "source": [
    "# Evaluate on test set"
   ]
  },
  {
   "cell_type": "code",
   "execution_count": 35,
   "metadata": {},
   "outputs": [
    {
     "name": "stdout",
     "output_type": "stream",
     "text": [
      "Adjusted R-squared on Test Set: = 0.688\n"
     ]
    }
   ],
   "source": [
    "# Select the best model\n",
    "final_model = GradientBoostingRegressor(alpha=0.9, criterion='friedman_mse', init=None,\n",
    "                          learning_rate=0.1, loss='ls', max_depth=3,\n",
    "                          max_features='log2', max_leaf_nodes=None,\n",
    "                          min_impurity_decrease=0.0, min_impurity_split=None,\n",
    "                          min_samples_leaf=6, min_samples_split=2,\n",
    "                          min_weight_fraction_leaf=0.0, n_estimators=100,\n",
    "                          n_iter_no_change=None, presort='auto',\n",
    "                          random_state=19, subsample=1.0, tol=0.0001,\n",
    "                          validation_fraction=0.1, verbose=0, warm_start=False)\n",
    "\n",
    "# Train the model\n",
    "final_model.fit(X_train_all, y_train)\n",
    "    \n",
    "# Make predictions and evalute\n",
    "final_model_pred = final_model.predict(X_test_all)\n",
    "final_model_r2 = (r2_score(y_test, final_model_pred))\n",
    "adj_r2 = round((1-(1-final_model_r2))*((3403-1)/(3403-23-1)), 3)\n",
    "\n",
    "# Return the performance metric\n",
    "print('Adjusted R-squared on Test Set: = %0.3f' % adj_r2)"
   ]
  },
  {
   "cell_type": "markdown",
   "metadata": {},
   "source": [
    "# Final model performance has an R-squared score of 0.688.\n",
    "\n",
    "That is not as high as I had hoped, but for comparison:\n",
    "- My First Simple Model (OLS Linear Regression) had an adjusted R-squared score of 0.441\n",
    "- The Gradient Boosting model in it's default state had a score of 0.554.\n",
    "- The hypertuned Gradient Boosting model had a score of 0.586.\n",
    "\n",
    "So, the model did improve by almost 25 percentage points.\n",
    "The consistency of the final validation score and the test set score suggest that the is neither overfit nor underfit... which is a good result."
   ]
  },
  {
   "cell_type": "markdown",
   "metadata": {},
   "source": [
    "# Model interpretation\n",
    "\n",
    "What does features importance tell us?\n",
    "\n"
   ]
  },
  {
   "cell_type": "code",
   "execution_count": 95,
   "metadata": {},
   "outputs": [
    {
     "data": {
      "text/html": [
       "<div>\n",
       "<style scoped>\n",
       "    .dataframe tbody tr th:only-of-type {\n",
       "        vertical-align: middle;\n",
       "    }\n",
       "\n",
       "    .dataframe tbody tr th {\n",
       "        vertical-align: top;\n",
       "    }\n",
       "\n",
       "    .dataframe thead th {\n",
       "        text-align: right;\n",
       "    }\n",
       "</style>\n",
       "<table border=\"1\" class=\"dataframe\">\n",
       "  <thead>\n",
       "    <tr style=\"text-align: right;\">\n",
       "      <th></th>\n",
       "      <th>feature</th>\n",
       "      <th>importance</th>\n",
       "    </tr>\n",
       "  </thead>\n",
       "  <tbody>\n",
       "    <tr>\n",
       "      <th>0</th>\n",
       "      <td>high_school_5_year_graduation_rate_total</td>\n",
       "      <td>0.340194</td>\n",
       "    </tr>\n",
       "    <tr>\n",
       "      <th>1</th>\n",
       "      <td>high_school_dropout_rate_total</td>\n",
       "      <td>0.198619</td>\n",
       "    </tr>\n",
       "    <tr>\n",
       "      <th>2</th>\n",
       "      <td>student_attendance_rate</td>\n",
       "      <td>0.087864</td>\n",
       "    </tr>\n",
       "    <tr>\n",
       "      <th>3</th>\n",
       "      <td>number_student_enrollment</td>\n",
       "      <td>0.071920</td>\n",
       "    </tr>\n",
       "    <tr>\n",
       "      <th>4</th>\n",
       "      <td>student_chronic_truancy_rate</td>\n",
       "      <td>0.071136</td>\n",
       "    </tr>\n",
       "  </tbody>\n",
       "</table>\n",
       "</div>"
      ],
      "text/plain": [
       "                                    feature  importance\n",
       "0  high_school_5_year_graduation_rate_total    0.340194\n",
       "1            high_school_dropout_rate_total    0.198619\n",
       "2                   student_attendance_rate    0.087864\n",
       "3                 number_student_enrollment    0.071920\n",
       "4              student_chronic_truancy_rate    0.071136"
      ]
     },
     "execution_count": 95,
     "metadata": {},
     "output_type": "execute_result"
    }
   ],
   "source": [
    "feature_results = pd.DataFrame({'feature': list(X_train_all.columns), \n",
    "                                'importance': final_model.feature_importances_})\n",
    "\n",
    "# Show the top 5 most important\n",
    "feature_results = feature_results.sort_values('importance', ascending = False).reset_index(drop=True)\n",
    "\n",
    "feature_results.head()"
   ]
  },
  {
   "cell_type": "code",
   "execution_count": 46,
   "metadata": {},
   "outputs": [
    {
     "data": {
      "image/png": "[encoded data removed]",
      "text/plain": [
       "<Figure size 1440x1152 with 1 Axes>"
      ]
     },
     "metadata": {
      "needs_background": "light"
     },
     "output_type": "display_data"
    }
   ],
   "source": [
    "# Plot the  most important features in a horizontal bar chart\n",
    "feature_results.loc[:4, :].plot(x = 'feature', y = 'importance', \n",
    "                                 edgecolor = 'k',\n",
    "                                 kind='barh', color = '#deb53a');\n",
    "plt.xlabel('Relative Importance'); plt.ylabel('Feature')\n",
    "plt.title('Feature Importances from Final Model')\n",
    "plt.savefig('../../reports/figures/feature_importance.png')\n",
    "plt.show();"
   ]
  },
  {
   "cell_type": "markdown",
   "metadata": {},
   "source": [
    "##### Not surprisingly, 5-year graduation has the most importance, followed by droput rate.\n",
    "In fact, the Top 5 here are almost identical to the top 5 correlations from EDA.\n",
    "It is also worth noting that none of the categorial variables made the top 5.\n"
   ]
  },
  {
   "cell_type": "markdown",
   "metadata": {},
   "source": [
    "### Future Improvement Items\n",
    "I do want to try some additional feature selection and engineering, such as:\n",
    "- including district level data: pupil to teacher ratio, for one.\n",
    "- look at spending per student, or property tax information?\n",
    "\n",
    "For better reproduction, I also want to write some code to filter and combine the data files more effeciently."
   ]
  },
  {
   "cell_type": "code",
   "execution_count": null,
   "metadata": {},
   "outputs": [],
   "source": []
  }
 ],
 "metadata": {
  "kernelspec": {
   "display_name": "grad-env",
   "language": "python",
   "name": "grad-env"
  },
  "language_info": {
   "codemirror_mode": {
    "name": "ipython",
    "version": 3
   },
   "file_extension": ".py",
   "mimetype": "text/x-python",
   "name": "python",
   "nbconvert_exporter": "python",
   "pygments_lexer": "ipython3",
   "version": "3.7.4"
  }
 },
 "nbformat": 4,
 "nbformat_minor": 4
}
