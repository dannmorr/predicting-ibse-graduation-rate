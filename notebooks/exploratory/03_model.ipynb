{
 "cells": [
  {
   "cell_type": "markdown",
   "metadata": {},
   "source": [
    "# Modeling "
   ]
  },
  {
   "cell_type": "code",
   "execution_count": null,
   "metadata": {},
   "outputs": [],
   "source": []
  },
  {
   "cell_type": "code",
   "execution_count": null,
   "metadata": {},
   "outputs": [],
   "source": []
  },
  {
   "cell_type": "code",
   "execution_count": 1,
   "metadata": {},
   "outputs": [],
   "source": [
    "%load_ext autoreload\n",
    "%autoreload 2\n",
    "import os\n",
    "import sys\n",
    "module_path = os.path.abspath(os.path.join(os.pardir, os.pardir))\n",
    "if module_path not in sys.path:\n",
    "    sys.path.append(module_path)"
   ]
  },
  {
   "cell_type": "code",
   "execution_count": 2,
   "metadata": {},
   "outputs": [
    {
     "name": "stderr",
     "output_type": "stream",
     "text": [
      "/opt/anaconda3/lib/python3.7/site-packages/statsmodels/tools/_testing.py:19: FutureWarning: pandas.util.testing is deprecated. Use the functions in the public API at pandas.testing instead.\n",
      "  import pandas.util.testing as tm\n"
     ]
    }
   ],
   "source": [
    "# import standard libraries\n",
    "import numpy as np\n",
    "import pandas as pd\n",
    "import matplotlib.pyplot as plt\n",
    "import seaborn as sns \n",
    "\n",
    "\n",
    "# import additional libraries\n",
    "import statsmodels.api as sm\n",
    "import statsmodels.formula.api as smf\n",
    "from statsmodels.formula.api import ols\n",
    "\n",
    "# functions from .py file\n",
    "import src.eda_functions as fun\n",
    "\n",
    "# sklearn\n",
    "from sklearn.preprocessing import StandardScaler, OneHotEncoder\n",
    "from sklearn.model_selection import train_test_split, cross_val_score\n",
    "from sklearn.linear_model import LinearRegression\n",
    "from sklearn.ensemble import RandomForestRegressor\n",
    "\n",
    "\n",
    "# turn off warnings\n",
    "import warnings\n",
    "warnings.simplefilter('ignore', category = DeprecationWarning)\n",
    "warnings.simplefilter('ignore', category = FutureWarning)"
   ]
  },
  {
   "cell_type": "markdown",
   "metadata": {},
   "source": [
    "read in merged_data file"
   ]
  },
  {
   "cell_type": "code",
   "execution_count": 3,
   "metadata": {},
   "outputs": [],
   "source": [
    "data = pd.read_csv('../../data/train_set.csv')"
   ]
  },
  {
   "cell_type": "code",
   "execution_count": 4,
   "metadata": {},
   "outputs": [
    {
     "data": {
      "text/html": [
       "<div>\n",
       "<style scoped>\n",
       "    .dataframe tbody tr th:only-of-type {\n",
       "        vertical-align: middle;\n",
       "    }\n",
       "\n",
       "    .dataframe tbody tr th {\n",
       "        vertical-align: top;\n",
       "    }\n",
       "\n",
       "    .dataframe thead th {\n",
       "        text-align: right;\n",
       "    }\n",
       "</style>\n",
       "<table border=\"1\" class=\"dataframe\">\n",
       "  <thead>\n",
       "    <tr style=\"text-align: right;\">\n",
       "      <th></th>\n",
       "      <th>cohort</th>\n",
       "      <th>rcdts</th>\n",
       "      <th>school_name</th>\n",
       "      <th>district</th>\n",
       "      <th>city</th>\n",
       "      <th>county</th>\n",
       "      <th>district_type</th>\n",
       "      <th>district_size</th>\n",
       "      <th>school_type</th>\n",
       "      <th>grades_served</th>\n",
       "      <th>...</th>\n",
       "      <th>student_chronic_truancy_rate</th>\n",
       "      <th>high_school_dropout_rate_total</th>\n",
       "      <th>high_school_4_year_graduation_rate_total</th>\n",
       "      <th>high_school_5_year_graduation_rate_total</th>\n",
       "      <th>avg_class_size_high_school</th>\n",
       "      <th>pupil_teacher_ratio_high_school</th>\n",
       "      <th>teacher_retention_rate</th>\n",
       "      <th>percent_graduates_enrolled_in_a_postsecondary_institution_within_16_months</th>\n",
       "      <th>percent_graduates_enrolled_in_a_postsecondary_institution_within_12_months</th>\n",
       "      <th>percent_9th_grade_on_track</th>\n",
       "    </tr>\n",
       "  </thead>\n",
       "  <tbody>\n",
       "    <tr>\n",
       "      <th>0</th>\n",
       "      <td>2013</td>\n",
       "      <td>10010010260001</td>\n",
       "      <td>Seymour High School</td>\n",
       "      <td>Payson CUSD 1</td>\n",
       "      <td>Payson</td>\n",
       "      <td>Adams</td>\n",
       "      <td>UNIT</td>\n",
       "      <td>SMALL</td>\n",
       "      <td>HIGH SCHOOL</td>\n",
       "      <td>7 8 9 10 11 12</td>\n",
       "      <td>...</td>\n",
       "      <td>2.3</td>\n",
       "      <td>1.4</td>\n",
       "      <td>86.8</td>\n",
       "      <td>94.1</td>\n",
       "      <td>11.1</td>\n",
       "      <td>NaN</td>\n",
       "      <td>NaN</td>\n",
       "      <td>NaN</td>\n",
       "      <td>NaN</td>\n",
       "      <td>NaN</td>\n",
       "    </tr>\n",
       "    <tr>\n",
       "      <th>1</th>\n",
       "      <td>2013</td>\n",
       "      <td>10010020260001</td>\n",
       "      <td>Liberty High School</td>\n",
       "      <td>Liberty CUSD 2</td>\n",
       "      <td>Liberty</td>\n",
       "      <td>Adams</td>\n",
       "      <td>UNIT</td>\n",
       "      <td>MEDIUM</td>\n",
       "      <td>HIGH SCHOOL</td>\n",
       "      <td>7 8 9 10 11 12</td>\n",
       "      <td>...</td>\n",
       "      <td>1.8</td>\n",
       "      <td>0.5</td>\n",
       "      <td>90.7</td>\n",
       "      <td>93.8</td>\n",
       "      <td>29.5</td>\n",
       "      <td>NaN</td>\n",
       "      <td>NaN</td>\n",
       "      <td>NaN</td>\n",
       "      <td>NaN</td>\n",
       "      <td>NaN</td>\n",
       "    </tr>\n",
       "    <tr>\n",
       "      <th>2</th>\n",
       "      <td>2013</td>\n",
       "      <td>10010030260001</td>\n",
       "      <td>Central High School</td>\n",
       "      <td>Central CUSD 3</td>\n",
       "      <td>Camp Point</td>\n",
       "      <td>Adams</td>\n",
       "      <td>UNIT</td>\n",
       "      <td>MEDIUM</td>\n",
       "      <td>HIGH SCHOOL</td>\n",
       "      <td>9 10 11 12</td>\n",
       "      <td>...</td>\n",
       "      <td>5.7</td>\n",
       "      <td>0.0</td>\n",
       "      <td>96.9</td>\n",
       "      <td>89.7</td>\n",
       "      <td>12.7</td>\n",
       "      <td>NaN</td>\n",
       "      <td>NaN</td>\n",
       "      <td>NaN</td>\n",
       "      <td>NaN</td>\n",
       "      <td>NaN</td>\n",
       "    </tr>\n",
       "    <tr>\n",
       "      <th>3</th>\n",
       "      <td>2013</td>\n",
       "      <td>10010040260001</td>\n",
       "      <td>Unity High School</td>\n",
       "      <td>CUSD 4</td>\n",
       "      <td>Mendon</td>\n",
       "      <td>Adams</td>\n",
       "      <td>UNIT</td>\n",
       "      <td>MEDIUM</td>\n",
       "      <td>HIGH SCHOOL</td>\n",
       "      <td>9 10 11 12</td>\n",
       "      <td>...</td>\n",
       "      <td>1.0</td>\n",
       "      <td>0.5</td>\n",
       "      <td>91.1</td>\n",
       "      <td>88.6</td>\n",
       "      <td>10.9</td>\n",
       "      <td>NaN</td>\n",
       "      <td>NaN</td>\n",
       "      <td>NaN</td>\n",
       "      <td>NaN</td>\n",
       "      <td>NaN</td>\n",
       "    </tr>\n",
       "    <tr>\n",
       "      <th>4</th>\n",
       "      <td>2013</td>\n",
       "      <td>10011720220003</td>\n",
       "      <td>Quincy Sr High School</td>\n",
       "      <td>Quincy SD 172</td>\n",
       "      <td>Quincy</td>\n",
       "      <td>Adams</td>\n",
       "      <td>UNIT</td>\n",
       "      <td>LARGE</td>\n",
       "      <td>HIGH SCHOOL</td>\n",
       "      <td>10 11 12</td>\n",
       "      <td>...</td>\n",
       "      <td>12.8</td>\n",
       "      <td>4.6</td>\n",
       "      <td>88.2</td>\n",
       "      <td>88.5</td>\n",
       "      <td>20.1</td>\n",
       "      <td>NaN</td>\n",
       "      <td>NaN</td>\n",
       "      <td>NaN</td>\n",
       "      <td>NaN</td>\n",
       "      <td>NaN</td>\n",
       "    </tr>\n",
       "  </tbody>\n",
       "</table>\n",
       "<p>5 rows × 30 columns</p>\n",
       "</div>"
      ],
      "text/plain": [
       "   cohort           rcdts                        school_name  \\\n",
       "0    2013  10010010260001  Seymour High School                 \n",
       "1    2013  10010020260001  Liberty High School                 \n",
       "2    2013  10010030260001  Central High School                 \n",
       "3    2013  10010040260001  Unity High School                   \n",
       "4    2013  10011720220003  Quincy Sr High School               \n",
       "\n",
       "                            district               city       county  \\\n",
       "0  Payson CUSD 1                      Payson             Adams         \n",
       "1  Liberty CUSD 2                     Liberty            Adams         \n",
       "2  Central CUSD 3                     Camp Point         Adams         \n",
       "3  CUSD 4                             Mendon             Adams         \n",
       "4  Quincy SD 172                      Quincy             Adams         \n",
       "\n",
       "  district_type district_size  school_type                    grades_served  \\\n",
       "0   UNIT               SMALL   HIGH SCHOOL  7 8 9 10 11 12                    \n",
       "1   UNIT               MEDIUM  HIGH SCHOOL  7 8 9 10 11 12                    \n",
       "2   UNIT               MEDIUM  HIGH SCHOOL  9 10 11 12                        \n",
       "3   UNIT               MEDIUM  HIGH SCHOOL  9 10 11 12                        \n",
       "4   UNIT               LARGE   HIGH SCHOOL  10 11 12                          \n",
       "\n",
       "   ...  student_chronic_truancy_rate  high_school_dropout_rate_total  \\\n",
       "0  ...                           2.3                             1.4   \n",
       "1  ...                           1.8                             0.5   \n",
       "2  ...                           5.7                             0.0   \n",
       "3  ...                           1.0                             0.5   \n",
       "4  ...                          12.8                             4.6   \n",
       "\n",
       "   high_school_4_year_graduation_rate_total  \\\n",
       "0                                      86.8   \n",
       "1                                      90.7   \n",
       "2                                      96.9   \n",
       "3                                      91.1   \n",
       "4                                      88.2   \n",
       "\n",
       "   high_school_5_year_graduation_rate_total  avg_class_size_high_school  \\\n",
       "0                                      94.1                        11.1   \n",
       "1                                      93.8                        29.5   \n",
       "2                                      89.7                        12.7   \n",
       "3                                      88.6                        10.9   \n",
       "4                                      88.5                        20.1   \n",
       "\n",
       "   pupil_teacher_ratio_high_school  teacher_retention_rate  \\\n",
       "0                              NaN                     NaN   \n",
       "1                              NaN                     NaN   \n",
       "2                              NaN                     NaN   \n",
       "3                              NaN                     NaN   \n",
       "4                              NaN                     NaN   \n",
       "\n",
       "   percent_graduates_enrolled_in_a_postsecondary_institution_within_16_months  \\\n",
       "0                                                NaN                            \n",
       "1                                                NaN                            \n",
       "2                                                NaN                            \n",
       "3                                                NaN                            \n",
       "4                                                NaN                            \n",
       "\n",
       "   percent_graduates_enrolled_in_a_postsecondary_institution_within_12_months  \\\n",
       "0                                                NaN                            \n",
       "1                                                NaN                            \n",
       "2                                                NaN                            \n",
       "3                                                NaN                            \n",
       "4                                                NaN                            \n",
       "\n",
       "   percent_9th_grade_on_track  \n",
       "0                         NaN  \n",
       "1                         NaN  \n",
       "2                         NaN  \n",
       "3                         NaN  \n",
       "4                         NaN  \n",
       "\n",
       "[5 rows x 30 columns]"
      ]
     },
     "execution_count": 4,
     "metadata": {},
     "output_type": "execute_result"
    }
   ],
   "source": [
    "data.head()"
   ]
  },
  {
   "cell_type": "code",
   "execution_count": 5,
   "metadata": {},
   "outputs": [],
   "source": [
    "data['cohort'] = data['cohort'].astype('object')"
   ]
  },
  {
   "cell_type": "code",
   "execution_count": 6,
   "metadata": {},
   "outputs": [
    {
     "name": "stdout",
     "output_type": "stream",
     "text": [
      "<class 'pandas.core.frame.DataFrame'>\n",
      "RangeIndex: 3403 entries, 0 to 3402\n",
      "Data columns (total 30 columns):\n",
      " #   Column                                                                      Non-Null Count  Dtype  \n",
      "---  ------                                                                      --------------  -----  \n",
      " 0   cohort                                                                      3403 non-null   object \n",
      " 1   rcdts                                                                       3403 non-null   object \n",
      " 2   school_name                                                                 3403 non-null   object \n",
      " 3   district                                                                    3403 non-null   object \n",
      " 4   city                                                                        3403 non-null   object \n",
      " 5   county                                                                      3403 non-null   object \n",
      " 6   district_type                                                               3403 non-null   object \n",
      " 7   district_size                                                               3403 non-null   object \n",
      " 8   school_type                                                                 3403 non-null   object \n",
      " 9   grades_served                                                               3403 non-null   object \n",
      " 10  percent_student_enrollment_white                                            3403 non-null   float64\n",
      " 11  percent_student_enrollment_black_or_african_american                        3403 non-null   float64\n",
      " 12  percent_student_enrollment_hispanic_or_latino                               3403 non-null   float64\n",
      " 13  percent_student_enrollment_asian                                            3403 non-null   float64\n",
      " 14  percent_student_enrollment_native_hawaiian_or_other_pacific_islander        3403 non-null   float64\n",
      " 15  percent_student_enrollment_american_indian_or_alaska_native                 3403 non-null   float64\n",
      " 16  percent_student_enrollment_two_or_more_races                                3403 non-null   float64\n",
      " 17  number_student_enrollment                                                   3403 non-null   int64  \n",
      " 18  total_number_of_school_days                                                 3403 non-null   int64  \n",
      " 19  student_attendance_rate                                                     3403 non-null   float64\n",
      " 20  student_chronic_truancy_rate                                                3403 non-null   float64\n",
      " 21  high_school_dropout_rate_total                                              3401 non-null   float64\n",
      " 22  high_school_4_year_graduation_rate_total                                    3384 non-null   float64\n",
      " 23  high_school_5_year_graduation_rate_total                                    3343 non-null   float64\n",
      " 24  avg_class_size_high_school                                                  3369 non-null   float64\n",
      " 25  pupil_teacher_ratio_high_school                                             2721 non-null   float64\n",
      " 26  teacher_retention_rate                                                      2671 non-null   float64\n",
      " 27  percent_graduates_enrolled_in_a_postsecondary_institution_within_16_months  1963 non-null   float64\n",
      " 28  percent_graduates_enrolled_in_a_postsecondary_institution_within_12_months  1963 non-null   float64\n",
      " 29  percent_9th_grade_on_track                                                  1992 non-null   float64\n",
      "dtypes: float64(18), int64(2), object(10)\n",
      "memory usage: 797.7+ KB\n"
     ]
    }
   ],
   "source": [
    "data.info()"
   ]
  },
  {
   "cell_type": "markdown",
   "metadata": {},
   "source": [
    "# 1. Replace nans with zeros"
   ]
  },
  {
   "cell_type": "code",
   "execution_count": 7,
   "metadata": {},
   "outputs": [
    {
     "data": {
      "text/plain": [
       "teacher_retention_rate                                                        732\n",
       "pupil_teacher_ratio_high_school                                               682\n",
       "avg_class_size_high_school                                                     34\n",
       "high_school_dropout_rate_total                                                  2\n",
       "county                                                                          0\n",
       "percent_student_enrollment_white                                                0\n",
       "grades_served                                                                   0\n",
       "school_type                                                                     0\n",
       "district_size                                                                   0\n",
       "district_type                                                                   0\n",
       "percent_9th_grade_on_track                                                      0\n",
       "city                                                                            0\n",
       "percent_student_enrollment_hispanic_or_latino                                   0\n",
       "district                                                                        0\n",
       "school_name                                                                     0\n",
       "rcdts                                                                           0\n",
       "percent_student_enrollment_black_or_african_american                            0\n",
       "percent_student_enrollment_native_hawaiian_or_other_pacific_islander            0\n",
       "percent_student_enrollment_asian                                                0\n",
       "percent_graduates_enrolled_in_a_postsecondary_institution_within_12_months      0\n",
       "percent_student_enrollment_american_indian_or_alaska_native                     0\n",
       "percent_student_enrollment_two_or_more_races                                    0\n",
       "number_student_enrollment                                                       0\n",
       "total_number_of_school_days                                                     0\n",
       "student_attendance_rate                                                         0\n",
       "student_chronic_truancy_rate                                                    0\n",
       "high_school_4_year_graduation_rate_total                                        0\n",
       "high_school_5_year_graduation_rate_total                                        0\n",
       "percent_graduates_enrolled_in_a_postsecondary_institution_within_16_months      0\n",
       "cohort                                                                          0\n",
       "dtype: int64"
      ]
     },
     "execution_count": 7,
     "metadata": {},
     "output_type": "execute_result"
    }
   ],
   "source": [
    "zeros = data.loc[:, ('high_school_4_year_graduation_rate_total',\n",
    "                        'high_school_5_year_graduation_rate_total',\n",
    "                        'percent_graduates_enrolled_in_a_postsecondary_institution_within_16_months',\n",
    "                        'percent_graduates_enrolled_in_a_postsecondary_institution_within_12_months',\n",
    "                        'percent_9th_grade_on_track')]\n",
    "\n",
    "for zero in zeros:\n",
    "    data[zero].fillna(0, inplace=True)\n",
    "    \n",
    "data.isnull().sum().sort_values(ascending=False)"
   ]
  },
  {
   "cell_type": "markdown",
   "metadata": {},
   "source": [
    "# 2. Replace nans with mean()\n"
   ]
  },
  {
   "cell_type": "code",
   "execution_count": 8,
   "metadata": {},
   "outputs": [],
   "source": [
    "nans = data.loc[:, ('teacher_retention_rate', \n",
    "                    'pupil_teacher_ratio_high_school', \n",
    "                    'avg_class_size_high_school', \n",
    "                    'high_school_dropout_rate_total')]\n",
    "\n",
    "for nan in nans:\n",
    "    data[nan].fillna(data[nan].mean(), inplace=True)"
   ]
  },
  {
   "cell_type": "code",
   "execution_count": 9,
   "metadata": {},
   "outputs": [
    {
     "data": {
      "text/plain": [
       "percent_9th_grade_on_track                                                    0\n",
       "percent_graduates_enrolled_in_a_postsecondary_institution_within_12_months    0\n",
       "rcdts                                                                         0\n",
       "school_name                                                                   0\n",
       "district                                                                      0\n",
       "city                                                                          0\n",
       "county                                                                        0\n",
       "district_type                                                                 0\n",
       "district_size                                                                 0\n",
       "school_type                                                                   0\n",
       "grades_served                                                                 0\n",
       "percent_student_enrollment_white                                              0\n",
       "percent_student_enrollment_black_or_african_american                          0\n",
       "percent_student_enrollment_hispanic_or_latino                                 0\n",
       "percent_student_enrollment_asian                                              0\n",
       "percent_student_enrollment_native_hawaiian_or_other_pacific_islander          0\n",
       "percent_student_enrollment_american_indian_or_alaska_native                   0\n",
       "percent_student_enrollment_two_or_more_races                                  0\n",
       "number_student_enrollment                                                     0\n",
       "total_number_of_school_days                                                   0\n",
       "student_attendance_rate                                                       0\n",
       "student_chronic_truancy_rate                                                  0\n",
       "high_school_dropout_rate_total                                                0\n",
       "high_school_4_year_graduation_rate_total                                      0\n",
       "high_school_5_year_graduation_rate_total                                      0\n",
       "avg_class_size_high_school                                                    0\n",
       "pupil_teacher_ratio_high_school                                               0\n",
       "teacher_retention_rate                                                        0\n",
       "percent_graduates_enrolled_in_a_postsecondary_institution_within_16_months    0\n",
       "cohort                                                                        0\n",
       "dtype: int64"
      ]
     },
     "execution_count": 9,
     "metadata": {},
     "output_type": "execute_result"
    }
   ],
   "source": [
    "data.isnull().sum().sort_values(ascending=False)"
   ]
  },
  {
   "cell_type": "markdown",
   "metadata": {},
   "source": [
    "# Train Test Split\n",
    "- Train set = data_df\n",
    "- Validation set = hs_18\n",
    "- Test set = hs_19"
   ]
  },
  {
   "cell_type": "code",
   "execution_count": 32,
   "metadata": {},
   "outputs": [],
   "source": [
    "X_train = data.drop('high_school_4_year_graduation_rate_total', axis=1)\n",
    "y_train = data.high_school_4_year_graduation_rate_total\n",
    "\n",
    "val_set = pd.read_csv('../../data/val_set.csv')\n",
    "X_val = val_set.drop('high_school_4_year_graduation_rate_total', axis=1)\n",
    "y_val = val_set.high_school_4_year_graduation_rate_total\n",
    "\n",
    "test_set = pd.read_csv('../../data/test_set.csv')\n",
    "X_test = test_set.drop('high_school_4_year_graduation_rate_total', axis=1)\n",
    "y_test = test_set.high_school_4_year_graduation_rate_total"
   ]
  },
  {
   "cell_type": "code",
   "execution_count": 11,
   "metadata": {},
   "outputs": [],
   "source": [
    "X_val['cohort'] = X_val['cohort'].astype('object')\n",
    "X_test['cohort'] = X_test['cohort'].astype('object')"
   ]
  },
  {
   "cell_type": "markdown",
   "metadata": {},
   "source": [
    "# Scaling Numeric features\n",
    "- Standard Scaler?\n",
    "- MinMaxScaler?"
   ]
  },
  {
   "cell_type": "code",
   "execution_count": 33,
   "metadata": {},
   "outputs": [],
   "source": [
    "X_train_num = X_train.select_dtypes(['float64', 'int64'])\n",
    "X_val_num = X_val.select_dtypes(['float64', 'int64'])\n",
    "X_test_num = X_test.select_dtypes(['float64', 'int64'])"
   ]
  },
  {
   "cell_type": "code",
   "execution_count": 34,
   "metadata": {},
   "outputs": [],
   "source": [
    "X_train_index = X_train.index\n",
    "X_val_index = X_val.index\n",
    "X_test_index = X_test.index"
   ]
  },
  {
   "cell_type": "code",
   "execution_count": 36,
   "metadata": {},
   "outputs": [
    {
     "ename": "ValueError",
     "evalue": "operands could not be broadcast together with shapes (720,20) (19,) (720,20) ",
     "output_type": "error",
     "traceback": [
      "\u001b[0;31m---------------------------------------------------------------------------\u001b[0m",
      "\u001b[0;31mValueError\u001b[0m                                Traceback (most recent call last)",
      "\u001b[0;32m<ipython-input-36-4a516b5d56eb>\u001b[0m in \u001b[0;36m<module>\u001b[0;34m\u001b[0m\n\u001b[1;32m      2\u001b[0m \u001b[0mX_train_sc\u001b[0m \u001b[0;34m=\u001b[0m \u001b[0mpd\u001b[0m\u001b[0;34m.\u001b[0m\u001b[0mDataFrame\u001b[0m\u001b[0;34m(\u001b[0m\u001b[0mss\u001b[0m\u001b[0;34m.\u001b[0m\u001b[0mfit_transform\u001b[0m\u001b[0;34m(\u001b[0m\u001b[0mX_train_num\u001b[0m\u001b[0;34m)\u001b[0m\u001b[0;34m,\u001b[0m \u001b[0mcolumns\u001b[0m\u001b[0;34m=\u001b[0m\u001b[0mX_train_num\u001b[0m\u001b[0;34m.\u001b[0m\u001b[0mcolumns\u001b[0m\u001b[0;34m,\u001b[0m \u001b[0mindex\u001b[0m\u001b[0;34m=\u001b[0m\u001b[0mX_train_index\u001b[0m\u001b[0;34m)\u001b[0m\u001b[0;34m\u001b[0m\u001b[0;34m\u001b[0m\u001b[0m\n\u001b[1;32m      3\u001b[0m \u001b[0;31m#X_val_sc = pd.DataFrame(ss.transform(X_val_num), columns=X_val_num.columns, index=X_val_index)\u001b[0m\u001b[0;34m\u001b[0m\u001b[0;34m\u001b[0m\u001b[0;34m\u001b[0m\u001b[0m\n\u001b[0;32m----> 4\u001b[0;31m \u001b[0mX_test_sc\u001b[0m \u001b[0;34m=\u001b[0m \u001b[0mpd\u001b[0m\u001b[0;34m.\u001b[0m\u001b[0mDataFrame\u001b[0m\u001b[0;34m(\u001b[0m\u001b[0mss\u001b[0m\u001b[0;34m.\u001b[0m\u001b[0mtransform\u001b[0m\u001b[0;34m(\u001b[0m\u001b[0mX_test_num\u001b[0m\u001b[0;34m)\u001b[0m\u001b[0;34m,\u001b[0m \u001b[0mcolumns\u001b[0m\u001b[0;34m=\u001b[0m\u001b[0mX_test_num\u001b[0m\u001b[0;34m.\u001b[0m\u001b[0mcolumns\u001b[0m\u001b[0;34m,\u001b[0m \u001b[0mindex\u001b[0m\u001b[0;34m=\u001b[0m\u001b[0mX_test_index\u001b[0m\u001b[0;34m)\u001b[0m\u001b[0;34m\u001b[0m\u001b[0;34m\u001b[0m\u001b[0m\n\u001b[0m",
      "\u001b[0;32m/opt/anaconda3/lib/python3.7/site-packages/sklearn/preprocessing/data.py\u001b[0m in \u001b[0;36mtransform\u001b[0;34m(self, X, copy)\u001b[0m\n\u001b[1;32m    767\u001b[0m         \u001b[0;32melse\u001b[0m\u001b[0;34m:\u001b[0m\u001b[0;34m\u001b[0m\u001b[0;34m\u001b[0m\u001b[0m\n\u001b[1;32m    768\u001b[0m             \u001b[0;32mif\u001b[0m \u001b[0mself\u001b[0m\u001b[0;34m.\u001b[0m\u001b[0mwith_mean\u001b[0m\u001b[0;34m:\u001b[0m\u001b[0;34m\u001b[0m\u001b[0;34m\u001b[0m\u001b[0m\n\u001b[0;32m--> 769\u001b[0;31m                 \u001b[0mX\u001b[0m \u001b[0;34m-=\u001b[0m \u001b[0mself\u001b[0m\u001b[0;34m.\u001b[0m\u001b[0mmean_\u001b[0m\u001b[0;34m\u001b[0m\u001b[0;34m\u001b[0m\u001b[0m\n\u001b[0m\u001b[1;32m    770\u001b[0m             \u001b[0;32mif\u001b[0m \u001b[0mself\u001b[0m\u001b[0;34m.\u001b[0m\u001b[0mwith_std\u001b[0m\u001b[0;34m:\u001b[0m\u001b[0;34m\u001b[0m\u001b[0;34m\u001b[0m\u001b[0m\n\u001b[1;32m    771\u001b[0m                 \u001b[0mX\u001b[0m \u001b[0;34m/=\u001b[0m \u001b[0mself\u001b[0m\u001b[0;34m.\u001b[0m\u001b[0mscale_\u001b[0m\u001b[0;34m\u001b[0m\u001b[0;34m\u001b[0m\u001b[0m\n",
      "\u001b[0;31mValueError\u001b[0m: operands could not be broadcast together with shapes (720,20) (19,) (720,20) "
     ]
    }
   ],
   "source": [
    "ss = StandardScaler()\n",
    "X_train_sc = pd.DataFrame(ss.fit_transform(X_train_num), columns=X_train_num.columns, index=X_train_index)\n",
    "X_val_sc = pd.DataFrame(ss.transform(X_val_num), columns=X_val_num.columns, index=X_val_index)\n",
    "X_test_sc = pd.DataFrame(ss.transform(X_test_num), columns=X_test_num.columns, index=X_test_index)\n"
   ]
  },
  {
   "cell_type": "markdown",
   "metadata": {},
   "source": [
    "# 2. Encoding Categorical features"
   ]
  },
  {
   "cell_type": "code",
   "execution_count": 15,
   "metadata": {},
   "outputs": [
    {
     "data": {
      "text/plain": [
       "array(['UNIT       ', 'HIGH SCHOOL'], dtype=object)"
      ]
     },
     "execution_count": 15,
     "metadata": {},
     "output_type": "execute_result"
    }
   ],
   "source": [
    "X_train.district_type.unique()"
   ]
  },
  {
   "cell_type": "code",
   "execution_count": null,
   "metadata": {},
   "outputs": [],
   "source": []
  },
  {
   "cell_type": "code",
   "execution_count": 16,
   "metadata": {},
   "outputs": [],
   "source": [
    "X_train_cat = X_train[['district_type', 'district_size', 'school_type']]\n",
    "X_val_cat = X_val[['district_type', 'district_size', 'school_type']]"
   ]
  },
  {
   "cell_type": "code",
   "execution_count": 17,
   "metadata": {},
   "outputs": [
    {
     "name": "stderr",
     "output_type": "stream",
     "text": [
      "/opt/anaconda3/lib/python3.7/site-packages/pandas/core/generic.py:5159: SettingWithCopyWarning: \n",
      "A value is trying to be set on a copy of a slice from a DataFrame.\n",
      "Try using .loc[row_indexer,col_indexer] = value instead\n",
      "\n",
      "See the caveats in the documentation: https://pandas.pydata.org/pandas-docs/stable/user_guide/indexing.html#returning-a-view-versus-a-copy\n",
      "  self[name] = value\n"
     ]
    }
   ],
   "source": [
    "X_train_cat.district_type = X_train_cat.district_type.str.rstrip()\n",
    "X_train_cat.district_size = X_train_cat.district_size.str.rstrip()\n",
    "X_train_cat.school_type = X_train_cat.school_type.str.rstrip()\n",
    "#X_train_cat.grades_served = X_train_cat.grades_served.str.rstrip()\n",
    "\n",
    "\n"
   ]
  },
  {
   "cell_type": "code",
   "execution_count": 18,
   "metadata": {},
   "outputs": [
    {
     "data": {
      "text/plain": [
       "0      HIGH SCHOOL\n",
       "1      HIGH SCHOOL\n",
       "2      HIGH SCHOOL\n",
       "3      HIGH SCHOOL\n",
       "4      HIGH SCHOOL\n",
       "          ...     \n",
       "716    HIGH SCHOOL\n",
       "717    HIGH SCHOOL\n",
       "718    HIGH SCHOOL\n",
       "719    HIGH SCHOOL\n",
       "720    HIGH SCHOOL\n",
       "Name: school_type, Length: 721, dtype: object"
      ]
     },
     "execution_count": 18,
     "metadata": {},
     "output_type": "execute_result"
    }
   ],
   "source": [
    "X_val_cat.district_type.str.rstrip()\n",
    "X_val_cat.district_size.str.rstrip()\n",
    "X_val_cat.school_type.str.rstrip()\n",
    "#X_val_cat.grades_served.str.rstrip()"
   ]
  },
  {
   "cell_type": "code",
   "execution_count": 19,
   "metadata": {},
   "outputs": [
    {
     "data": {
      "text/plain": [
       "array(['UNIT', 'HIGH SCHOOL'], dtype=object)"
      ]
     },
     "execution_count": 19,
     "metadata": {},
     "output_type": "execute_result"
    }
   ],
   "source": [
    "X_train_cat.district_type.unique()"
   ]
  },
  {
   "cell_type": "code",
   "execution_count": 20,
   "metadata": {},
   "outputs": [],
   "source": [
    "ohe = OneHotEncoder()\n",
    "X_train_coded = ohe.fit(X_train_cat)\n",
    "X_train_coded = ohe.transform(X_train_cat)\n",
    "X_val_coded = ohe.fit_transform(X_val_cat)"
   ]
  },
  {
   "cell_type": "code",
   "execution_count": 26,
   "metadata": {},
   "outputs": [],
   "source": [
    "train_columns = ohe.get_feature_names(input_features=X_train_cat.columns)\n",
    "val_columns = ohe.get_feature_names(input_features=X_val_cat.columns)\n",
    "#test_columns = ohe.get_feature_names(input_features=X_test_cat.columns)\n",
    "\n",
    "X_train_processed = pd.DataFrame(X_train_coded.todense(), columns=train_columns, index=X_train_index)\n",
    "X_val_processed = pd.DataFrame(X_val_coded.todense(), columns=val_columns, index=X_val_index)\n",
    "\n",
    "#X_test_processed = pd.DataFrame(X_test_coded.todense(), columns=test_columns, index=X_test_index)#"
   ]
  },
  {
   "cell_type": "code",
   "execution_count": 27,
   "metadata": {},
   "outputs": [],
   "source": [
    "X_train_all = pd.concat([X_train_sc, X_train_processed], axis=1)\n",
    "X_val_all = pd.concat([X_train_sc, X_val_processed], axis=1)\n",
    "#X_test_all = pd.concat([X_test_sc, X_test_processed], axis=1)\n"
   ]
  },
  {
   "cell_type": "code",
   "execution_count": null,
   "metadata": {},
   "outputs": [],
   "source": []
  },
  {
   "cell_type": "code",
   "execution_count": null,
   "metadata": {},
   "outputs": [],
   "source": []
  },
  {
   "cell_type": "markdown",
   "metadata": {},
   "source": [
    "# 6. Test models\n",
    "- Linear Regression\n",
    "- Random Forest\n",
    "- Gradient Boost\n",
    "- SVM\n",
    "- KNN"
   ]
  },
  {
   "cell_type": "code",
   "execution_count": 23,
   "metadata": {},
   "outputs": [],
   "source": [
    "from sklearn.linear_model import LinearRegression\n",
    "\n",
    "# fit an sklearn model\n",
    "#instantiate a linear regression object \n",
    "lr = LinearRegression()\n",
    "\n",
    "# split the data into target and features\n",
    "y = y_train\n",
    "X = X_train_all\n",
    "\n",
    "# Call .fit from the linear regression object, and feed X and y in as parameters\n",
    "lr.fit(X,y)\n",
    "\n",
    "# lr has a method called score.  Again, feed in X and y, and read the output. Save it in the variable score.  What is that number?  Compare it to statsmodels. \n",
    "score = lr.score(X,y)\n",
    "# that is the r_2.  It is the same as the Statsmodels R_2\n",
    "\n",
    "# lr also has attributes coef_ and intercept_. Save and compare to statsmodels\n",
    "beta = lr.coef_\n",
    "intercept = lr.intercept_\n",
    "#sklearn calculates the same coeficients and intercepts as statmodels."
   ]
  },
  {
   "cell_type": "code",
   "execution_count": 24,
   "metadata": {},
   "outputs": [
    {
     "data": {
      "text/plain": [
       "0.4691838070464443"
      ]
     },
     "execution_count": 24,
     "metadata": {},
     "output_type": "execute_result"
    }
   ],
   "source": [
    "score"
   ]
  },
  {
   "cell_type": "code",
   "execution_count": 28,
   "metadata": {},
   "outputs": [
    {
     "ename": "ValueError",
     "evalue": "Input contains NaN, infinity or a value too large for dtype('float32').",
     "output_type": "error",
     "traceback": [
      "\u001b[0;31m---------------------------------------------------------------------------\u001b[0m",
      "\u001b[0;31mValueError\u001b[0m                                Traceback (most recent call last)",
      "\u001b[0;32m<ipython-input-28-bfa5469d7f5a>\u001b[0m in \u001b[0;36m<module>\u001b[0;34m\u001b[0m\n\u001b[1;32m      8\u001b[0m \u001b[0;34m\u001b[0m\u001b[0m\n\u001b[1;32m      9\u001b[0m \u001b[0;31m# Make predictions on the test data\u001b[0m\u001b[0;34m\u001b[0m\u001b[0;34m\u001b[0m\u001b[0;34m\u001b[0m\u001b[0m\n\u001b[0;32m---> 10\u001b[0;31m \u001b[0mpredictions\u001b[0m \u001b[0;34m=\u001b[0m \u001b[0mgradient_boosted\u001b[0m\u001b[0;34m.\u001b[0m\u001b[0mpredict\u001b[0m\u001b[0;34m(\u001b[0m\u001b[0mX_val_all\u001b[0m\u001b[0;34m)\u001b[0m\u001b[0;34m\u001b[0m\u001b[0;34m\u001b[0m\u001b[0m\n\u001b[0m\u001b[1;32m     11\u001b[0m \u001b[0;34m\u001b[0m\u001b[0m\n\u001b[1;32m     12\u001b[0m \u001b[0;31m# Evaluate the model\u001b[0m\u001b[0;34m\u001b[0m\u001b[0;34m\u001b[0m\u001b[0;34m\u001b[0m\u001b[0m\n",
      "\u001b[0;32m/opt/anaconda3/lib/python3.7/site-packages/sklearn/ensemble/gradient_boosting.py\u001b[0m in \u001b[0;36mpredict\u001b[0;34m(self, X)\u001b[0m\n\u001b[1;32m   2528\u001b[0m             \u001b[0mThe\u001b[0m \u001b[0mpredicted\u001b[0m \u001b[0mvalues\u001b[0m\u001b[0;34m.\u001b[0m\u001b[0;34m\u001b[0m\u001b[0;34m\u001b[0m\u001b[0m\n\u001b[1;32m   2529\u001b[0m         \"\"\"\n\u001b[0;32m-> 2530\u001b[0;31m         \u001b[0mX\u001b[0m \u001b[0;34m=\u001b[0m \u001b[0mcheck_array\u001b[0m\u001b[0;34m(\u001b[0m\u001b[0mX\u001b[0m\u001b[0;34m,\u001b[0m \u001b[0mdtype\u001b[0m\u001b[0;34m=\u001b[0m\u001b[0mDTYPE\u001b[0m\u001b[0;34m,\u001b[0m \u001b[0morder\u001b[0m\u001b[0;34m=\u001b[0m\u001b[0;34m\"C\"\u001b[0m\u001b[0;34m,\u001b[0m \u001b[0maccept_sparse\u001b[0m\u001b[0;34m=\u001b[0m\u001b[0;34m'csr'\u001b[0m\u001b[0;34m)\u001b[0m\u001b[0;34m\u001b[0m\u001b[0;34m\u001b[0m\u001b[0m\n\u001b[0m\u001b[1;32m   2531\u001b[0m         \u001b[0;31m# In regression we can directly return the raw value from the trees.\u001b[0m\u001b[0;34m\u001b[0m\u001b[0;34m\u001b[0m\u001b[0;34m\u001b[0m\u001b[0m\n\u001b[1;32m   2532\u001b[0m         \u001b[0;32mreturn\u001b[0m \u001b[0mself\u001b[0m\u001b[0;34m.\u001b[0m\u001b[0m_raw_predict\u001b[0m\u001b[0;34m(\u001b[0m\u001b[0mX\u001b[0m\u001b[0;34m)\u001b[0m\u001b[0;34m.\u001b[0m\u001b[0mravel\u001b[0m\u001b[0;34m(\u001b[0m\u001b[0;34m)\u001b[0m\u001b[0;34m\u001b[0m\u001b[0;34m\u001b[0m\u001b[0m\n",
      "\u001b[0;32m/opt/anaconda3/lib/python3.7/site-packages/sklearn/utils/validation.py\u001b[0m in \u001b[0;36mcheck_array\u001b[0;34m(array, accept_sparse, accept_large_sparse, dtype, order, copy, force_all_finite, ensure_2d, allow_nd, ensure_min_samples, ensure_min_features, warn_on_dtype, estimator)\u001b[0m\n\u001b[1;32m    540\u001b[0m         \u001b[0;32mif\u001b[0m \u001b[0mforce_all_finite\u001b[0m\u001b[0;34m:\u001b[0m\u001b[0;34m\u001b[0m\u001b[0;34m\u001b[0m\u001b[0m\n\u001b[1;32m    541\u001b[0m             _assert_all_finite(array,\n\u001b[0;32m--> 542\u001b[0;31m                                allow_nan=force_all_finite == 'allow-nan')\n\u001b[0m\u001b[1;32m    543\u001b[0m \u001b[0;34m\u001b[0m\u001b[0m\n\u001b[1;32m    544\u001b[0m     \u001b[0;32mif\u001b[0m \u001b[0mensure_min_samples\u001b[0m \u001b[0;34m>\u001b[0m \u001b[0;36m0\u001b[0m\u001b[0;34m:\u001b[0m\u001b[0;34m\u001b[0m\u001b[0;34m\u001b[0m\u001b[0m\n",
      "\u001b[0;32m/opt/anaconda3/lib/python3.7/site-packages/sklearn/utils/validation.py\u001b[0m in \u001b[0;36m_assert_all_finite\u001b[0;34m(X, allow_nan)\u001b[0m\n\u001b[1;32m     54\u001b[0m                 not allow_nan and not np.isfinite(X).all()):\n\u001b[1;32m     55\u001b[0m             \u001b[0mtype_err\u001b[0m \u001b[0;34m=\u001b[0m \u001b[0;34m'infinity'\u001b[0m \u001b[0;32mif\u001b[0m \u001b[0mallow_nan\u001b[0m \u001b[0;32melse\u001b[0m \u001b[0;34m'NaN, infinity'\u001b[0m\u001b[0;34m\u001b[0m\u001b[0;34m\u001b[0m\u001b[0m\n\u001b[0;32m---> 56\u001b[0;31m             \u001b[0;32mraise\u001b[0m \u001b[0mValueError\u001b[0m\u001b[0;34m(\u001b[0m\u001b[0mmsg_err\u001b[0m\u001b[0;34m.\u001b[0m\u001b[0mformat\u001b[0m\u001b[0;34m(\u001b[0m\u001b[0mtype_err\u001b[0m\u001b[0;34m,\u001b[0m \u001b[0mX\u001b[0m\u001b[0;34m.\u001b[0m\u001b[0mdtype\u001b[0m\u001b[0;34m)\u001b[0m\u001b[0;34m)\u001b[0m\u001b[0;34m\u001b[0m\u001b[0;34m\u001b[0m\u001b[0m\n\u001b[0m\u001b[1;32m     57\u001b[0m     \u001b[0;31m# for object dtype data, we only check for NaNs (GH-13254)\u001b[0m\u001b[0;34m\u001b[0m\u001b[0;34m\u001b[0m\u001b[0;34m\u001b[0m\u001b[0m\n\u001b[1;32m     58\u001b[0m     \u001b[0;32melif\u001b[0m \u001b[0mX\u001b[0m\u001b[0;34m.\u001b[0m\u001b[0mdtype\u001b[0m \u001b[0;34m==\u001b[0m \u001b[0mnp\u001b[0m\u001b[0;34m.\u001b[0m\u001b[0mdtype\u001b[0m\u001b[0;34m(\u001b[0m\u001b[0;34m'object'\u001b[0m\u001b[0;34m)\u001b[0m \u001b[0;32mand\u001b[0m \u001b[0;32mnot\u001b[0m \u001b[0mallow_nan\u001b[0m\u001b[0;34m:\u001b[0m\u001b[0;34m\u001b[0m\u001b[0;34m\u001b[0m\u001b[0m\n",
      "\u001b[0;31mValueError\u001b[0m: Input contains NaN, infinity or a value too large for dtype('float32')."
     ]
    }
   ],
   "source": [
    "from sklearn.ensemble import GradientBoostingRegressor\n",
    "\n",
    "# Create the model\n",
    "gradient_boosted = GradientBoostingRegressor(random_state=19)\n",
    "\n",
    "# Fit the model on the training data\n",
    "gradient_boosted.fit(X_train_all, y_train)\n",
    "\n",
    "# Make predictions on the test data\n",
    "predictions = gradient_boosted.predict(X_val_all)\n",
    "\n",
    "# Evaluate the model\n",
    "mae = np.mean(abs(predictions - y_val))\n",
    "\n",
    "print('Gradient Boosted Performance on the test set: MAE = %0.4f' % mae)"
   ]
  },
  {
   "cell_type": "code",
   "execution_count": 31,
   "metadata": {},
   "outputs": [
    {
     "name": "stdout",
     "output_type": "stream",
     "text": [
      "<class 'pandas.core.frame.DataFrame'>\n",
      "RangeIndex: 3403 entries, 0 to 3402\n",
      "Data columns (total 27 columns):\n",
      " #   Column                                                                      Non-Null Count  Dtype  \n",
      "---  ------                                                                      --------------  -----  \n",
      " 0   percent_student_enrollment_white                                            3403 non-null   float64\n",
      " 1   percent_student_enrollment_black_or_african_american                        3403 non-null   float64\n",
      " 2   percent_student_enrollment_hispanic_or_latino                               3403 non-null   float64\n",
      " 3   percent_student_enrollment_asian                                            3403 non-null   float64\n",
      " 4   percent_student_enrollment_native_hawaiian_or_other_pacific_islander        3403 non-null   float64\n",
      " 5   percent_student_enrollment_american_indian_or_alaska_native                 3403 non-null   float64\n",
      " 6   percent_student_enrollment_two_or_more_races                                3403 non-null   float64\n",
      " 7   number_student_enrollment                                                   3403 non-null   float64\n",
      " 8   total_number_of_school_days                                                 3403 non-null   float64\n",
      " 9   student_attendance_rate                                                     3403 non-null   float64\n",
      " 10  student_chronic_truancy_rate                                                3403 non-null   float64\n",
      " 11  high_school_dropout_rate_total                                              3403 non-null   float64\n",
      " 12  high_school_5_year_graduation_rate_total                                    3403 non-null   float64\n",
      " 13  avg_class_size_high_school                                                  3403 non-null   float64\n",
      " 14  pupil_teacher_ratio_high_school                                             3403 non-null   float64\n",
      " 15  teacher_retention_rate                                                      3403 non-null   float64\n",
      " 16  percent_graduates_enrolled_in_a_postsecondary_institution_within_16_months  3403 non-null   float64\n",
      " 17  percent_graduates_enrolled_in_a_postsecondary_institution_within_12_months  3403 non-null   float64\n",
      " 18  percent_9th_grade_on_track                                                  3403 non-null   float64\n",
      " 19  district_type_HIGH SCHOOL                                                   721 non-null    float64\n",
      " 20  district_type_UNIT                                                          721 non-null    float64\n",
      " 21  district_size_LARGE                                                         721 non-null    float64\n",
      " 22  district_size_MEDIUM                                                        721 non-null    float64\n",
      " 23  district_size_SMALL                                                         721 non-null    float64\n",
      " 24  school_type_CHARTER SCH                                                     721 non-null    float64\n",
      " 25  school_type_ELEMENTARY                                                      721 non-null    float64\n",
      " 26  school_type_HIGH SCHOOL                                                     721 non-null    float64\n",
      "dtypes: float64(27)\n",
      "memory usage: 717.9 KB\n"
     ]
    }
   ],
   "source": [
    "X_val_all.info()"
   ]
  },
  {
   "cell_type": "code",
   "execution_count": null,
   "metadata": {},
   "outputs": [],
   "source": []
  },
  {
   "cell_type": "markdown",
   "metadata": {},
   "source": [
    "# 7. Select model"
   ]
  },
  {
   "cell_type": "code",
   "execution_count": null,
   "metadata": {},
   "outputs": [],
   "source": []
  },
  {
   "cell_type": "code",
   "execution_count": null,
   "metadata": {},
   "outputs": [],
   "source": []
  },
  {
   "cell_type": "markdown",
   "metadata": {},
   "source": [
    "# 8. grid search w cross val"
   ]
  },
  {
   "cell_type": "code",
   "execution_count": null,
   "metadata": {},
   "outputs": [],
   "source": [
    "# Loss function to be optimized\n",
    "loss = ['ls', 'lad', 'huber']\n",
    "\n",
    "# Number of trees used in the boosting process\n",
    "n_estimators = [100, 500, 900, 1100, 1500]\n",
    "\n",
    "# Maximum depth of each tree\n",
    "max_depth = [2, 3, 5, 10, 15]\n",
    "\n",
    "# Minimum number of samples per leaf\n",
    "min_samples_leaf = [1, 2, 4, 6, 8]\n",
    "\n",
    "# Minimum number of samples to split a node\n",
    "min_samples_split = [2, 4, 6, 10]\n",
    "\n",
    "# Maximum number of features to consider for making splits\n",
    "max_features = ['auto', 'sqrt', 'log2', None]\n",
    "\n",
    "# Define the grid of hyperparameters to search\n",
    "hyperparameter_grid = {'loss': loss,\n",
    "                       'n_estimators': n_estimators,\n",
    "                       'max_depth': max_depth,\n",
    "                       'min_samples_leaf': min_samples_leaf,\n",
    "                       'min_samples_split': min_samples_split,\n",
    "                       'max_features': max_features}\n",
    "\n",
    "# Create the model to use for hyperparameter tuning\n",
    "model = GradientBoostingRegressor(random_state = 42)\n",
    "\n",
    "# Set up the random search with 4-fold cross validation\n",
    "random_cv = RandomizedSearchCV(estimator=model,\n",
    "                               param_distributions=hyperparameter_grid,\n",
    "                               cv=4, n_iter=25, \n",
    "                               scoring = 'neg_mean_absolute_error',\n",
    "                               n_jobs = -1, verbose = 1, \n",
    "                               return_train_score = True,\n",
    "                               random_state=42)\n",
    "\n",
    "# Fit on the training data\n",
    "random_cv.fit(X, y)"
   ]
  },
  {
   "cell_type": "code",
   "execution_count": null,
   "metadata": {},
   "outputs": [],
   "source": [
    "# Find the best combination of settings\n",
    "random_cv.best_estimator_\n"
   ]
  },
  {
   "cell_type": "markdown",
   "metadata": {},
   "source": [
    "# 9. train"
   ]
  },
  {
   "cell_type": "code",
   "execution_count": null,
   "metadata": {},
   "outputs": [],
   "source": []
  },
  {
   "cell_type": "code",
   "execution_count": null,
   "metadata": {},
   "outputs": [],
   "source": []
  },
  {
   "cell_type": "code",
   "execution_count": null,
   "metadata": {},
   "outputs": [],
   "source": []
  },
  {
   "cell_type": "code",
   "execution_count": null,
   "metadata": {},
   "outputs": [],
   "source": []
  },
  {
   "cell_type": "markdown",
   "metadata": {},
   "source": [
    "# 10. evalutate on test set"
   ]
  },
  {
   "cell_type": "code",
   "execution_count": null,
   "metadata": {},
   "outputs": [],
   "source": [
    "# Make predictions on the test set using default and final model\n",
    "default_pred = default_model.predict(X_test)\n",
    "final_pred = final_model.predict(X_test)"
   ]
  },
  {
   "cell_type": "code",
   "execution_count": null,
   "metadata": {},
   "outputs": [],
   "source": []
  },
  {
   "cell_type": "markdown",
   "metadata": {},
   "source": [
    "# 11. Model interpretation\n",
    "- feature impolrtances\n",
    " - create df & visualize\n",
    "- plot single decision tree\n",
    "- LIME"
   ]
  },
  {
   "cell_type": "code",
   "execution_count": null,
   "metadata": {},
   "outputs": [],
   "source": []
  },
  {
   "cell_type": "code",
   "execution_count": null,
   "metadata": {},
   "outputs": [],
   "source": []
  },
  {
   "cell_type": "code",
   "execution_count": null,
   "metadata": {},
   "outputs": [],
   "source": []
  },
  {
   "cell_type": "code",
   "execution_count": null,
   "metadata": {},
   "outputs": [],
   "source": []
  },
  {
   "cell_type": "markdown",
   "metadata": {},
   "source": [
    "### Step 5 FSM\n",
    "Linear Regression"
   ]
  },
  {
   "cell_type": "code",
   "execution_count": null,
   "metadata": {},
   "outputs": [],
   "source": [
    "X = num_features.drop(\"high_school_4_year_graduation_rate_total\", axis=1)\n",
    "y = num_features[\"high_school_4_year_graduation_rate_total\"]\n",
    "\n",
    "X_train, X_test, y_train, y_test = train_test_split(X, y, random_state=42)\n",
    "test=pd.DataFrame(X_train)\n",
    "test.info()\n"
   ]
  },
  {
   "cell_type": "code",
   "execution_count": null,
   "metadata": {},
   "outputs": [],
   "source": [
    "heatmap_numeric_w_dependent_variable(num_features, 'high_school_4_year_graduation_rate_total')\n",
    "plt.savefig('figures/heatmap.png')\n",
    "plt.show();"
   ]
  },
  {
   "cell_type": "code",
   "execution_count": null,
   "metadata": {},
   "outputs": [],
   "source": [
    "X = num_features.drop(\"high_school_4_year_graduation_rate_total\", axis=1)\n",
    "y = num_features[\"high_school_4_year_graduation_rate_total\"]\n",
    "\n",
    "X_train, X_test, y_train, y_test = train_test_split(X, y, random_state=42)"
   ]
  },
  {
   "cell_type": "code",
   "execution_count": null,
   "metadata": {},
   "outputs": [],
   "source": [
    "lin_reg_model = LinearRegression()\n",
    "baseline_cross_val_score = cross_val_score(lin_reg_model, X_train, y_train)\n",
    "baseline_cross_val_score"
   ]
  },
  {
   "cell_type": "code",
   "execution_count": null,
   "metadata": {},
   "outputs": [],
   "source": [
    "outcome = 'high_school_4_year_graduation_rate_total'\n",
    "predictors = num_features.drop('high_school_4_year_graduation_rate_total', axis=1)\n",
    "pred_sum = '+'.join(predictors.columns)\n",
    "formula = outcome + '~' + pred_sum\n",
    "model = ols(formula=formula, data=num_features).fit()\n",
    "model.summary()"
   ]
  },
  {
   "cell_type": "code",
   "execution_count": null,
   "metadata": {},
   "outputs": [],
   "source": []
  },
  {
   "cell_type": "code",
   "execution_count": null,
   "metadata": {},
   "outputs": [],
   "source": [
    "from sklearn.ensemble import RandomForestRegressor\n",
    "\n",
    "rfr= RandomForestRegressor(random_state=42)\n",
    "\n",
    "print(rfr.fit(X_train, y_train))\n",
    "print(cross_val_score(rfr, X_train, y_train))"
   ]
  },
  {
   "cell_type": "code",
   "execution_count": null,
   "metadata": {},
   "outputs": [],
   "source": []
  },
  {
   "cell_type": "code",
   "execution_count": null,
   "metadata": {},
   "outputs": [],
   "source": []
  },
  {
   "cell_type": "code",
   "execution_count": null,
   "metadata": {},
   "outputs": [],
   "source": []
  },
  {
   "cell_type": "code",
   "execution_count": null,
   "metadata": {},
   "outputs": [],
   "source": []
  },
  {
   "cell_type": "code",
   "execution_count": null,
   "metadata": {},
   "outputs": [],
   "source": []
  },
  {
   "cell_type": "code",
   "execution_count": null,
   "metadata": {},
   "outputs": [],
   "source": []
  }
 ],
 "metadata": {
  "kernelspec": {
   "display_name": "Python 3",
   "language": "python",
   "name": "python3"
  },
  "language_info": {
   "codemirror_mode": {
    "name": "ipython",
    "version": 3
   },
   "file_extension": ".py",
   "mimetype": "text/x-python",
   "name": "python",
   "nbconvert_exporter": "python",
   "pygments_lexer": "ipython3",
   "version": "3.7.4"
  }
 },
 "nbformat": 4,
 "nbformat_minor": 4
}
