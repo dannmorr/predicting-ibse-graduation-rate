{
 "cells": [
  {
   "cell_type": "markdown",
   "metadata": {},
   "source": [
    "# Modeling "
   ]
  },
  {
   "cell_type": "code",
   "execution_count": null,
   "metadata": {},
   "outputs": [],
   "source": []
  },
  {
   "cell_type": "code",
   "execution_count": null,
   "metadata": {},
   "outputs": [],
   "source": []
  },
  {
   "cell_type": "code",
   "execution_count": 103,
   "metadata": {},
   "outputs": [
    {
     "name": "stdout",
     "output_type": "stream",
     "text": [
      "The autoreload extension is already loaded. To reload it, use:\n",
      "  %reload_ext autoreload\n"
     ]
    }
   ],
   "source": [
    "%load_ext autoreload\n",
    "%autoreload 2\n",
    "import os\n",
    "import sys\n",
    "module_path = os.path.abspath(os.path.join(os.pardir, os.pardir))\n",
    "if module_path not in sys.path:\n",
    "    sys.path.append(module_path)"
   ]
  },
  {
   "cell_type": "code",
   "execution_count": 172,
   "metadata": {},
   "outputs": [],
   "source": [
    "# standard libraries\n",
    "import numpy as np\n",
    "import pandas as pd\n",
    "import matplotlib.pyplot as plt\n",
    "%matplotlib inline\n",
    "import seaborn as sns \n",
    "\n",
    "\n",
    "# statsmodels imports\n",
    "import statsmodels.api as sm\n",
    "import statsmodels.formula.api as smf\n",
    "from statsmodels.formula.api import ols\n",
    "\n",
    "\n",
    "# sklearn imports\n",
    "from sklearn.preprocessing import StandardScaler, OneHotEncoder\n",
    "from sklearn.linear_model import LinearRegression, Lasso, Ridge\n",
    "from sklearn.ensemble import RandomForestRegressor, GradientBoostingRegressor, ExtraTreesRegressor\n",
    "from sklearn.svm import SVR\n",
    "from sklearn.neighbors import KNeighborsRegressor\n",
    "from sklearn.metrics import r2_score, SCORERS\n",
    "from sklearn.model_selection import RandomizedSearchCV\n",
    "\n",
    "# turn off warnings\n",
    "import warnings\n",
    "warnings.simplefilter('ignore', category = DeprecationWarning)\n",
    "warnings.simplefilter('ignore', category = FutureWarning)\n",
    "\n",
    "# functions from .py file\n",
    "import src.eda_functions as fun\n",
    "\n",
    "# plot parameters\n",
    "plt.rcParams['figure.figsize'] = 10, 10\n",
    "plt.rcParams['axes.labelsize'] = 20\n",
    "plt.rcParams['axes.titlesize'] = 25\n",
    "plt.rcParams['xtick.labelsize'] = 18\n",
    "plt.rcParams['ytick.labelsize'] = 18\n",
    "plt.rcParams['axes.edgecolor'] = 'black'\n",
    "plt.rcParams['axes.facecolor'] = 'white'\n",
    "plt.rcParams['font.size'] = 16"
   ]
  },
  {
   "cell_type": "markdown",
   "metadata": {},
   "source": [
    "read in merged_data file"
   ]
  },
  {
   "cell_type": "code",
   "execution_count": 4,
   "metadata": {},
   "outputs": [],
   "source": [
    "train_set = pd.read_csv('../../data/train_set.csv')\n",
    "val_set = pd.read_csv('../../data/val_set.csv')\n",
    "test_set = pd.read_csv('../../data/test_set.csv')"
   ]
  },
  {
   "cell_type": "code",
   "execution_count": 5,
   "metadata": {},
   "outputs": [],
   "source": [
    "train_set['cohort'] = train_set['cohort'].astype('object')\n",
    "val_set['cohort'] = val_set['cohort'].astype('object')\n",
    "test_set['cohort'] = test_set['cohort'].astype('object')"
   ]
  },
  {
   "cell_type": "markdown",
   "metadata": {},
   "source": [
    "Separate X and y for each set"
   ]
  },
  {
   "cell_type": "code",
   "execution_count": 6,
   "metadata": {},
   "outputs": [],
   "source": [
    "X_train = train_set.drop('high_school_4_year_graduation_rate_total', axis=1)\n",
    "y_train = train_set.high_school_4_year_graduation_rate_total\n",
    "\n",
    "\n",
    "X_val = val_set.drop('high_school_4_year_graduation_rate_total', axis=1)\n",
    "y_val = val_set.high_school_4_year_graduation_rate_total\n",
    "\n",
    "X_test = test_set.drop('high_school_4_year_graduation_rate_total', axis=1)\n",
    "y_test = test_set.high_school_4_year_graduation_rate_total"
   ]
  },
  {
   "cell_type": "code",
   "execution_count": 7,
   "metadata": {},
   "outputs": [
    {
     "name": "stdout",
     "output_type": "stream",
     "text": [
      "<class 'pandas.core.frame.DataFrame'>\n",
      "RangeIndex: 3403 entries, 0 to 3402\n",
      "Data columns (total 28 columns):\n",
      " #   Column                                                                      Non-Null Count  Dtype  \n",
      "---  ------                                                                      --------------  -----  \n",
      " 0   cohort                                                                      3403 non-null   object \n",
      " 1   rcdts                                                                       3403 non-null   object \n",
      " 2   school_name                                                                 3403 non-null   object \n",
      " 3   district                                                                    3403 non-null   object \n",
      " 4   city                                                                        3403 non-null   object \n",
      " 5   county                                                                      3403 non-null   object \n",
      " 6   district_type                                                               3403 non-null   object \n",
      " 7   district_size                                                               3403 non-null   object \n",
      " 8   school_type                                                                 3403 non-null   object \n",
      " 9   grades_served                                                               3403 non-null   object \n",
      " 10  percent_student_enrollment_white                                            3403 non-null   float64\n",
      " 11  percent_student_enrollment_black_or_african_american                        3403 non-null   float64\n",
      " 12  percent_student_enrollment_hispanic_or_latino                               3403 non-null   float64\n",
      " 13  percent_student_enrollment_asian                                            3403 non-null   float64\n",
      " 14  percent_student_enrollment_native_hawaiian_or_other_pacific_islander        3403 non-null   float64\n",
      " 15  percent_student_enrollment_american_indian_or_alaska_native                 3403 non-null   float64\n",
      " 16  percent_student_enrollment_two_or_more_races                                3403 non-null   float64\n",
      " 17  number_student_enrollment                                                   3403 non-null   float64\n",
      " 18  total_number_of_school_days                                                 3403 non-null   float64\n",
      " 19  student_attendance_rate                                                     3403 non-null   float64\n",
      " 20  student_chronic_truancy_rate                                                3403 non-null   float64\n",
      " 21  high_school_dropout_rate_total                                              3401 non-null   float64\n",
      " 22  high_school_5_year_graduation_rate_total                                    3403 non-null   float64\n",
      " 23  avg_class_size_high_school                                                  3369 non-null   float64\n",
      " 24  teacher_retention_rate                                                      2671 non-null   float64\n",
      " 25  percent_graduates_enrolled_in_a_postsecondary_institution_within_16_months  3403 non-null   float64\n",
      " 26  percent_graduates_enrolled_in_a_postsecondary_institution_within_12_months  3403 non-null   float64\n",
      " 27  percent_9th_grade_on_track                                                  3403 non-null   float64\n",
      "dtypes: float64(18), object(10)\n",
      "memory usage: 744.5+ KB\n"
     ]
    }
   ],
   "source": [
    "X_train.info()"
   ]
  },
  {
   "cell_type": "code",
   "execution_count": 8,
   "metadata": {},
   "outputs": [
    {
     "data": {
      "text/plain": [
       "student_chronic_truancy_rate                                                  14\n",
       "student_attendance_rate                                                       12\n",
       "teacher_retention_rate                                                        12\n",
       "avg_class_size_high_school                                                     9\n",
       "total_number_of_school_days                                                    3\n",
       "high_school_dropout_rate_total                                                 1\n",
       "city                                                                           0\n",
       "school_type                                                                    0\n",
       "district_size                                                                  0\n",
       "district_type                                                                  0\n",
       "county                                                                         0\n",
       "percent_9th_grade_on_track                                                     0\n",
       "district                                                                       0\n",
       "percent_student_enrollment_white                                               0\n",
       "school_name                                                                    0\n",
       "rcdts                                                                          0\n",
       "grades_served                                                                  0\n",
       "percent_student_enrollment_asian                                               0\n",
       "percent_student_enrollment_black_or_african_american                           0\n",
       "percent_student_enrollment_hispanic_or_latino                                  0\n",
       "percent_graduates_enrolled_in_a_postsecondary_institution_within_12_months     0\n",
       "percent_student_enrollment_native_hawaiian_or_other_pacific_islander           0\n",
       "percent_student_enrollment_american_indian_or_alaska_native                    0\n",
       "percent_student_enrollment_two_or_more_races                                   0\n",
       "number_student_enrollment                                                      0\n",
       "high_school_5_year_graduation_rate_total                                       0\n",
       "percent_graduates_enrolled_in_a_postsecondary_institution_within_16_months     0\n",
       "cohort                                                                         0\n",
       "dtype: int64"
      ]
     },
     "execution_count": 8,
     "metadata": {},
     "output_type": "execute_result"
    }
   ],
   "source": [
    "X_test.isnull().sum().sort_values(ascending=False)"
   ]
  },
  {
   "cell_type": "markdown",
   "metadata": {},
   "source": [
    "## Replace NaNs with mean()\n"
   ]
  },
  {
   "cell_type": "markdown",
   "metadata": {},
   "source": [
    "Use SimpleImputer to replace NaNs with mean value of respective columns"
   ]
  },
  {
   "cell_type": "code",
   "execution_count": 9,
   "metadata": {},
   "outputs": [],
   "source": [
    "# identify features\n",
    "train_num = X_train.select_dtypes(['float64', 'int64'])\n",
    "val_num = X_val.select_dtypes(['float64', 'int64'])\n",
    "test_num = X_test.select_dtypes(['float64', 'int64'])"
   ]
  },
  {
   "cell_type": "code",
   "execution_count": 10,
   "metadata": {},
   "outputs": [],
   "source": [
    "# instatiate imputer\n",
    "imputer = SimpleImputer(strategy='median')\n",
    "\n",
    "# fit on the training features\n",
    "imputer.fit(train_num)\n",
    "\n",
    "# transform both training data and testing data\n",
    "train_imp= imputer.transform(train_num)\n",
    "val_imp = imputer.transform(val_num)\n",
    "test_imp = imputer.transform(test_num)\n",
    "\n",
    "# return to DataFrame\n",
    "X_train_imp = pd.DataFrame(train_imp, columns=train_num.columns, index=X_train.index)\n",
    "X_val_imp = pd.DataFrame(val_imp, columns=val_num.columns, index=X_val.index)\n",
    "X_test_imp = pd.DataFrame(test_imp, columns=test_num.columns, index=X_test.index)\n"
   ]
  },
  {
   "cell_type": "markdown",
   "metadata": {},
   "source": [
    "# Scaling Numeric features\n",
    "Using Standard Scaler"
   ]
  },
  {
   "cell_type": "code",
   "execution_count": 63,
   "metadata": {},
   "outputs": [],
   "source": [
    "# identify features\n",
    "X_train_num = X_train_imp.select_dtypes(['float64', 'int64'])\n",
    "X_val_num = X_val_imp.select_dtypes(['float64', 'int64'])\n",
    "X_test_num = X_test_imp.select_dtypes(['float64', 'int64'])"
   ]
  },
  {
   "cell_type": "code",
   "execution_count": 15,
   "metadata": {},
   "outputs": [],
   "source": [
    "# instatiate scaler\n",
    "ss = StandardScaler()\n",
    "\n",
    "# Train on the training features\n",
    "ss.fit(X_train_num)\n",
    "\n",
    "# Transform both training data and testing data\n",
    "X_train_sc= ss.transform(X_train_num)\n",
    "X_val_sc = ss.transform(X_val_num)\n",
    "X_test_sc = ss.transform(X_test_num)\n",
    "\n",
    "\n",
    "X_train_sc = pd.DataFrame(X_train_sc, columns=X_train_num.columns, index=X_train.index)\n",
    "X_val_sc = pd.DataFrame(X_val_sc, columns=X_val_num.columns, index=X_val.index)\n",
    "X_test_sc = pd.DataFrame(X_test_sc, columns=X_test_num.columns, index=X_test.index)\n"
   ]
  },
  {
   "cell_type": "markdown",
   "metadata": {},
   "source": [
    "# Encoding Categorical features"
   ]
  },
  {
   "cell_type": "code",
   "execution_count": 16,
   "metadata": {},
   "outputs": [],
   "source": [
    "# identify features\n",
    "X_train_cat = X_train[['district_type', 'district_size', 'school_type']]\n",
    "X_val_cat = X_val[['district_type', 'district_size', 'school_type']]\n",
    "X_test_cat = X_test[['district_type', 'district_size', 'school_type']]"
   ]
  },
  {
   "cell_type": "code",
   "execution_count": 78,
   "metadata": {},
   "outputs": [
    {
     "data": {
      "text/html": [
       "<div>\n",
       "<style scoped>\n",
       "    .dataframe tbody tr th:only-of-type {\n",
       "        vertical-align: middle;\n",
       "    }\n",
       "\n",
       "    .dataframe tbody tr th {\n",
       "        vertical-align: top;\n",
       "    }\n",
       "\n",
       "    .dataframe thead th {\n",
       "        text-align: right;\n",
       "    }\n",
       "</style>\n",
       "<table border=\"1\" class=\"dataframe\">\n",
       "  <thead>\n",
       "    <tr style=\"text-align: right;\">\n",
       "      <th></th>\n",
       "      <th>district_type</th>\n",
       "      <th>district_size</th>\n",
       "      <th>school_type</th>\n",
       "    </tr>\n",
       "  </thead>\n",
       "  <tbody>\n",
       "    <tr>\n",
       "      <th>0</th>\n",
       "      <td>UNIT</td>\n",
       "      <td>MEDIUM</td>\n",
       "      <td>HIGH SCHOOL</td>\n",
       "    </tr>\n",
       "    <tr>\n",
       "      <th>1</th>\n",
       "      <td>UNIT</td>\n",
       "      <td>MEDIUM</td>\n",
       "      <td>HIGH SCHOOL</td>\n",
       "    </tr>\n",
       "    <tr>\n",
       "      <th>2</th>\n",
       "      <td>UNIT</td>\n",
       "      <td>MEDIUM</td>\n",
       "      <td>HIGH SCHOOL</td>\n",
       "    </tr>\n",
       "    <tr>\n",
       "      <th>3</th>\n",
       "      <td>UNIT</td>\n",
       "      <td>MEDIUM</td>\n",
       "      <td>HIGH SCHOOL</td>\n",
       "    </tr>\n",
       "    <tr>\n",
       "      <th>4</th>\n",
       "      <td>UNIT</td>\n",
       "      <td>LARGE</td>\n",
       "      <td>HIGH SCHOOL</td>\n",
       "    </tr>\n",
       "    <tr>\n",
       "      <th>...</th>\n",
       "      <td>...</td>\n",
       "      <td>...</td>\n",
       "      <td>...</td>\n",
       "    </tr>\n",
       "    <tr>\n",
       "      <th>715</th>\n",
       "      <td>UNIT</td>\n",
       "      <td>LARGE</td>\n",
       "      <td>HIGH SCHOOL</td>\n",
       "    </tr>\n",
       "    <tr>\n",
       "      <th>716</th>\n",
       "      <td>UNIT</td>\n",
       "      <td>LARGE</td>\n",
       "      <td>HIGH SCHOOL</td>\n",
       "    </tr>\n",
       "    <tr>\n",
       "      <th>717</th>\n",
       "      <td>UNIT</td>\n",
       "      <td>LARGE</td>\n",
       "      <td>HIGH SCHOOL</td>\n",
       "    </tr>\n",
       "    <tr>\n",
       "      <th>718</th>\n",
       "      <td>HIGH SCHOOL</td>\n",
       "      <td>LARGE</td>\n",
       "      <td>HIGH SCHOOL</td>\n",
       "    </tr>\n",
       "    <tr>\n",
       "      <th>719</th>\n",
       "      <td>HIGH SCHOOL</td>\n",
       "      <td>LARGE</td>\n",
       "      <td>HIGH SCHOOL</td>\n",
       "    </tr>\n",
       "  </tbody>\n",
       "</table>\n",
       "<p>720 rows × 3 columns</p>\n",
       "</div>"
      ],
      "text/plain": [
       "    district_type district_size  school_type\n",
       "0            UNIT        MEDIUM  HIGH SCHOOL\n",
       "1            UNIT        MEDIUM  HIGH SCHOOL\n",
       "2            UNIT        MEDIUM  HIGH SCHOOL\n",
       "3            UNIT        MEDIUM  HIGH SCHOOL\n",
       "4            UNIT         LARGE  HIGH SCHOOL\n",
       "..            ...           ...          ...\n",
       "715          UNIT         LARGE  HIGH SCHOOL\n",
       "716          UNIT         LARGE  HIGH SCHOOL\n",
       "717          UNIT         LARGE  HIGH SCHOOL\n",
       "718   HIGH SCHOOL         LARGE  HIGH SCHOOL\n",
       "719   HIGH SCHOOL         LARGE  HIGH SCHOOL\n",
       "\n",
       "[720 rows x 3 columns]"
      ]
     },
     "execution_count": 78,
     "metadata": {},
     "output_type": "execute_result"
    }
   ],
   "source": [
    "# change these objects to categories\n",
    "X_train_cat.loc[:, ('district_type', 'district_size', 'school_type')].astype('category')\n",
    "X_val_cat.loc[:, ('district_type', 'district_size', 'school_type')].astype('category')\n",
    "X_test_cat.loc[:, ('district_type', 'district_size', 'school_type')].astype('category')"
   ]
  },
  {
   "cell_type": "code",
   "execution_count": 87,
   "metadata": {},
   "outputs": [
    {
     "data": {
      "text/plain": [
       "0       HIGH SCHOOL\n",
       "1       HIGH SCHOOL\n",
       "2       HIGH SCHOOL\n",
       "3       HIGH SCHOOL\n",
       "4       HIGH SCHOOL\n",
       "           ...     \n",
       "3398    HIGH SCHOOL\n",
       "3399    HIGH SCHOOL\n",
       "3400    HIGH SCHOOL\n",
       "3401    HIGH SCHOOL\n",
       "3402    HIGH SCHOOL\n",
       "Name: school_type, Length: 3403, dtype: object"
      ]
     },
     "execution_count": 87,
     "metadata": {},
     "output_type": "execute_result"
    }
   ],
   "source": [
    "X_train_cat.district_type.str.rstrip()\n",
    "X_train_cat.district_size.str.rstrip()\n",
    "X_train_cat.school_type.str.rstrip()"
   ]
  },
  {
   "cell_type": "code",
   "execution_count": 82,
   "metadata": {},
   "outputs": [
    {
     "data": {
      "text/plain": [
       "0      HIGH SCHOOL\n",
       "1      HIGH SCHOOL\n",
       "2      HIGH SCHOOL\n",
       "3      HIGH SCHOOL\n",
       "4      HIGH SCHOOL\n",
       "          ...     \n",
       "716    HIGH SCHOOL\n",
       "717    HIGH SCHOOL\n",
       "718    HIGH SCHOOL\n",
       "719    HIGH SCHOOL\n",
       "720    HIGH SCHOOL\n",
       "Name: school_type, Length: 721, dtype: object"
      ]
     },
     "execution_count": 82,
     "metadata": {},
     "output_type": "execute_result"
    }
   ],
   "source": [
    "X_val_cat.district_type.str.rstrip()\n",
    "X_val_cat.district_size.str.rstrip()\n",
    "X_val_cat.school_type.str.rstrip()"
   ]
  },
  {
   "cell_type": "code",
   "execution_count": 83,
   "metadata": {},
   "outputs": [
    {
     "data": {
      "text/plain": [
       "0      HIGH SCHOOL\n",
       "1      HIGH SCHOOL\n",
       "2      HIGH SCHOOL\n",
       "3      HIGH SCHOOL\n",
       "4      HIGH SCHOOL\n",
       "          ...     \n",
       "715    HIGH SCHOOL\n",
       "716    HIGH SCHOOL\n",
       "717    HIGH SCHOOL\n",
       "718    HIGH SCHOOL\n",
       "719    HIGH SCHOOL\n",
       "Name: school_type, Length: 720, dtype: object"
      ]
     },
     "execution_count": 83,
     "metadata": {},
     "output_type": "execute_result"
    }
   ],
   "source": [
    "X_test_cat.district_type.str.rstrip()\n",
    "X_test_cat.district_size.str.rstrip()\n",
    "X_test_cat.school_type.str.rstrip()"
   ]
  },
  {
   "cell_type": "code",
   "execution_count": 88,
   "metadata": {},
   "outputs": [],
   "source": [
    "#encode the categoricals\n",
    "ohe = OneHotEncoder(drop='first')\n",
    "\n",
    "ohe.fit(X_train_cat)\n",
    "\n",
    "X_train_ohe = ohe.transform(X_train_cat).toarray()\n",
    "X_val_ohe = ohe.transform(X_val_cat).toarray()\n",
    "X_test_ohe = ohe.transform(X_test_cat).toarray()\n",
    "\n",
    "# Creating this DataFrame is not necessary its only to show the result of the ohe\n",
    "X_train_processed = pd.DataFrame(X_train_ohe, columns=ohe.get_feature_names(X_train_cat.columns))\n",
    "X_val_processed = pd.DataFrame(X_val_ohe, columns=ohe.get_feature_names(X_val_cat.columns))\n",
    "X_test_processed = pd.DataFrame(X_test_ohe, columns=ohe.get_feature_names(X_test_cat.columns))"
   ]
  },
  {
   "cell_type": "code",
   "execution_count": 93,
   "metadata": {},
   "outputs": [],
   "source": [
    "X_train_all = pd.concat([X_train_sc, X_train_processed], axis=1)\n",
    "X_val_all = pd.concat([X_val_sc, X_val_processed], axis=1)\n",
    "X_test_all = pd.concat([X_test_sc, X_test_processed], axis=1)\n"
   ]
  },
  {
   "cell_type": "markdown",
   "metadata": {},
   "source": [
    "# 6. Test models\n",
    "- Linear Regression\n",
    "- Random Forest\n",
    "- Gradient Boost\n",
    "- Lasso\n",
    "- Ridge\n",
    "- SVM\n",
    "- KNN"
   ]
  },
  {
   "cell_type": "code",
   "execution_count": 108,
   "metadata": {},
   "outputs": [],
   "source": [
    "# Takes in a model, trains the model, and evaluates the model on the test set\n",
    "def fit_and_eval(model):\n",
    "    \n",
    "    # Train the model\n",
    "    model.fit(X_train_all, y_train)\n",
    "    \n",
    "    # Make predictions and evalute\n",
    "    model_pred = model.predict(X_val_all)\n",
    "    model_r2 = r2_score(y_val, model_pred)\n",
    "    # Return the performance metric\n",
    "    return model_r2"
   ]
  },
  {
   "cell_type": "code",
   "execution_count": 129,
   "metadata": {},
   "outputs": [
    {
     "name": "stdout",
     "output_type": "stream",
     "text": [
      "Linear Regression Performance on the validation set: R2 = 0.4296\n"
     ]
    }
   ],
   "source": [
    "linreg = LinearRegression()\n",
    "linreg_r2 = fit_and_eval(linreg)\n",
    "\n",
    "print('Linear Regression Performance on the validation set: R2 = %0.4f' % linreg_r2)"
   ]
  },
  {
   "cell_type": "code",
   "execution_count": 130,
   "metadata": {},
   "outputs": [
    {
     "name": "stdout",
     "output_type": "stream",
     "text": [
      "Random Forest Performance on the validation set: R2 = 0.4526\n"
     ]
    }
   ],
   "source": [
    "random_forest = RandomForestRegressor(random_state=19)\n",
    "random_forest_r2 = fit_and_eval(random_forest)\n",
    "\n",
    "print('Random Forest Performance on the validation set: R2 = %0.4f' % random_forest_r2)"
   ]
  },
  {
   "cell_type": "code",
   "execution_count": 131,
   "metadata": {},
   "outputs": [
    {
     "name": "stdout",
     "output_type": "stream",
     "text": [
      "Extra Trees Performance on the validation set: R2 = 0.5548\n"
     ]
    }
   ],
   "source": [
    "extra_trees = ExtraTreesRegressor(random_state=19)\n",
    "extra_trees_r2 = fit_and_eval(extra_trees)\n",
    "\n",
    "print('Extra Trees Performance on the validation set: R2 = %0.4f' % extra_trees_r2)"
   ]
  },
  {
   "cell_type": "code",
   "execution_count": 132,
   "metadata": {},
   "outputs": [
    {
     "name": "stdout",
     "output_type": "stream",
     "text": [
      "Gradient Boosting Performance on the validation set: R2 = 0.5584\n"
     ]
    }
   ],
   "source": [
    "grad_boost = GradientBoostingRegressor(random_state=19)\n",
    "grad_boost_r2 = fit_and_eval(grad_boost)\n",
    "\n",
    "print('Gradient Boosting Performance on the validation set: R2 = %0.4f' % grad_boost_r2)"
   ]
  },
  {
   "cell_type": "code",
   "execution_count": 133,
   "metadata": {},
   "outputs": [
    {
     "name": "stdout",
     "output_type": "stream",
     "text": [
      "Lasso model Performance on the validation set: R2 = 0.4901\n"
     ]
    }
   ],
   "source": [
    "# Create the model\n",
    "lasso = Lasso(random_state=19)\n",
    "lasso_r2 = fit_and_eval(lasso)\n",
    "\n",
    "print('Lasso model Performance on the validation set: R2 = %0.4f' % lasso_r2)"
   ]
  },
  {
   "cell_type": "code",
   "execution_count": 134,
   "metadata": {},
   "outputs": [
    {
     "name": "stdout",
     "output_type": "stream",
     "text": [
      "Ridge Model Performance on the validation set: R2 = 0.5313\n"
     ]
    }
   ],
   "source": [
    "ridge = Ridge(random_state=19)\n",
    "ridge_r2 = fit_and_eval(ridge)\n",
    "\n",
    "print('Ridge Model Performance on the validation set: R2 = %0.4f' % ridge_r2)"
   ]
  },
  {
   "cell_type": "code",
   "execution_count": 135,
   "metadata": {},
   "outputs": [
    {
     "name": "stdout",
     "output_type": "stream",
     "text": [
      "Support Vector Machine Regression Performance on the validation set: R2 = 0.3937\n"
     ]
    }
   ],
   "source": [
    "svr = SVR()\n",
    "svr_r2 = fit_and_eval(svr)\n",
    "\n",
    "print('Support Vector Machine Regression Performance on the validation set: R2 = %0.4f' % svr_r2)"
   ]
  },
  {
   "cell_type": "code",
   "execution_count": 136,
   "metadata": {},
   "outputs": [
    {
     "name": "stdout",
     "output_type": "stream",
     "text": [
      "K-Nearest Neighbors Regression Performance on the validation set: R2 = 0.4970\n"
     ]
    }
   ],
   "source": [
    "knn = KNeighborsRegressor()\n",
    "knn_r2 = fit_and_eval(knn)\n",
    "\n",
    "print('K-Nearest Neighbors Regression Performance on the validation set: R2 = %0.4f' % knn_r2)"
   ]
  },
  {
   "cell_type": "markdown",
   "metadata": {},
   "source": [
    "# Select best performing model"
   ]
  },
  {
   "cell_type": "code",
   "execution_count": 137,
   "metadata": {},
   "outputs": [
    {
     "data": {
      "image/png": "[encoded data removed]",
      "text/plain": [
       "<Figure size 432x288 with 1 Axes>"
      ]
     },
     "metadata": {
      "needs_background": "light"
     },
     "output_type": "display_data"
    }
   ],
   "source": [
    "# Dataframe to hold the results\n",
    "           \n",
    "model_comparison = pd.DataFrame({'model': ['Linear Regression','Random Forest',\n",
    "                                           'Extra Trees','Gradient Boosting',\n",
    "                                           'Lasso', 'Ridge', 'SVR','K-Nearest Neighbors'],\n",
    "                                 'r2': [linreg_r2, random_forest_r2, extra_trees_r2, \n",
    "                                         grad_boost_r2, lasso_r2, ridge_r2, svr_r2, knn_r2]})\n",
    "\n",
    "# Horizontal bar chart of test r2\n",
    "model_comparison.sort_values('r2', ascending = False).plot(x = 'model', y = 'r2', kind = 'barh',\n",
    "                                                           color = '#99BDCB', edgecolor = 'black')\n",
    "\n",
    "# Plot formatting\n",
    "plt.ylabel(''); plt.yticks(size = 14); plt.xlabel('R squared'); plt.xticks(size = 14)\n",
    "plt.title('Model Comparison on Validation Set - R squared', size = 20);"
   ]
  },
  {
   "cell_type": "markdown",
   "metadata": {},
   "source": [
    "#### Results: \n",
    "##### Gradient Boosting Regressor returns the highest R-squared value at 0.5584.\n",
    "\n",
    "##### Extra Trees is a close second at 0.5548.\n",
    "\n",
    "I will tune hyperparameters for each these models, then compare the results of that head-to-head to come decide on a final model."
   ]
  },
  {
   "cell_type": "markdown",
   "metadata": {},
   "source": [
    "# Tune hyperparamters with Randomized Search CV"
   ]
  },
  {
   "cell_type": "code",
   "execution_count": 145,
   "metadata": {},
   "outputs": [],
   "source": [
    "# Loss function to be optimized\n",
    "loss = ['ls', 'lad', 'huber']\n",
    "\n",
    "# Number of trees used in the boosting process\n",
    "n_estimators = [100, 500, 900, 1100, 1500]\n",
    "\n",
    "# Maximum depth of each tree\n",
    "max_depth = [2, 3, 5, 10, 15]\n",
    "\n",
    "# Minimum number of samples per leaf\n",
    "min_samples_leaf = [1, 2, 4, 6, 8]\n",
    "\n",
    "# Minimum number of samples to split a node\n",
    "min_samples_split = [2, 4, 6, 10]\n",
    "\n",
    "# Maximum number of features to consider for making splits\n",
    "max_features = ['auto', 'sqrt', 'log2', None]\n",
    "\n",
    "# Define the grid of hyperparameters to search\n",
    "hyperparameter_grid = {'n_estimators': n_estimators,\n",
    "                       'max_depth': max_depth,\n",
    "                       'min_samples_leaf': min_samples_leaf,\n",
    "                       'min_samples_split': min_samples_split,\n",
    "                       'max_features': max_features}"
   ]
  },
  {
   "cell_type": "markdown",
   "metadata": {},
   "source": [
    "#### Check out Gradient Boosting best model"
   ]
  },
  {
   "cell_type": "code",
   "execution_count": 153,
   "metadata": {},
   "outputs": [],
   "source": [
    "# Create the model to use for hyperparameter tuning\n",
    "model_1 = GradientBoostingRegressor(random_state = 19)\n",
    "\n",
    "# Set up the random search with 4-fold cross validation\n",
    "random_cv_1 = RandomizedSearchCV(estimator=model_1,\n",
    "                               param_distributions=hyperparameter_grid,\n",
    "                               cv=4, n_iter=25, \n",
    "                               scoring = 'r2',\n",
    "                               n_jobs = -1, verbose = 1, \n",
    "                               return_train_score = True,\n",
    "                               random_state=19)"
   ]
  },
  {
   "cell_type": "code",
   "execution_count": 154,
   "metadata": {},
   "outputs": [
    {
     "name": "stdout",
     "output_type": "stream",
     "text": [
      "Fitting 4 folds for each of 25 candidates, totalling 100 fits\n"
     ]
    },
    {
     "name": "stderr",
     "output_type": "stream",
     "text": [
      "[Parallel(n_jobs=-1)]: Using backend LokyBackend with 4 concurrent workers.\n",
      "[Parallel(n_jobs=-1)]: Done  42 tasks      | elapsed:  1.8min\n",
      "[Parallel(n_jobs=-1)]: Done 100 out of 100 | elapsed:  5.0min finished\n"
     ]
    },
    {
     "data": {
      "text/plain": [
       "RandomizedSearchCV(cv=4, error_score='raise-deprecating',\n",
       "                   estimator=GradientBoostingRegressor(alpha=0.9,\n",
       "                                                       criterion='friedman_mse',\n",
       "                                                       init=None,\n",
       "                                                       learning_rate=0.1,\n",
       "                                                       loss='ls', max_depth=3,\n",
       "                                                       max_features=None,\n",
       "                                                       max_leaf_nodes=None,\n",
       "                                                       min_impurity_decrease=0.0,\n",
       "                                                       min_impurity_split=None,\n",
       "                                                       min_samples_leaf=1,\n",
       "                                                       min_samples_split=2,\n",
       "                                                       min_weight_fraction_leaf=0.0,\n",
       "                                                       n_estimators=100,...\n",
       "                                                       validation_fraction=0.1,\n",
       "                                                       verbose=0,\n",
       "                                                       warm_start=False),\n",
       "                   iid='warn', n_iter=25, n_jobs=-1,\n",
       "                   param_distributions={'max_depth': [2, 3, 5, 10, 15],\n",
       "                                        'max_features': ['auto', 'sqrt', 'log2',\n",
       "                                                         None],\n",
       "                                        'min_samples_leaf': [1, 2, 4, 6, 8],\n",
       "                                        'min_samples_split': [2, 4, 6, 10],\n",
       "                                        'n_estimators': [100, 500, 900, 1100,\n",
       "                                                         1500]},\n",
       "                   pre_dispatch='2*n_jobs', random_state=19, refit=True,\n",
       "                   return_train_score=True, scoring='r2', verbose=1)"
      ]
     },
     "execution_count": 154,
     "metadata": {},
     "output_type": "execute_result"
    }
   ],
   "source": [
    "# Fit on the training data\n",
    "random_cv_1.fit(X_train_all, y_train)"
   ]
  },
  {
   "cell_type": "code",
   "execution_count": 155,
   "metadata": {},
   "outputs": [
    {
     "data": {
      "text/plain": [
       "GradientBoostingRegressor(alpha=0.9, criterion='friedman_mse', init=None,\n",
       "                          learning_rate=0.1, loss='ls', max_depth=3,\n",
       "                          max_features='log2', max_leaf_nodes=None,\n",
       "                          min_impurity_decrease=0.0, min_impurity_split=None,\n",
       "                          min_samples_leaf=6, min_samples_split=2,\n",
       "                          min_weight_fraction_leaf=0.0, n_estimators=100,\n",
       "                          n_iter_no_change=None, presort='auto',\n",
       "                          random_state=19, subsample=1.0, tol=0.0001,\n",
       "                          validation_fraction=0.1, verbose=0, warm_start=False)"
      ]
     },
     "execution_count": 155,
     "metadata": {},
     "output_type": "execute_result"
    }
   ],
   "source": [
    "# Find the best combination of settings\n",
    "random_cv_1.best_estimator_\n"
   ]
  },
  {
   "cell_type": "markdown",
   "metadata": {},
   "source": [
    "#### Evaluate model_1 - Gradient Boosting"
   ]
  },
  {
   "cell_type": "code",
   "execution_count": 161,
   "metadata": {},
   "outputs": [
    {
     "name": "stdout",
     "output_type": "stream",
     "text": [
      "Model_1 Performance on the validation set: R2 = 0.5914\n"
     ]
    }
   ],
   "source": [
    "model_1 = GradientBoostingRegressor(alpha=0.9, criterion='friedman_mse', init=None,\n",
    "                          learning_rate=0.1, loss='ls', max_depth=3,\n",
    "                          max_features='log2', max_leaf_nodes=None,\n",
    "                          min_impurity_decrease=0.0, min_impurity_split=None,\n",
    "                          min_samples_leaf=6, min_samples_split=2,\n",
    "                          min_weight_fraction_leaf=0.0, n_estimators=100,\n",
    "                          n_iter_no_change=None, presort='auto',\n",
    "                          random_state=19, subsample=1.0, tol=0.0001,\n",
    "                          validation_fraction=0.1, verbose=0, warm_start=False)\n",
    "\n",
    "\n",
    "model_1_r2 = fit_and_eval(model_1)\n",
    "\n",
    "print('Model_1 Performance on the validation set: R2 = %0.4f' % model_1_r2)"
   ]
  },
  {
   "cell_type": "markdown",
   "metadata": {},
   "source": [
    "#### Check out Extra Trees best model"
   ]
  },
  {
   "cell_type": "code",
   "execution_count": 160,
   "metadata": {},
   "outputs": [],
   "source": [
    "# create the model to use for hyperparameter tuning\n",
    "model_2 = ExtraTreesRegressor(random_state = 19)\n",
    "\n",
    "# set up the random search with 4-fold cross validation\n",
    "random_cv_2 = RandomizedSearchCV(estimator=model_2,\n",
    "                               param_distributions=hyperparameter_grid,\n",
    "                               cv=4, n_iter=25, \n",
    "                               scoring = 'r2',\n",
    "                               n_jobs = -1, verbose = 1, \n",
    "                               return_train_score = True,\n",
    "                               random_state=19)"
   ]
  },
  {
   "cell_type": "code",
   "execution_count": 158,
   "metadata": {},
   "outputs": [
    {
     "name": "stdout",
     "output_type": "stream",
     "text": [
      "Fitting 4 folds for each of 25 candidates, totalling 100 fits\n"
     ]
    },
    {
     "name": "stderr",
     "output_type": "stream",
     "text": [
      "[Parallel(n_jobs=-1)]: Using backend LokyBackend with 4 concurrent workers.\n",
      "[Parallel(n_jobs=-1)]: Done  42 tasks      | elapsed:  1.3min\n",
      "[Parallel(n_jobs=-1)]: Done 100 out of 100 | elapsed:  2.9min finished\n"
     ]
    },
    {
     "data": {
      "text/plain": [
       "RandomizedSearchCV(cv=4, error_score='raise-deprecating',\n",
       "                   estimator=ExtraTreesRegressor(bootstrap=False,\n",
       "                                                 criterion='mse',\n",
       "                                                 max_depth=None,\n",
       "                                                 max_features='auto',\n",
       "                                                 max_leaf_nodes=None,\n",
       "                                                 min_impurity_decrease=0.0,\n",
       "                                                 min_impurity_split=None,\n",
       "                                                 min_samples_leaf=1,\n",
       "                                                 min_samples_split=2,\n",
       "                                                 min_weight_fraction_leaf=0.0,\n",
       "                                                 n_estimators='warn',\n",
       "                                                 n_jobs=None, oob_score=False,\n",
       "                                                 random_stat..., verbose=0,\n",
       "                                                 warm_start=False),\n",
       "                   iid='warn', n_iter=25, n_jobs=-1,\n",
       "                   param_distributions={'max_depth': [2, 3, 5, 10, 15],\n",
       "                                        'max_features': ['auto', 'sqrt', 'log2',\n",
       "                                                         None],\n",
       "                                        'min_samples_leaf': [1, 2, 4, 6, 8],\n",
       "                                        'min_samples_split': [2, 4, 6, 10],\n",
       "                                        'n_estimators': [100, 500, 900, 1100,\n",
       "                                                         1500]},\n",
       "                   pre_dispatch='2*n_jobs', random_state=19, refit=True,\n",
       "                   return_train_score=True, scoring='r2', verbose=1)"
      ]
     },
     "execution_count": 158,
     "metadata": {},
     "output_type": "execute_result"
    }
   ],
   "source": [
    "# fit on the training data\n",
    "random_cv_2.fit(X_train_all, y_train)"
   ]
  },
  {
   "cell_type": "code",
   "execution_count": 159,
   "metadata": {},
   "outputs": [
    {
     "data": {
      "text/plain": [
       "ExtraTreesRegressor(bootstrap=False, criterion='mse', max_depth=15,\n",
       "                    max_features=None, max_leaf_nodes=None,\n",
       "                    min_impurity_decrease=0.0, min_impurity_split=None,\n",
       "                    min_samples_leaf=8, min_samples_split=4,\n",
       "                    min_weight_fraction_leaf=0.0, n_estimators=1500,\n",
       "                    n_jobs=None, oob_score=False, random_state=19, verbose=0,\n",
       "                    warm_start=False)"
      ]
     },
     "execution_count": 159,
     "metadata": {},
     "output_type": "execute_result"
    }
   ],
   "source": [
    "# find the best combination of settings\n",
    "random_cv_2.best_estimator_"
   ]
  },
  {
   "cell_type": "code",
   "execution_count": 162,
   "metadata": {},
   "outputs": [
    {
     "name": "stdout",
     "output_type": "stream",
     "text": [
      "Final Model Performance on the validation set: R2 = 0.6001\n"
     ]
    }
   ],
   "source": [
    "model_2 = ExtraTreesRegressor(bootstrap=False, criterion='mse', max_depth=15,\n",
    "                    max_features=None, max_leaf_nodes=None,\n",
    "                    min_impurity_decrease=0.0, min_impurity_split=None,\n",
    "                    min_samples_leaf=8, min_samples_split=4,\n",
    "                    min_weight_fraction_leaf=0.0, n_estimators=1500,\n",
    "                    n_jobs=None, oob_score=False, random_state=19, verbose=0,\n",
    "                    warm_start=False)\n",
    "\n",
    "\n",
    "model_2_r2 = fit_and_eval(model_2)\n",
    "\n",
    "print('Model Performance on the validation set: R2 = %0.4f' % model_2_r2)"
   ]
  },
  {
   "cell_type": "code",
   "execution_count": 164,
   "metadata": {},
   "outputs": [
    {
     "name": "stdout",
     "output_type": "stream",
     "text": [
      "Model_1 Performance on the validation set: R2 = 0.5914\n",
      "Model_2 Performance on the validation set: R2 = 0.6001\n"
     ]
    }
   ],
   "source": [
    "print('Model_1 Performance on the validation set: R2 = %0.4f' % model_1_r2)\n",
    "print('Model_2 Performance on the validation set: R2 = %0.4f' % model_2_r2)"
   ]
  },
  {
   "cell_type": "markdown",
   "metadata": {},
   "source": [
    "### Final result: Extra Trees just edges out Gradient Boosting.\n",
    "I'm glad I tuend and compared them head-to-head"
   ]
  },
  {
   "cell_type": "markdown",
   "metadata": {},
   "source": [
    "# Evaluate on test set"
   ]
  },
  {
   "cell_type": "code",
   "execution_count": 168,
   "metadata": {},
   "outputs": [
    {
     "name": "stdout",
     "output_type": "stream",
     "text": [
      "Final Model Performance on the test set: R2 = 0.5914\n"
     ]
    }
   ],
   "source": [
    "# Select the best model\n",
    "final_model = ExtraTreesRegressor(bootstrap=False, criterion='mse', max_depth=15,\n",
    "                    max_features=None, max_leaf_nodes=None,\n",
    "                    min_impurity_decrease=0.0, min_impurity_split=None,\n",
    "                    min_samples_leaf=8, min_samples_split=4,\n",
    "                    min_weight_fraction_leaf=0.0, n_estimators=1500,\n",
    "                    n_jobs=None, oob_score=False, random_state=19, verbose=0,\n",
    "                    warm_start=False)\n",
    "\n",
    "# Make predictions on the test set using final model\n",
    "final_model.fit(X_train_all, y_train)\n",
    "final_pred = final_model.predict(X_test_all)\n",
    "final_r2 = r2_score(y_test, final_pred)\n",
    "\n",
    "print('Final Model Performance on the test set: R2 = %0.4f' % final_model_r2)"
   ]
  },
  {
   "cell_type": "markdown",
   "metadata": {},
   "source": [
    "# Final model performance has an R-squared score of 0.5914.\n",
    "\n",
    "That is not as high as I had hoped, but for comparison:\n",
    "- My First Simple Model (OLS Linear Regression) had an R-squared score of 0.445\n",
    "- The Extra Trees model in it's default state  had a score of 0.5548.\n",
    "- The hypertuned Extra Trees model had a score of 0.6001.\n",
    "\n",
    "So, the model did improve by approximately 15 percentage points.\n",
    "The consistency of the final validation score and the test set score suggest that the is neither overfit nor underfit... which is a good result."
   ]
  },
  {
   "cell_type": "markdown",
   "metadata": {},
   "source": [
    "# Model interpretation\n",
    "- feature importances\n",
    "- plot single decision tree\n"
   ]
  },
  {
   "cell_type": "code",
   "execution_count": 169,
   "metadata": {},
   "outputs": [
    {
     "data": {
      "text/html": [
       "<div>\n",
       "<style scoped>\n",
       "    .dataframe tbody tr th:only-of-type {\n",
       "        vertical-align: middle;\n",
       "    }\n",
       "\n",
       "    .dataframe tbody tr th {\n",
       "        vertical-align: top;\n",
       "    }\n",
       "\n",
       "    .dataframe thead th {\n",
       "        text-align: right;\n",
       "    }\n",
       "</style>\n",
       "<table border=\"1\" class=\"dataframe\">\n",
       "  <thead>\n",
       "    <tr style=\"text-align: right;\">\n",
       "      <th></th>\n",
       "      <th>feature</th>\n",
       "      <th>importance</th>\n",
       "    </tr>\n",
       "  </thead>\n",
       "  <tbody>\n",
       "    <tr>\n",
       "      <th>0</th>\n",
       "      <td>high_school_5_year_graduation_rate_total</td>\n",
       "      <td>0.413822</td>\n",
       "    </tr>\n",
       "    <tr>\n",
       "      <th>1</th>\n",
       "      <td>high_school_dropout_rate_total</td>\n",
       "      <td>0.209835</td>\n",
       "    </tr>\n",
       "    <tr>\n",
       "      <th>2</th>\n",
       "      <td>student_chronic_truancy_rate</td>\n",
       "      <td>0.088068</td>\n",
       "    </tr>\n",
       "    <tr>\n",
       "      <th>3</th>\n",
       "      <td>student_attendance_rate</td>\n",
       "      <td>0.086662</td>\n",
       "    </tr>\n",
       "    <tr>\n",
       "      <th>4</th>\n",
       "      <td>percent_9th_grade_on_track</td>\n",
       "      <td>0.034700</td>\n",
       "    </tr>\n",
       "    <tr>\n",
       "      <th>5</th>\n",
       "      <td>school_type_HIGH SCHOOL</td>\n",
       "      <td>0.028559</td>\n",
       "    </tr>\n",
       "    <tr>\n",
       "      <th>6</th>\n",
       "      <td>percent_student_enrollment_white</td>\n",
       "      <td>0.026367</td>\n",
       "    </tr>\n",
       "    <tr>\n",
       "      <th>7</th>\n",
       "      <td>total_number_of_school_days</td>\n",
       "      <td>0.016520</td>\n",
       "    </tr>\n",
       "    <tr>\n",
       "      <th>8</th>\n",
       "      <td>percent_student_enrollment_black_or_african_am...</td>\n",
       "      <td>0.015335</td>\n",
       "    </tr>\n",
       "    <tr>\n",
       "      <th>9</th>\n",
       "      <td>avg_class_size_high_school</td>\n",
       "      <td>0.011342</td>\n",
       "    </tr>\n",
       "  </tbody>\n",
       "</table>\n",
       "</div>"
      ],
      "text/plain": [
       "                                             feature  importance\n",
       "0           high_school_5_year_graduation_rate_total    0.413822\n",
       "1                     high_school_dropout_rate_total    0.209835\n",
       "2                       student_chronic_truancy_rate    0.088068\n",
       "3                            student_attendance_rate    0.086662\n",
       "4                         percent_9th_grade_on_track    0.034700\n",
       "5                            school_type_HIGH SCHOOL    0.028559\n",
       "6                   percent_student_enrollment_white    0.026367\n",
       "7                        total_number_of_school_days    0.016520\n",
       "8  percent_student_enrollment_black_or_african_am...    0.015335\n",
       "9                         avg_class_size_high_school    0.011342"
      ]
     },
     "execution_count": 169,
     "metadata": {},
     "output_type": "execute_result"
    }
   ],
   "source": [
    "feature_results = pd.DataFrame({'feature': list(X_train_all.columns), \n",
    "                                'importance': final_model.feature_importances_})\n",
    "\n",
    "# Show the top 10 most important\n",
    "feature_results = feature_results.sort_values('importance', ascending = False).reset_index(drop=True)\n",
    "\n",
    "feature_results.head(10)"
   ]
  },
  {
   "cell_type": "code",
   "execution_count": 173,
   "metadata": {},
   "outputs": [
    {
     "data": {
      "image/png": "[encoded data removed]",
      "text/plain": [
       "<Figure size 720x720 with 1 Axes>"
      ]
     },
     "metadata": {
      "needs_background": "light"
     },
     "output_type": "display_data"
    }
   ],
   "source": [
    "# Plot the 10 most important features in a horizontal bar chart\n",
    "feature_results.loc[:9, :].plot(x = 'feature', y = 'importance', \n",
    "                                 edgecolor = 'k',\n",
    "                                 kind='barh', color = '#99BDCB');\n",
    "plt.xlabel('Relative Importance', size = 20); plt.ylabel('')\n",
    "plt.title('Feature Importances from Random Forest', size = 30);"
   ]
  },
  {
   "cell_type": "code",
   "execution_count": null,
   "metadata": {},
   "outputs": [],
   "source": []
  },
  {
   "cell_type": "code",
   "execution_count": null,
   "metadata": {},
   "outputs": [],
   "source": []
  }
 ],
 "metadata": {
  "kernelspec": {
   "display_name": "grad-env",
   "language": "python",
   "name": "grad-env"
  },
  "language_info": {
   "codemirror_mode": {
    "name": "ipython",
    "version": 3
   },
   "file_extension": ".py",
   "mimetype": "text/x-python",
   "name": "python",
   "nbconvert_exporter": "python",
   "pygments_lexer": "ipython3",
   "version": "3.7.4"
  }
 },
 "nbformat": 4,
 "nbformat_minor": 4
}
